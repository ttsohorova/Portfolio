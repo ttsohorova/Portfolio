{
 "cells": [
  {
   "cell_type": "markdown",
   "metadata": {},
   "source": [
    "# Анализ гипотез для увеличения выручки\n",
    "\n",
    "В нашем распоряжении данные о гипотезах для увеличения выручки. \n",
    "Задачи - приоритизирывать гипотезы и запустить A/B-тест. Цель - принятие решения по результатам теста. \n",
    "\n",
    "**Описание данных:**\n",
    "\n",
    "**Данные для первой части**\n",
    "\n",
    "Файл /datasets/hypothesis.csv\n",
    "\n",
    "- Hypothesis — краткое описание гипотезы;\n",
    "\n",
    "- Reach — охват пользователей по 10-балльной шкале;\n",
    "\n",
    "- Impact — влияние на пользователей по 10-балльной шкале;\n",
    "\n",
    "- Confidence — уверенность в гипотезе по 10-балльной шкале;\n",
    "\n",
    "- Efforts — затраты ресурсов на проверку гипотезы по 10-балльной шкале. Чем больше значение Efforts, тем дороже проверка гипотезы.\n",
    "\n",
    "**Данные для второй части**\n",
    "\n",
    "Файл /datasets/orders.csv\n",
    "\n",
    "- transactionId — идентификатор заказа;\n",
    "\n",
    "- visitorId — идентификатор пользователя, совершившего заказ;\n",
    "\n",
    "- date — дата, когда был совершён заказ;\n",
    "\n",
    "- revenue — выручка заказа;\n",
    "\n",
    "- group — группа A/B-теста, в которую попал заказ.\n",
    "\n",
    "Файл /datasets/visitors.csv\n",
    "\n",
    "- date — дата;\n",
    "\n",
    "- group — группа A/B-теста;\n",
    "\n",
    "- visitors — количество пользователей в указанную дату в указанной группе A/B-теста"
   ]
  },
  {
   "cell_type": "markdown",
   "metadata": {},
   "source": [
    "### Загрузим данные и подготовим их к анализу"
   ]
  },
  {
   "cell_type": "code",
   "execution_count": 1,
   "metadata": {},
   "outputs": [],
   "source": [
    "import pandas as pd\n",
    "import scipy.stats as stats\n",
    "import datetime as dt\n",
    "import numpy as np\n",
    "import matplotlib.pyplot as plt\n",
    "from pandas.plotting import register_matplotlib_converters\n",
    "import warnings"
   ]
  },
  {
   "cell_type": "code",
   "execution_count": 2,
   "metadata": {},
   "outputs": [],
   "source": [
    "hypothesis = pd.read_csv('/datasets/hypothesis.csv')\n",
    "orders = pd.read_csv('/datasets/orders.csv')\n",
    "visitors = pd.read_csv('/datasets/visitors.csv')"
   ]
  },
  {
   "cell_type": "code",
   "execution_count": 3,
   "metadata": {},
   "outputs": [
    {
     "data": {
      "text/html": [
       "<div>\n",
       "<style scoped>\n",
       "    .dataframe tbody tr th:only-of-type {\n",
       "        vertical-align: middle;\n",
       "    }\n",
       "\n",
       "    .dataframe tbody tr th {\n",
       "        vertical-align: top;\n",
       "    }\n",
       "\n",
       "    .dataframe thead th {\n",
       "        text-align: right;\n",
       "    }\n",
       "</style>\n",
       "<table border=\"1\" class=\"dataframe\">\n",
       "  <thead>\n",
       "    <tr style=\"text-align: right;\">\n",
       "      <th></th>\n",
       "      <th>Hypothesis</th>\n",
       "      <th>Reach</th>\n",
       "      <th>Impact</th>\n",
       "      <th>Confidence</th>\n",
       "      <th>Efforts</th>\n",
       "    </tr>\n",
       "  </thead>\n",
       "  <tbody>\n",
       "    <tr>\n",
       "      <th>0</th>\n",
       "      <td>Добавить два новых канала привлечения трафика, что позволит привлекать на 30% больше пользователей</td>\n",
       "      <td>3</td>\n",
       "      <td>10</td>\n",
       "      <td>8</td>\n",
       "      <td>6</td>\n",
       "    </tr>\n",
       "    <tr>\n",
       "      <th>1</th>\n",
       "      <td>Запустить собственную службу доставки, что сократит срок доставки заказов</td>\n",
       "      <td>2</td>\n",
       "      <td>5</td>\n",
       "      <td>4</td>\n",
       "      <td>10</td>\n",
       "    </tr>\n",
       "    <tr>\n",
       "      <th>2</th>\n",
       "      <td>Добавить блоки рекомендаций товаров на сайт интернет магазина, чтобы повысить конверсию и средний чек заказа</td>\n",
       "      <td>8</td>\n",
       "      <td>3</td>\n",
       "      <td>7</td>\n",
       "      <td>3</td>\n",
       "    </tr>\n",
       "    <tr>\n",
       "      <th>3</th>\n",
       "      <td>Изменить структура категорий, что увеличит конверсию, т.к. пользователи быстрее найдут нужный товар</td>\n",
       "      <td>8</td>\n",
       "      <td>3</td>\n",
       "      <td>3</td>\n",
       "      <td>8</td>\n",
       "    </tr>\n",
       "    <tr>\n",
       "      <th>4</th>\n",
       "      <td>Изменить цвет фона главной страницы, чтобы увеличить вовлеченность пользователей</td>\n",
       "      <td>3</td>\n",
       "      <td>1</td>\n",
       "      <td>1</td>\n",
       "      <td>1</td>\n",
       "    </tr>\n",
       "    <tr>\n",
       "      <th>5</th>\n",
       "      <td>Добавить страницу отзывов клиентов о магазине, что позволит увеличить количество заказов</td>\n",
       "      <td>3</td>\n",
       "      <td>2</td>\n",
       "      <td>2</td>\n",
       "      <td>3</td>\n",
       "    </tr>\n",
       "    <tr>\n",
       "      <th>6</th>\n",
       "      <td>Показать на главной странице баннеры с актуальными акциями и распродажами, чтобы увеличить конверсию</td>\n",
       "      <td>5</td>\n",
       "      <td>3</td>\n",
       "      <td>8</td>\n",
       "      <td>3</td>\n",
       "    </tr>\n",
       "    <tr>\n",
       "      <th>7</th>\n",
       "      <td>Добавить форму подписки на все основные страницы, чтобы собрать базу клиентов для email-рассылок</td>\n",
       "      <td>10</td>\n",
       "      <td>7</td>\n",
       "      <td>8</td>\n",
       "      <td>5</td>\n",
       "    </tr>\n",
       "    <tr>\n",
       "      <th>8</th>\n",
       "      <td>Запустить акцию, дающую скидку на товар в день рождения</td>\n",
       "      <td>1</td>\n",
       "      <td>9</td>\n",
       "      <td>9</td>\n",
       "      <td>5</td>\n",
       "    </tr>\n",
       "  </tbody>\n",
       "</table>\n",
       "</div>"
      ],
      "text/plain": [
       "                                                                                                     Hypothesis  \\\n",
       "0            Добавить два новых канала привлечения трафика, что позволит привлекать на 30% больше пользователей   \n",
       "1                                     Запустить собственную службу доставки, что сократит срок доставки заказов   \n",
       "2  Добавить блоки рекомендаций товаров на сайт интернет магазина, чтобы повысить конверсию и средний чек заказа   \n",
       "3           Изменить структура категорий, что увеличит конверсию, т.к. пользователи быстрее найдут нужный товар   \n",
       "4                              Изменить цвет фона главной страницы, чтобы увеличить вовлеченность пользователей   \n",
       "5                      Добавить страницу отзывов клиентов о магазине, что позволит увеличить количество заказов   \n",
       "6          Показать на главной странице баннеры с актуальными акциями и распродажами, чтобы увеличить конверсию   \n",
       "7              Добавить форму подписки на все основные страницы, чтобы собрать базу клиентов для email-рассылок   \n",
       "8                                                       Запустить акцию, дающую скидку на товар в день рождения   \n",
       "\n",
       "   Reach  Impact  Confidence  Efforts  \n",
       "0      3      10           8        6  \n",
       "1      2       5           4       10  \n",
       "2      8       3           7        3  \n",
       "3      8       3           3        8  \n",
       "4      3       1           1        1  \n",
       "5      3       2           2        3  \n",
       "6      5       3           8        3  \n",
       "7     10       7           8        5  \n",
       "8      1       9           9        5  "
      ]
     },
     "execution_count": 3,
     "metadata": {},
     "output_type": "execute_result"
    }
   ],
   "source": [
    "pd.options.display.max_colwidth = 150\n",
    "hypothesis"
   ]
  },
  {
   "cell_type": "code",
   "execution_count": 4,
   "metadata": {},
   "outputs": [
    {
     "name": "stdout",
     "output_type": "stream",
     "text": [
      "<class 'pandas.core.frame.DataFrame'>\n",
      "RangeIndex: 9 entries, 0 to 8\n",
      "Data columns (total 5 columns):\n",
      " #   Column      Non-Null Count  Dtype \n",
      "---  ------      --------------  ----- \n",
      " 0   Hypothesis  9 non-null      object\n",
      " 1   Reach       9 non-null      int64 \n",
      " 2   Impact      9 non-null      int64 \n",
      " 3   Confidence  9 non-null      int64 \n",
      " 4   Efforts     9 non-null      int64 \n",
      "dtypes: int64(4), object(1)\n",
      "memory usage: 488.0+ bytes\n"
     ]
    }
   ],
   "source": [
    "hypothesis.info()"
   ]
  },
  {
   "cell_type": "code",
   "execution_count": 5,
   "metadata": {},
   "outputs": [
    {
     "data": {
      "text/plain": [
       "Hypothesis    0\n",
       "Reach         0\n",
       "Impact        0\n",
       "Confidence    0\n",
       "Efforts       0\n",
       "dtype: int64"
      ]
     },
     "execution_count": 5,
     "metadata": {},
     "output_type": "execute_result"
    }
   ],
   "source": [
    "hypothesis.isna().sum()"
   ]
  },
  {
   "cell_type": "code",
   "execution_count": 6,
   "metadata": {},
   "outputs": [
    {
     "data": {
      "text/html": [
       "<div>\n",
       "<style scoped>\n",
       "    .dataframe tbody tr th:only-of-type {\n",
       "        vertical-align: middle;\n",
       "    }\n",
       "\n",
       "    .dataframe tbody tr th {\n",
       "        vertical-align: top;\n",
       "    }\n",
       "\n",
       "    .dataframe thead th {\n",
       "        text-align: right;\n",
       "    }\n",
       "</style>\n",
       "<table border=\"1\" class=\"dataframe\">\n",
       "  <thead>\n",
       "    <tr style=\"text-align: right;\">\n",
       "      <th></th>\n",
       "      <th>transactionId</th>\n",
       "      <th>visitorId</th>\n",
       "      <th>date</th>\n",
       "      <th>revenue</th>\n",
       "      <th>group</th>\n",
       "    </tr>\n",
       "  </thead>\n",
       "  <tbody>\n",
       "    <tr>\n",
       "      <th>0</th>\n",
       "      <td>3667963787</td>\n",
       "      <td>3312258926</td>\n",
       "      <td>2019-08-15</td>\n",
       "      <td>1650</td>\n",
       "      <td>B</td>\n",
       "    </tr>\n",
       "    <tr>\n",
       "      <th>1</th>\n",
       "      <td>2804400009</td>\n",
       "      <td>3642806036</td>\n",
       "      <td>2019-08-15</td>\n",
       "      <td>730</td>\n",
       "      <td>B</td>\n",
       "    </tr>\n",
       "    <tr>\n",
       "      <th>2</th>\n",
       "      <td>2961555356</td>\n",
       "      <td>4069496402</td>\n",
       "      <td>2019-08-15</td>\n",
       "      <td>400</td>\n",
       "      <td>A</td>\n",
       "    </tr>\n",
       "    <tr>\n",
       "      <th>3</th>\n",
       "      <td>3797467345</td>\n",
       "      <td>1196621759</td>\n",
       "      <td>2019-08-15</td>\n",
       "      <td>9759</td>\n",
       "      <td>B</td>\n",
       "    </tr>\n",
       "    <tr>\n",
       "      <th>4</th>\n",
       "      <td>2282983706</td>\n",
       "      <td>2322279887</td>\n",
       "      <td>2019-08-15</td>\n",
       "      <td>2308</td>\n",
       "      <td>B</td>\n",
       "    </tr>\n",
       "    <tr>\n",
       "      <th>...</th>\n",
       "      <td>...</td>\n",
       "      <td>...</td>\n",
       "      <td>...</td>\n",
       "      <td>...</td>\n",
       "      <td>...</td>\n",
       "    </tr>\n",
       "    <tr>\n",
       "      <th>1192</th>\n",
       "      <td>2662137336</td>\n",
       "      <td>3733762160</td>\n",
       "      <td>2019-08-14</td>\n",
       "      <td>6490</td>\n",
       "      <td>B</td>\n",
       "    </tr>\n",
       "    <tr>\n",
       "      <th>1193</th>\n",
       "      <td>2203539145</td>\n",
       "      <td>370388673</td>\n",
       "      <td>2019-08-14</td>\n",
       "      <td>3190</td>\n",
       "      <td>A</td>\n",
       "    </tr>\n",
       "    <tr>\n",
       "      <th>1194</th>\n",
       "      <td>1807773912</td>\n",
       "      <td>573423106</td>\n",
       "      <td>2019-08-14</td>\n",
       "      <td>10550</td>\n",
       "      <td>A</td>\n",
       "    </tr>\n",
       "    <tr>\n",
       "      <th>1195</th>\n",
       "      <td>1947021204</td>\n",
       "      <td>1614305549</td>\n",
       "      <td>2019-08-14</td>\n",
       "      <td>100</td>\n",
       "      <td>A</td>\n",
       "    </tr>\n",
       "    <tr>\n",
       "      <th>1196</th>\n",
       "      <td>3936777065</td>\n",
       "      <td>2108080724</td>\n",
       "      <td>2019-08-15</td>\n",
       "      <td>202740</td>\n",
       "      <td>B</td>\n",
       "    </tr>\n",
       "  </tbody>\n",
       "</table>\n",
       "<p>1197 rows × 5 columns</p>\n",
       "</div>"
      ],
      "text/plain": [
       "      transactionId   visitorId        date  revenue group\n",
       "0        3667963787  3312258926  2019-08-15     1650     B\n",
       "1        2804400009  3642806036  2019-08-15      730     B\n",
       "2        2961555356  4069496402  2019-08-15      400     A\n",
       "3        3797467345  1196621759  2019-08-15     9759     B\n",
       "4        2282983706  2322279887  2019-08-15     2308     B\n",
       "...             ...         ...         ...      ...   ...\n",
       "1192     2662137336  3733762160  2019-08-14     6490     B\n",
       "1193     2203539145   370388673  2019-08-14     3190     A\n",
       "1194     1807773912   573423106  2019-08-14    10550     A\n",
       "1195     1947021204  1614305549  2019-08-14      100     A\n",
       "1196     3936777065  2108080724  2019-08-15   202740     B\n",
       "\n",
       "[1197 rows x 5 columns]"
      ]
     },
     "execution_count": 6,
     "metadata": {},
     "output_type": "execute_result"
    }
   ],
   "source": [
    "orders"
   ]
  },
  {
   "cell_type": "code",
   "execution_count": 7,
   "metadata": {},
   "outputs": [
    {
     "name": "stdout",
     "output_type": "stream",
     "text": [
      "<class 'pandas.core.frame.DataFrame'>\n",
      "RangeIndex: 1197 entries, 0 to 1196\n",
      "Data columns (total 5 columns):\n",
      " #   Column         Non-Null Count  Dtype \n",
      "---  ------         --------------  ----- \n",
      " 0   transactionId  1197 non-null   int64 \n",
      " 1   visitorId      1197 non-null   int64 \n",
      " 2   date           1197 non-null   object\n",
      " 3   revenue        1197 non-null   int64 \n",
      " 4   group          1197 non-null   object\n",
      "dtypes: int64(3), object(2)\n",
      "memory usage: 46.9+ KB\n"
     ]
    }
   ],
   "source": [
    "orders.info()"
   ]
  },
  {
   "cell_type": "code",
   "execution_count": 8,
   "metadata": {},
   "outputs": [
    {
     "data": {
      "text/plain": [
       "transactionId    0\n",
       "visitorId        0\n",
       "date             0\n",
       "revenue          0\n",
       "group            0\n",
       "dtype: int64"
      ]
     },
     "execution_count": 8,
     "metadata": {},
     "output_type": "execute_result"
    }
   ],
   "source": [
    "orders.isna().sum()"
   ]
  },
  {
   "cell_type": "code",
   "execution_count": 9,
   "metadata": {},
   "outputs": [],
   "source": [
    "orders['date'] = orders['date'].map(lambda x: dt.datetime.strptime(x, '%Y-%m-%d'))"
   ]
  },
  {
   "cell_type": "code",
   "execution_count": 10,
   "metadata": {},
   "outputs": [
    {
     "data": {
      "text/plain": [
       "0"
      ]
     },
     "execution_count": 10,
     "metadata": {},
     "output_type": "execute_result"
    }
   ],
   "source": [
    "orders.duplicated().sum()"
   ]
  },
  {
   "cell_type": "code",
   "execution_count": 11,
   "metadata": {},
   "outputs": [
    {
     "data": {
      "text/plain": [
       "1658608862    1\n",
       "2211880073    1\n",
       "3913205113    1\n",
       "437656952     1\n",
       "3592105335    1\n",
       "             ..\n",
       "2872509092    1\n",
       "2013919907    1\n",
       "3154167297    1\n",
       "2960804513    1\n",
       "4281129020    1\n",
       "Name: transactionId, Length: 1197, dtype: int64"
      ]
     },
     "execution_count": 11,
     "metadata": {},
     "output_type": "execute_result"
    }
   ],
   "source": [
    "orders['transactionId'].value_counts()"
   ]
  },
  {
   "cell_type": "code",
   "execution_count": 12,
   "metadata": {},
   "outputs": [
    {
     "data": {
      "text/plain": [
       "4256040402    11\n",
       "2458001652    11\n",
       "2378935119     9\n",
       "2038680547     8\n",
       "199603092      5\n",
       "              ..\n",
       "2406916810     1\n",
       "1255412427     1\n",
       "3866069709     1\n",
       "54447517       1\n",
       "3013339133     1\n",
       "Name: visitorId, Length: 1031, dtype: int64"
      ]
     },
     "execution_count": 12,
     "metadata": {},
     "output_type": "execute_result"
    }
   ],
   "source": [
    "orders['visitorId'].value_counts()"
   ]
  },
  {
   "cell_type": "code",
   "execution_count": 13,
   "metadata": {},
   "outputs": [
    {
     "data": {
      "text/plain": [
       "2019-08-05    48\n",
       "2019-08-12    47\n",
       "2019-08-14    47\n",
       "2019-08-15    46\n",
       "2019-08-06    46\n",
       "2019-08-01    45\n",
       "2019-08-28    45\n",
       "2019-08-02    44\n",
       "2019-08-27    44\n",
       "2019-08-08    43\n",
       "2019-08-19    43\n",
       "2019-08-29    42\n",
       "2019-08-07    42\n",
       "2019-08-26    41\n",
       "2019-08-22    41\n",
       "2019-08-09    41\n",
       "2019-08-03    40\n",
       "2019-08-23    40\n",
       "2019-08-10    39\n",
       "2019-08-16    38\n",
       "2019-08-21    37\n",
       "2019-08-30    35\n",
       "2019-08-13    35\n",
       "2019-08-04    33\n",
       "2019-08-20    32\n",
       "2019-08-31    32\n",
       "2019-08-24    31\n",
       "2019-08-18    26\n",
       "2019-08-11    26\n",
       "2019-08-17    24\n",
       "2019-08-25    24\n",
       "Name: date, dtype: int64"
      ]
     },
     "execution_count": 13,
     "metadata": {},
     "output_type": "execute_result"
    }
   ],
   "source": [
    "orders['date'].value_counts()"
   ]
  },
  {
   "cell_type": "code",
   "execution_count": 14,
   "metadata": {},
   "outputs": [
    {
     "name": "stdout",
     "output_type": "stream",
     "text": [
      "2019-08-01 00:00:00\n"
     ]
    }
   ],
   "source": [
    "print(orders['date'].min())"
   ]
  },
  {
   "cell_type": "code",
   "execution_count": 15,
   "metadata": {},
   "outputs": [
    {
     "name": "stdout",
     "output_type": "stream",
     "text": [
      "2019-08-31 00:00:00\n"
     ]
    }
   ],
   "source": [
    "print(orders['date'].max())"
   ]
  },
  {
   "cell_type": "code",
   "execution_count": 16,
   "metadata": {},
   "outputs": [
    {
     "data": {
      "text/plain": [
       "990       17\n",
       "890       13\n",
       "390       13\n",
       "1190      10\n",
       "400       10\n",
       "          ..\n",
       "6440       1\n",
       "45780      1\n",
       "725        1\n",
       "9800       1\n",
       "202740     1\n",
       "Name: revenue, Length: 713, dtype: int64"
      ]
     },
     "execution_count": 16,
     "metadata": {},
     "output_type": "execute_result"
    }
   ],
   "source": [
    "orders['revenue'].value_counts()"
   ]
  },
  {
   "cell_type": "code",
   "execution_count": 17,
   "metadata": {},
   "outputs": [
    {
     "data": {
      "text/plain": [
       "B    640\n",
       "A    557\n",
       "Name: group, dtype: int64"
      ]
     },
     "execution_count": 17,
     "metadata": {},
     "output_type": "execute_result"
    }
   ],
   "source": [
    "orders['group'].value_counts()"
   ]
  },
  {
   "cell_type": "code",
   "execution_count": 18,
   "metadata": {},
   "outputs": [
    {
     "data": {
      "text/plain": [
       "1031"
      ]
     },
     "execution_count": 18,
     "metadata": {},
     "output_type": "execute_result"
    }
   ],
   "source": [
    "orders['visitorId'].nunique()"
   ]
  },
  {
   "cell_type": "code",
   "execution_count": 19,
   "metadata": {},
   "outputs": [
    {
     "data": {
      "text/html": [
       "<div>\n",
       "<style scoped>\n",
       "    .dataframe tbody tr th:only-of-type {\n",
       "        vertical-align: middle;\n",
       "    }\n",
       "\n",
       "    .dataframe tbody tr th {\n",
       "        vertical-align: top;\n",
       "    }\n",
       "\n",
       "    .dataframe thead th {\n",
       "        text-align: right;\n",
       "    }\n",
       "</style>\n",
       "<table border=\"1\" class=\"dataframe\">\n",
       "  <thead>\n",
       "    <tr style=\"text-align: right;\">\n",
       "      <th></th>\n",
       "      <th>date</th>\n",
       "      <th>group</th>\n",
       "      <th>visitors</th>\n",
       "    </tr>\n",
       "  </thead>\n",
       "  <tbody>\n",
       "    <tr>\n",
       "      <th>0</th>\n",
       "      <td>2019-08-01</td>\n",
       "      <td>A</td>\n",
       "      <td>719</td>\n",
       "    </tr>\n",
       "    <tr>\n",
       "      <th>1</th>\n",
       "      <td>2019-08-02</td>\n",
       "      <td>A</td>\n",
       "      <td>619</td>\n",
       "    </tr>\n",
       "    <tr>\n",
       "      <th>2</th>\n",
       "      <td>2019-08-03</td>\n",
       "      <td>A</td>\n",
       "      <td>507</td>\n",
       "    </tr>\n",
       "    <tr>\n",
       "      <th>3</th>\n",
       "      <td>2019-08-04</td>\n",
       "      <td>A</td>\n",
       "      <td>717</td>\n",
       "    </tr>\n",
       "    <tr>\n",
       "      <th>4</th>\n",
       "      <td>2019-08-05</td>\n",
       "      <td>A</td>\n",
       "      <td>756</td>\n",
       "    </tr>\n",
       "    <tr>\n",
       "      <th>...</th>\n",
       "      <td>...</td>\n",
       "      <td>...</td>\n",
       "      <td>...</td>\n",
       "    </tr>\n",
       "    <tr>\n",
       "      <th>57</th>\n",
       "      <td>2019-08-27</td>\n",
       "      <td>B</td>\n",
       "      <td>720</td>\n",
       "    </tr>\n",
       "    <tr>\n",
       "      <th>58</th>\n",
       "      <td>2019-08-28</td>\n",
       "      <td>B</td>\n",
       "      <td>654</td>\n",
       "    </tr>\n",
       "    <tr>\n",
       "      <th>59</th>\n",
       "      <td>2019-08-29</td>\n",
       "      <td>B</td>\n",
       "      <td>531</td>\n",
       "    </tr>\n",
       "    <tr>\n",
       "      <th>60</th>\n",
       "      <td>2019-08-30</td>\n",
       "      <td>B</td>\n",
       "      <td>490</td>\n",
       "    </tr>\n",
       "    <tr>\n",
       "      <th>61</th>\n",
       "      <td>2019-08-31</td>\n",
       "      <td>B</td>\n",
       "      <td>718</td>\n",
       "    </tr>\n",
       "  </tbody>\n",
       "</table>\n",
       "<p>62 rows × 3 columns</p>\n",
       "</div>"
      ],
      "text/plain": [
       "          date group  visitors\n",
       "0   2019-08-01     A       719\n",
       "1   2019-08-02     A       619\n",
       "2   2019-08-03     A       507\n",
       "3   2019-08-04     A       717\n",
       "4   2019-08-05     A       756\n",
       "..         ...   ...       ...\n",
       "57  2019-08-27     B       720\n",
       "58  2019-08-28     B       654\n",
       "59  2019-08-29     B       531\n",
       "60  2019-08-30     B       490\n",
       "61  2019-08-31     B       718\n",
       "\n",
       "[62 rows x 3 columns]"
      ]
     },
     "execution_count": 19,
     "metadata": {},
     "output_type": "execute_result"
    }
   ],
   "source": [
    "visitors"
   ]
  },
  {
   "cell_type": "code",
   "execution_count": 20,
   "metadata": {},
   "outputs": [
    {
     "name": "stdout",
     "output_type": "stream",
     "text": [
      "<class 'pandas.core.frame.DataFrame'>\n",
      "RangeIndex: 62 entries, 0 to 61\n",
      "Data columns (total 3 columns):\n",
      " #   Column    Non-Null Count  Dtype \n",
      "---  ------    --------------  ----- \n",
      " 0   date      62 non-null     object\n",
      " 1   group     62 non-null     object\n",
      " 2   visitors  62 non-null     int64 \n",
      "dtypes: int64(1), object(2)\n",
      "memory usage: 1.6+ KB\n"
     ]
    }
   ],
   "source": [
    "visitors.info()"
   ]
  },
  {
   "cell_type": "code",
   "execution_count": 21,
   "metadata": {},
   "outputs": [
    {
     "data": {
      "text/plain": [
       "date        0\n",
       "group       0\n",
       "visitors    0\n",
       "dtype: int64"
      ]
     },
     "execution_count": 21,
     "metadata": {},
     "output_type": "execute_result"
    }
   ],
   "source": [
    "visitors.isna().sum()"
   ]
  },
  {
   "cell_type": "code",
   "execution_count": 22,
   "metadata": {},
   "outputs": [
    {
     "data": {
      "text/plain": [
       "2019-08-11    2\n",
       "2019-08-12    2\n",
       "2019-08-05    2\n",
       "2019-08-22    2\n",
       "2019-08-27    2\n",
       "2019-08-18    2\n",
       "2019-08-16    2\n",
       "2019-08-29    2\n",
       "2019-08-01    2\n",
       "2019-08-24    2\n",
       "2019-08-09    2\n",
       "2019-08-30    2\n",
       "2019-08-25    2\n",
       "2019-08-20    2\n",
       "2019-08-08    2\n",
       "2019-08-06    2\n",
       "2019-08-17    2\n",
       "2019-08-31    2\n",
       "2019-08-13    2\n",
       "2019-08-23    2\n",
       "2019-08-21    2\n",
       "2019-08-03    2\n",
       "2019-08-02    2\n",
       "2019-08-07    2\n",
       "2019-08-15    2\n",
       "2019-08-28    2\n",
       "2019-08-26    2\n",
       "2019-08-10    2\n",
       "2019-08-14    2\n",
       "2019-08-04    2\n",
       "2019-08-19    2\n",
       "Name: date, dtype: int64"
      ]
     },
     "execution_count": 22,
     "metadata": {},
     "output_type": "execute_result"
    }
   ],
   "source": [
    "visitors['date'].value_counts()"
   ]
  },
  {
   "cell_type": "code",
   "execution_count": 23,
   "metadata": {},
   "outputs": [
    {
     "name": "stdout",
     "output_type": "stream",
     "text": [
      "2019-08-01\n"
     ]
    }
   ],
   "source": [
    "print(visitors['date'].min())"
   ]
  },
  {
   "cell_type": "code",
   "execution_count": 24,
   "metadata": {},
   "outputs": [
    {
     "name": "stdout",
     "output_type": "stream",
     "text": [
      "2019-08-31\n"
     ]
    }
   ],
   "source": [
    "print(visitors['date'].max())"
   ]
  },
  {
   "cell_type": "code",
   "execution_count": 25,
   "metadata": {},
   "outputs": [],
   "source": [
    "visitors['date'] = visitors['date'].map(lambda x: dt.datetime.strptime(x, '%Y-%m-%d'))"
   ]
  },
  {
   "cell_type": "code",
   "execution_count": 26,
   "metadata": {},
   "outputs": [
    {
     "data": {
      "text/plain": [
       "B    31\n",
       "A    31\n",
       "Name: group, dtype: int64"
      ]
     },
     "execution_count": 26,
     "metadata": {},
     "output_type": "execute_result"
    }
   ],
   "source": [
    "visitors['group'].value_counts()"
   ]
  },
  {
   "cell_type": "code",
   "execution_count": 27,
   "metadata": {},
   "outputs": [
    {
     "data": {
      "text/plain": [
       "610    2\n",
       "718    2\n",
       "654    2\n",
       "490    2\n",
       "609    1\n",
       "717    1\n",
       "719    1\n",
       "720    1\n",
       "721    1\n",
       "594    1\n",
       "722    1\n",
       "468    1\n",
       "595    1\n",
       "756    1\n",
       "735    1\n",
       "769    1\n",
       "711    1\n",
       "668    1\n",
       "487    1\n",
       "361    1\n",
       "746    1\n",
       "619    1\n",
       "748    1\n",
       "621    1\n",
       "369    1\n",
       "628    1\n",
       "709    1\n",
       "378    1\n",
       "507    1\n",
       "713    1\n",
       "581    1\n",
       "770    1\n",
       "413    1\n",
       "644    1\n",
       "646    1\n",
       "650    1\n",
       "395    1\n",
       "655    1\n",
       "737    1\n",
       "531    1\n",
       "502    1\n",
       "406    1\n",
       "667    1\n",
       "412    1\n",
       "543    1\n",
       "707    1\n",
       "544    1\n",
       "546    1\n",
       "676    1\n",
       "421    1\n",
       "617    1\n",
       "679    1\n",
       "560    1\n",
       "656    1\n",
       "699    1\n",
       "575    1\n",
       "577    1\n",
       "509    1\n",
       "Name: visitors, dtype: int64"
      ]
     },
     "execution_count": 27,
     "metadata": {},
     "output_type": "execute_result"
    }
   ],
   "source": [
    "visitors['visitors'].value_counts()"
   ]
  },
  {
   "cell_type": "markdown",
   "metadata": {},
   "source": [
    "Проведена проверка данных в 3 таблицах, были изменены типы данных в некоторых столбцах, дубликатов в значениях не обнаружено."
   ]
  },
  {
   "cell_type": "code",
   "execution_count": 28,
   "metadata": {},
   "outputs": [
    {
     "data": {
      "text/plain": [
       "group    58\n",
       "dtype: int64"
      ]
     },
     "execution_count": 28,
     "metadata": {},
     "output_type": "execute_result"
    }
   ],
   "source": [
    "orders.groupby('visitorId').agg({'group' : 'nunique'}).query('group>1').count()"
   ]
  },
  {
   "cell_type": "code",
   "execution_count": 29,
   "metadata": {},
   "outputs": [
    {
     "data": {
      "text/plain": [
       "1031"
      ]
     },
     "execution_count": 29,
     "metadata": {},
     "output_type": "execute_result"
    }
   ],
   "source": [
    "orders['visitorId'].nunique()"
   ]
  },
  {
   "cell_type": "markdown",
   "metadata": {},
   "source": [
    "В таблице orders 58 пользователей попавших в обе группы, то есть 5,6% от общего числа пользователей. Стоило бы исключить этих пользователей из анализа, но в таблице visitors данные обезличины, поэтому исключить данные не получится."
   ]
  },
  {
   "cell_type": "markdown",
   "metadata": {},
   "source": [
    "### Часть 1. Приоритизация гипотез"
   ]
  },
  {
   "cell_type": "code",
   "execution_count": 30,
   "metadata": {},
   "outputs": [
    {
     "data": {
      "text/html": [
       "<div>\n",
       "<style scoped>\n",
       "    .dataframe tbody tr th:only-of-type {\n",
       "        vertical-align: middle;\n",
       "    }\n",
       "\n",
       "    .dataframe tbody tr th {\n",
       "        vertical-align: top;\n",
       "    }\n",
       "\n",
       "    .dataframe thead th {\n",
       "        text-align: right;\n",
       "    }\n",
       "</style>\n",
       "<table border=\"1\" class=\"dataframe\">\n",
       "  <thead>\n",
       "    <tr style=\"text-align: right;\">\n",
       "      <th></th>\n",
       "      <th>Hypothesis</th>\n",
       "      <th>Reach</th>\n",
       "      <th>Impact</th>\n",
       "      <th>Confidence</th>\n",
       "      <th>Efforts</th>\n",
       "    </tr>\n",
       "  </thead>\n",
       "  <tbody>\n",
       "    <tr>\n",
       "      <th>0</th>\n",
       "      <td>Добавить два новых канала привлечения трафика, что позволит привлекать на 30% больше пользователей</td>\n",
       "      <td>3</td>\n",
       "      <td>10</td>\n",
       "      <td>8</td>\n",
       "      <td>6</td>\n",
       "    </tr>\n",
       "    <tr>\n",
       "      <th>1</th>\n",
       "      <td>Запустить собственную службу доставки, что сократит срок доставки заказов</td>\n",
       "      <td>2</td>\n",
       "      <td>5</td>\n",
       "      <td>4</td>\n",
       "      <td>10</td>\n",
       "    </tr>\n",
       "    <tr>\n",
       "      <th>2</th>\n",
       "      <td>Добавить блоки рекомендаций товаров на сайт интернет магазина, чтобы повысить конверсию и средний чек заказа</td>\n",
       "      <td>8</td>\n",
       "      <td>3</td>\n",
       "      <td>7</td>\n",
       "      <td>3</td>\n",
       "    </tr>\n",
       "    <tr>\n",
       "      <th>3</th>\n",
       "      <td>Изменить структура категорий, что увеличит конверсию, т.к. пользователи быстрее найдут нужный товар</td>\n",
       "      <td>8</td>\n",
       "      <td>3</td>\n",
       "      <td>3</td>\n",
       "      <td>8</td>\n",
       "    </tr>\n",
       "    <tr>\n",
       "      <th>4</th>\n",
       "      <td>Изменить цвет фона главной страницы, чтобы увеличить вовлеченность пользователей</td>\n",
       "      <td>3</td>\n",
       "      <td>1</td>\n",
       "      <td>1</td>\n",
       "      <td>1</td>\n",
       "    </tr>\n",
       "    <tr>\n",
       "      <th>5</th>\n",
       "      <td>Добавить страницу отзывов клиентов о магазине, что позволит увеличить количество заказов</td>\n",
       "      <td>3</td>\n",
       "      <td>2</td>\n",
       "      <td>2</td>\n",
       "      <td>3</td>\n",
       "    </tr>\n",
       "    <tr>\n",
       "      <th>6</th>\n",
       "      <td>Показать на главной странице баннеры с актуальными акциями и распродажами, чтобы увеличить конверсию</td>\n",
       "      <td>5</td>\n",
       "      <td>3</td>\n",
       "      <td>8</td>\n",
       "      <td>3</td>\n",
       "    </tr>\n",
       "    <tr>\n",
       "      <th>7</th>\n",
       "      <td>Добавить форму подписки на все основные страницы, чтобы собрать базу клиентов для email-рассылок</td>\n",
       "      <td>10</td>\n",
       "      <td>7</td>\n",
       "      <td>8</td>\n",
       "      <td>5</td>\n",
       "    </tr>\n",
       "    <tr>\n",
       "      <th>8</th>\n",
       "      <td>Запустить акцию, дающую скидку на товар в день рождения</td>\n",
       "      <td>1</td>\n",
       "      <td>9</td>\n",
       "      <td>9</td>\n",
       "      <td>5</td>\n",
       "    </tr>\n",
       "  </tbody>\n",
       "</table>\n",
       "</div>"
      ],
      "text/plain": [
       "                                                                                                     Hypothesis  \\\n",
       "0            Добавить два новых канала привлечения трафика, что позволит привлекать на 30% больше пользователей   \n",
       "1                                     Запустить собственную службу доставки, что сократит срок доставки заказов   \n",
       "2  Добавить блоки рекомендаций товаров на сайт интернет магазина, чтобы повысить конверсию и средний чек заказа   \n",
       "3           Изменить структура категорий, что увеличит конверсию, т.к. пользователи быстрее найдут нужный товар   \n",
       "4                              Изменить цвет фона главной страницы, чтобы увеличить вовлеченность пользователей   \n",
       "5                      Добавить страницу отзывов клиентов о магазине, что позволит увеличить количество заказов   \n",
       "6          Показать на главной странице баннеры с актуальными акциями и распродажами, чтобы увеличить конверсию   \n",
       "7              Добавить форму подписки на все основные страницы, чтобы собрать базу клиентов для email-рассылок   \n",
       "8                                                       Запустить акцию, дающую скидку на товар в день рождения   \n",
       "\n",
       "   Reach  Impact  Confidence  Efforts  \n",
       "0      3      10           8        6  \n",
       "1      2       5           4       10  \n",
       "2      8       3           7        3  \n",
       "3      8       3           3        8  \n",
       "4      3       1           1        1  \n",
       "5      3       2           2        3  \n",
       "6      5       3           8        3  \n",
       "7     10       7           8        5  \n",
       "8      1       9           9        5  "
      ]
     },
     "execution_count": 30,
     "metadata": {},
     "output_type": "execute_result"
    }
   ],
   "source": [
    "hypothesis"
   ]
  },
  {
   "cell_type": "code",
   "execution_count": 31,
   "metadata": {},
   "outputs": [],
   "source": [
    "hypothesis['ICE']= round(hypothesis['Impact']*hypothesis['Confidence']/hypothesis['Efforts'], 2)"
   ]
  },
  {
   "cell_type": "code",
   "execution_count": 32,
   "metadata": {},
   "outputs": [
    {
     "data": {
      "text/html": [
       "<div>\n",
       "<style scoped>\n",
       "    .dataframe tbody tr th:only-of-type {\n",
       "        vertical-align: middle;\n",
       "    }\n",
       "\n",
       "    .dataframe tbody tr th {\n",
       "        vertical-align: top;\n",
       "    }\n",
       "\n",
       "    .dataframe thead th {\n",
       "        text-align: right;\n",
       "    }\n",
       "</style>\n",
       "<table border=\"1\" class=\"dataframe\">\n",
       "  <thead>\n",
       "    <tr style=\"text-align: right;\">\n",
       "      <th></th>\n",
       "      <th>Hypothesis</th>\n",
       "      <th>Reach</th>\n",
       "      <th>Impact</th>\n",
       "      <th>Confidence</th>\n",
       "      <th>Efforts</th>\n",
       "      <th>ICE</th>\n",
       "    </tr>\n",
       "  </thead>\n",
       "  <tbody>\n",
       "    <tr>\n",
       "      <th>8</th>\n",
       "      <td>Запустить акцию, дающую скидку на товар в день рождения</td>\n",
       "      <td>1</td>\n",
       "      <td>9</td>\n",
       "      <td>9</td>\n",
       "      <td>5</td>\n",
       "      <td>16.20</td>\n",
       "    </tr>\n",
       "    <tr>\n",
       "      <th>0</th>\n",
       "      <td>Добавить два новых канала привлечения трафика, что позволит привлекать на 30% больше пользователей</td>\n",
       "      <td>3</td>\n",
       "      <td>10</td>\n",
       "      <td>8</td>\n",
       "      <td>6</td>\n",
       "      <td>13.33</td>\n",
       "    </tr>\n",
       "    <tr>\n",
       "      <th>7</th>\n",
       "      <td>Добавить форму подписки на все основные страницы, чтобы собрать базу клиентов для email-рассылок</td>\n",
       "      <td>10</td>\n",
       "      <td>7</td>\n",
       "      <td>8</td>\n",
       "      <td>5</td>\n",
       "      <td>11.20</td>\n",
       "    </tr>\n",
       "    <tr>\n",
       "      <th>6</th>\n",
       "      <td>Показать на главной странице баннеры с актуальными акциями и распродажами, чтобы увеличить конверсию</td>\n",
       "      <td>5</td>\n",
       "      <td>3</td>\n",
       "      <td>8</td>\n",
       "      <td>3</td>\n",
       "      <td>8.00</td>\n",
       "    </tr>\n",
       "    <tr>\n",
       "      <th>2</th>\n",
       "      <td>Добавить блоки рекомендаций товаров на сайт интернет магазина, чтобы повысить конверсию и средний чек заказа</td>\n",
       "      <td>8</td>\n",
       "      <td>3</td>\n",
       "      <td>7</td>\n",
       "      <td>3</td>\n",
       "      <td>7.00</td>\n",
       "    </tr>\n",
       "    <tr>\n",
       "      <th>1</th>\n",
       "      <td>Запустить собственную службу доставки, что сократит срок доставки заказов</td>\n",
       "      <td>2</td>\n",
       "      <td>5</td>\n",
       "      <td>4</td>\n",
       "      <td>10</td>\n",
       "      <td>2.00</td>\n",
       "    </tr>\n",
       "    <tr>\n",
       "      <th>5</th>\n",
       "      <td>Добавить страницу отзывов клиентов о магазине, что позволит увеличить количество заказов</td>\n",
       "      <td>3</td>\n",
       "      <td>2</td>\n",
       "      <td>2</td>\n",
       "      <td>3</td>\n",
       "      <td>1.33</td>\n",
       "    </tr>\n",
       "    <tr>\n",
       "      <th>3</th>\n",
       "      <td>Изменить структура категорий, что увеличит конверсию, т.к. пользователи быстрее найдут нужный товар</td>\n",
       "      <td>8</td>\n",
       "      <td>3</td>\n",
       "      <td>3</td>\n",
       "      <td>8</td>\n",
       "      <td>1.12</td>\n",
       "    </tr>\n",
       "    <tr>\n",
       "      <th>4</th>\n",
       "      <td>Изменить цвет фона главной страницы, чтобы увеличить вовлеченность пользователей</td>\n",
       "      <td>3</td>\n",
       "      <td>1</td>\n",
       "      <td>1</td>\n",
       "      <td>1</td>\n",
       "      <td>1.00</td>\n",
       "    </tr>\n",
       "  </tbody>\n",
       "</table>\n",
       "</div>"
      ],
      "text/plain": [
       "                                                                                                     Hypothesis  \\\n",
       "8                                                       Запустить акцию, дающую скидку на товар в день рождения   \n",
       "0            Добавить два новых канала привлечения трафика, что позволит привлекать на 30% больше пользователей   \n",
       "7              Добавить форму подписки на все основные страницы, чтобы собрать базу клиентов для email-рассылок   \n",
       "6          Показать на главной странице баннеры с актуальными акциями и распродажами, чтобы увеличить конверсию   \n",
       "2  Добавить блоки рекомендаций товаров на сайт интернет магазина, чтобы повысить конверсию и средний чек заказа   \n",
       "1                                     Запустить собственную службу доставки, что сократит срок доставки заказов   \n",
       "5                      Добавить страницу отзывов клиентов о магазине, что позволит увеличить количество заказов   \n",
       "3           Изменить структура категорий, что увеличит конверсию, т.к. пользователи быстрее найдут нужный товар   \n",
       "4                              Изменить цвет фона главной страницы, чтобы увеличить вовлеченность пользователей   \n",
       "\n",
       "   Reach  Impact  Confidence  Efforts    ICE  \n",
       "8      1       9           9        5  16.20  \n",
       "0      3      10           8        6  13.33  \n",
       "7     10       7           8        5  11.20  \n",
       "6      5       3           8        3   8.00  \n",
       "2      8       3           7        3   7.00  \n",
       "1      2       5           4       10   2.00  \n",
       "5      3       2           2        3   1.33  \n",
       "3      8       3           3        8   1.12  \n",
       "4      3       1           1        1   1.00  "
      ]
     },
     "execution_count": 32,
     "metadata": {},
     "output_type": "execute_result"
    }
   ],
   "source": [
    "hypothesis.sort_values(by='ICE', ascending=False)"
   ]
  },
  {
   "cell_type": "code",
   "execution_count": 33,
   "metadata": {},
   "outputs": [],
   "source": [
    "hypothesis['RICE']= round(hypothesis['Reach']*hypothesis['Impact']*hypothesis['Confidence']/hypothesis['Efforts'], 2)"
   ]
  },
  {
   "cell_type": "code",
   "execution_count": 34,
   "metadata": {},
   "outputs": [
    {
     "data": {
      "text/html": [
       "<div>\n",
       "<style scoped>\n",
       "    .dataframe tbody tr th:only-of-type {\n",
       "        vertical-align: middle;\n",
       "    }\n",
       "\n",
       "    .dataframe tbody tr th {\n",
       "        vertical-align: top;\n",
       "    }\n",
       "\n",
       "    .dataframe thead th {\n",
       "        text-align: right;\n",
       "    }\n",
       "</style>\n",
       "<table border=\"1\" class=\"dataframe\">\n",
       "  <thead>\n",
       "    <tr style=\"text-align: right;\">\n",
       "      <th></th>\n",
       "      <th>Hypothesis</th>\n",
       "      <th>Reach</th>\n",
       "      <th>Impact</th>\n",
       "      <th>Confidence</th>\n",
       "      <th>Efforts</th>\n",
       "      <th>ICE</th>\n",
       "      <th>RICE</th>\n",
       "    </tr>\n",
       "  </thead>\n",
       "  <tbody>\n",
       "    <tr>\n",
       "      <th>7</th>\n",
       "      <td>Добавить форму подписки на все основные страницы, чтобы собрать базу клиентов для email-рассылок</td>\n",
       "      <td>10</td>\n",
       "      <td>7</td>\n",
       "      <td>8</td>\n",
       "      <td>5</td>\n",
       "      <td>11.20</td>\n",
       "      <td>112.0</td>\n",
       "    </tr>\n",
       "    <tr>\n",
       "      <th>2</th>\n",
       "      <td>Добавить блоки рекомендаций товаров на сайт интернет магазина, чтобы повысить конверсию и средний чек заказа</td>\n",
       "      <td>8</td>\n",
       "      <td>3</td>\n",
       "      <td>7</td>\n",
       "      <td>3</td>\n",
       "      <td>7.00</td>\n",
       "      <td>56.0</td>\n",
       "    </tr>\n",
       "    <tr>\n",
       "      <th>0</th>\n",
       "      <td>Добавить два новых канала привлечения трафика, что позволит привлекать на 30% больше пользователей</td>\n",
       "      <td>3</td>\n",
       "      <td>10</td>\n",
       "      <td>8</td>\n",
       "      <td>6</td>\n",
       "      <td>13.33</td>\n",
       "      <td>40.0</td>\n",
       "    </tr>\n",
       "    <tr>\n",
       "      <th>6</th>\n",
       "      <td>Показать на главной странице баннеры с актуальными акциями и распродажами, чтобы увеличить конверсию</td>\n",
       "      <td>5</td>\n",
       "      <td>3</td>\n",
       "      <td>8</td>\n",
       "      <td>3</td>\n",
       "      <td>8.00</td>\n",
       "      <td>40.0</td>\n",
       "    </tr>\n",
       "    <tr>\n",
       "      <th>8</th>\n",
       "      <td>Запустить акцию, дающую скидку на товар в день рождения</td>\n",
       "      <td>1</td>\n",
       "      <td>9</td>\n",
       "      <td>9</td>\n",
       "      <td>5</td>\n",
       "      <td>16.20</td>\n",
       "      <td>16.2</td>\n",
       "    </tr>\n",
       "    <tr>\n",
       "      <th>3</th>\n",
       "      <td>Изменить структура категорий, что увеличит конверсию, т.к. пользователи быстрее найдут нужный товар</td>\n",
       "      <td>8</td>\n",
       "      <td>3</td>\n",
       "      <td>3</td>\n",
       "      <td>8</td>\n",
       "      <td>1.12</td>\n",
       "      <td>9.0</td>\n",
       "    </tr>\n",
       "    <tr>\n",
       "      <th>1</th>\n",
       "      <td>Запустить собственную службу доставки, что сократит срок доставки заказов</td>\n",
       "      <td>2</td>\n",
       "      <td>5</td>\n",
       "      <td>4</td>\n",
       "      <td>10</td>\n",
       "      <td>2.00</td>\n",
       "      <td>4.0</td>\n",
       "    </tr>\n",
       "    <tr>\n",
       "      <th>5</th>\n",
       "      <td>Добавить страницу отзывов клиентов о магазине, что позволит увеличить количество заказов</td>\n",
       "      <td>3</td>\n",
       "      <td>2</td>\n",
       "      <td>2</td>\n",
       "      <td>3</td>\n",
       "      <td>1.33</td>\n",
       "      <td>4.0</td>\n",
       "    </tr>\n",
       "    <tr>\n",
       "      <th>4</th>\n",
       "      <td>Изменить цвет фона главной страницы, чтобы увеличить вовлеченность пользователей</td>\n",
       "      <td>3</td>\n",
       "      <td>1</td>\n",
       "      <td>1</td>\n",
       "      <td>1</td>\n",
       "      <td>1.00</td>\n",
       "      <td>3.0</td>\n",
       "    </tr>\n",
       "  </tbody>\n",
       "</table>\n",
       "</div>"
      ],
      "text/plain": [
       "                                                                                                     Hypothesis  \\\n",
       "7              Добавить форму подписки на все основные страницы, чтобы собрать базу клиентов для email-рассылок   \n",
       "2  Добавить блоки рекомендаций товаров на сайт интернет магазина, чтобы повысить конверсию и средний чек заказа   \n",
       "0            Добавить два новых канала привлечения трафика, что позволит привлекать на 30% больше пользователей   \n",
       "6          Показать на главной странице баннеры с актуальными акциями и распродажами, чтобы увеличить конверсию   \n",
       "8                                                       Запустить акцию, дающую скидку на товар в день рождения   \n",
       "3           Изменить структура категорий, что увеличит конверсию, т.к. пользователи быстрее найдут нужный товар   \n",
       "1                                     Запустить собственную службу доставки, что сократит срок доставки заказов   \n",
       "5                      Добавить страницу отзывов клиентов о магазине, что позволит увеличить количество заказов   \n",
       "4                              Изменить цвет фона главной страницы, чтобы увеличить вовлеченность пользователей   \n",
       "\n",
       "   Reach  Impact  Confidence  Efforts    ICE   RICE  \n",
       "7     10       7           8        5  11.20  112.0  \n",
       "2      8       3           7        3   7.00   56.0  \n",
       "0      3      10           8        6  13.33   40.0  \n",
       "6      5       3           8        3   8.00   40.0  \n",
       "8      1       9           9        5  16.20   16.2  \n",
       "3      8       3           3        8   1.12    9.0  \n",
       "1      2       5           4       10   2.00    4.0  \n",
       "5      3       2           2        3   1.33    4.0  \n",
       "4      3       1           1        1   1.00    3.0  "
      ]
     },
     "execution_count": 34,
     "metadata": {},
     "output_type": "execute_result"
    }
   ],
   "source": [
    "hypothesis.sort_values(by='RICE', ascending=False)"
   ]
  },
  {
   "cell_type": "markdown",
   "metadata": {},
   "source": [
    "Лидеры таблицы ICE 8, 0, 7,\n",
    "а таблицы RICE 7, 2, 0.\n",
    "Изменение произошло потому что в таблице RICE мы учитывали то, насколько изменение затронет текущих пользователей, а в 7 гипотезе Reach максимальный."
   ]
  },
  {
   "cell_type": "markdown",
   "metadata": {},
   "source": [
    "### Часть 2. Анализ A/B-теста"
   ]
  },
  {
   "cell_type": "markdown",
   "metadata": {},
   "source": [
    "#### Построим график кумулятивной выручки по группам"
   ]
  },
  {
   "cell_type": "code",
   "execution_count": 35,
   "metadata": {},
   "outputs": [
    {
     "data": {
      "text/html": [
       "<div>\n",
       "<style scoped>\n",
       "    .dataframe tbody tr th:only-of-type {\n",
       "        vertical-align: middle;\n",
       "    }\n",
       "\n",
       "    .dataframe tbody tr th {\n",
       "        vertical-align: top;\n",
       "    }\n",
       "\n",
       "    .dataframe thead th {\n",
       "        text-align: right;\n",
       "    }\n",
       "</style>\n",
       "<table border=\"1\" class=\"dataframe\">\n",
       "  <thead>\n",
       "    <tr style=\"text-align: right;\">\n",
       "      <th></th>\n",
       "      <th>transactionId</th>\n",
       "      <th>visitorId</th>\n",
       "      <th>date</th>\n",
       "      <th>revenue</th>\n",
       "      <th>group</th>\n",
       "    </tr>\n",
       "  </thead>\n",
       "  <tbody>\n",
       "    <tr>\n",
       "      <th>0</th>\n",
       "      <td>3667963787</td>\n",
       "      <td>3312258926</td>\n",
       "      <td>2019-08-15</td>\n",
       "      <td>1650</td>\n",
       "      <td>B</td>\n",
       "    </tr>\n",
       "    <tr>\n",
       "      <th>1</th>\n",
       "      <td>2804400009</td>\n",
       "      <td>3642806036</td>\n",
       "      <td>2019-08-15</td>\n",
       "      <td>730</td>\n",
       "      <td>B</td>\n",
       "    </tr>\n",
       "    <tr>\n",
       "      <th>2</th>\n",
       "      <td>2961555356</td>\n",
       "      <td>4069496402</td>\n",
       "      <td>2019-08-15</td>\n",
       "      <td>400</td>\n",
       "      <td>A</td>\n",
       "    </tr>\n",
       "    <tr>\n",
       "      <th>3</th>\n",
       "      <td>3797467345</td>\n",
       "      <td>1196621759</td>\n",
       "      <td>2019-08-15</td>\n",
       "      <td>9759</td>\n",
       "      <td>B</td>\n",
       "    </tr>\n",
       "    <tr>\n",
       "      <th>4</th>\n",
       "      <td>2282983706</td>\n",
       "      <td>2322279887</td>\n",
       "      <td>2019-08-15</td>\n",
       "      <td>2308</td>\n",
       "      <td>B</td>\n",
       "    </tr>\n",
       "    <tr>\n",
       "      <th>...</th>\n",
       "      <td>...</td>\n",
       "      <td>...</td>\n",
       "      <td>...</td>\n",
       "      <td>...</td>\n",
       "      <td>...</td>\n",
       "    </tr>\n",
       "    <tr>\n",
       "      <th>1192</th>\n",
       "      <td>2662137336</td>\n",
       "      <td>3733762160</td>\n",
       "      <td>2019-08-14</td>\n",
       "      <td>6490</td>\n",
       "      <td>B</td>\n",
       "    </tr>\n",
       "    <tr>\n",
       "      <th>1193</th>\n",
       "      <td>2203539145</td>\n",
       "      <td>370388673</td>\n",
       "      <td>2019-08-14</td>\n",
       "      <td>3190</td>\n",
       "      <td>A</td>\n",
       "    </tr>\n",
       "    <tr>\n",
       "      <th>1194</th>\n",
       "      <td>1807773912</td>\n",
       "      <td>573423106</td>\n",
       "      <td>2019-08-14</td>\n",
       "      <td>10550</td>\n",
       "      <td>A</td>\n",
       "    </tr>\n",
       "    <tr>\n",
       "      <th>1195</th>\n",
       "      <td>1947021204</td>\n",
       "      <td>1614305549</td>\n",
       "      <td>2019-08-14</td>\n",
       "      <td>100</td>\n",
       "      <td>A</td>\n",
       "    </tr>\n",
       "    <tr>\n",
       "      <th>1196</th>\n",
       "      <td>3936777065</td>\n",
       "      <td>2108080724</td>\n",
       "      <td>2019-08-15</td>\n",
       "      <td>202740</td>\n",
       "      <td>B</td>\n",
       "    </tr>\n",
       "  </tbody>\n",
       "</table>\n",
       "<p>1197 rows × 5 columns</p>\n",
       "</div>"
      ],
      "text/plain": [
       "      transactionId   visitorId       date  revenue group\n",
       "0        3667963787  3312258926 2019-08-15     1650     B\n",
       "1        2804400009  3642806036 2019-08-15      730     B\n",
       "2        2961555356  4069496402 2019-08-15      400     A\n",
       "3        3797467345  1196621759 2019-08-15     9759     B\n",
       "4        2282983706  2322279887 2019-08-15     2308     B\n",
       "...             ...         ...        ...      ...   ...\n",
       "1192     2662137336  3733762160 2019-08-14     6490     B\n",
       "1193     2203539145   370388673 2019-08-14     3190     A\n",
       "1194     1807773912   573423106 2019-08-14    10550     A\n",
       "1195     1947021204  1614305549 2019-08-14      100     A\n",
       "1196     3936777065  2108080724 2019-08-15   202740     B\n",
       "\n",
       "[1197 rows x 5 columns]"
      ]
     },
     "execution_count": 35,
     "metadata": {},
     "output_type": "execute_result"
    }
   ],
   "source": [
    "orders"
   ]
  },
  {
   "cell_type": "code",
   "execution_count": 36,
   "metadata": {},
   "outputs": [
    {
     "name": "stdout",
     "output_type": "stream",
     "text": [
      "        date group  orders  buyers  revenue  visitors\n",
      "0 2019-08-01     A      24      20   148579       719\n",
      "1 2019-08-01     B      21      20   101217       713\n",
      "2 2019-08-02     A      44      38   242401      1338\n",
      "3 2019-08-02     B      45      43   266748      1294\n",
      "4 2019-08-03     A      68      62   354874      1845\n"
     ]
    }
   ],
   "source": [
    "# создаем массив уникальных пар значений дат и групп теста\n",
    "datesGroups = orders[['date','group']].drop_duplicates()\n",
    "\n",
    "# получаем агрегированные кумулятивные по дням данные о заказах \n",
    "ordersAggregated = datesGroups.apply(lambda x: orders[np.logical_and(orders['date'] <= x['date'], orders['group'] == x['group'])].agg({'date' : 'max', 'group' : 'max', 'transactionId' : 'nunique', 'visitorId' : 'nunique', 'revenue' : 'sum'}), axis=1).sort_values(by=['date','group'])\n",
    "\n",
    "# получаем агрегированные кумулятивные по дням данные о посетителях интернет-магазина \n",
    "visitorsAggregated = datesGroups.apply(lambda x: visitors[np.logical_and(visitors['date'] <= x['date'], visitors['group'] == x['group'])].agg({'date' : 'max', 'group' : 'max', 'visitors' : 'sum'}), axis=1).sort_values(by=['date','group'])\n",
    "\n",
    "# объединяем кумулятивные данные в одной таблице и присваиваем ее столбцам понятные названия\n",
    "cumulativeData = ordersAggregated.merge(visitorsAggregated, left_on=['date', 'group'], right_on=['date', 'group'])\n",
    "cumulativeData.columns = ['date', 'group', 'orders', 'buyers', 'revenue', 'visitors']\n",
    "\n",
    "print(cumulativeData.head(5))"
   ]
  },
  {
   "cell_type": "code",
   "execution_count": 37,
   "metadata": {},
   "outputs": [
    {
     "data": {
      "image/png": "[encoded data removed]",
      "text/plain": [
       "<Figure size 1080x360 with 1 Axes>"
      ]
     },
     "metadata": {
      "needs_background": "light"
     },
     "output_type": "display_data"
    }
   ],
   "source": [
    "plt.figure(figsize=(15,5))\n",
    "plt.ticklabel_format(style='plain')\n",
    "\n",
    "# датафрейм с кумулятивным количеством заказов и кумулятивной выручкой по дням в группе А\n",
    "cumulativeRevenueA = cumulativeData[cumulativeData['group']=='A'][['date','revenue', 'orders']]\n",
    "\n",
    "# датафрейм с кумулятивным количеством заказов и кумулятивной выручкой по дням в группе B\n",
    "cumulativeRevenueB = cumulativeData[cumulativeData['group']=='B'][['date','revenue', 'orders']]\n",
    "\n",
    "# Строим график выручки группы А\n",
    "plt.plot(cumulativeRevenueA['date'], cumulativeRevenueA['revenue'], label='A')\n",
    "\n",
    "# Строим график выручки группы B\n",
    "plt.plot(cumulativeRevenueB['date'], cumulativeRevenueB['revenue'], label='B')\n",
    "\n",
    "plt.legend() \n",
    "plt.title('График кумулятивной выручки по группам')\n",
    "plt.xlabel('Дата')\n",
    "plt.ylabel('Выручка')\n",
    "plt.show()"
   ]
  },
  {
   "cell_type": "markdown",
   "metadata": {},
   "source": [
    "Выручка почти равномерно увеличивается в течение всего теста, однако видно, что в группе В она значительно выше."
   ]
  },
  {
   "cell_type": "markdown",
   "metadata": {},
   "source": [
    "#### Построим график кумулятивного среднего чека по группам"
   ]
  },
  {
   "cell_type": "code",
   "execution_count": 38,
   "metadata": {},
   "outputs": [
    {
     "data": {
      "image/png": "[encoded data removed]",
      "text/plain": [
       "<Figure size 1080x360 with 1 Axes>"
      ]
     },
     "metadata": {
      "needs_background": "light"
     },
     "output_type": "display_data"
    }
   ],
   "source": [
    "plt.figure(figsize=(15,5))\n",
    "plt.ticklabel_format(style='plain')\n",
    "\n",
    "plt.plot(cumulativeRevenueA['date'], cumulativeRevenueA['revenue']/cumulativeRevenueA['orders'], label='A')\n",
    "plt.plot(cumulativeRevenueB['date'], cumulativeRevenueB['revenue']/cumulativeRevenueB['orders'], label='B')\n",
    "plt.legend()\n",
    "plt.title('График кумулятивного среднего чека по группам')\n",
    "plt.xlabel('Дата')\n",
    "plt.ylabel('Средний чек')\n",
    "\n",
    "plt.show()"
   ]
  },
  {
   "cell_type": "markdown",
   "metadata": {},
   "source": [
    "Заметно, что с самого начала средний чек в группе В растет быстрее чем в группе А, также заметен резкий всплеск на графике значения группы В 19 числа, что может быть вызвано аномально крупными заказами."
   ]
  },
  {
   "cell_type": "markdown",
   "metadata": {},
   "source": [
    "#### Построим график относительного изменения кумулятивного среднего чека группы B к группе A"
   ]
  },
  {
   "cell_type": "code",
   "execution_count": 39,
   "metadata": {},
   "outputs": [
    {
     "data": {
      "image/png": "[encoded data removed]",
      "text/plain": [
       "<Figure size 1080x360 with 1 Axes>"
      ]
     },
     "metadata": {
      "needs_background": "light"
     },
     "output_type": "display_data"
    }
   ],
   "source": [
    "plt.figure(figsize=(15,5))\n",
    "plt.ticklabel_format(style='plain')\n",
    "\n",
    "# собираем данные в одном датафрейме\n",
    "mergedCumulativeRevenue = cumulativeRevenueA.merge(cumulativeRevenueB, left_on='date', right_on='date', how='left', suffixes=['A', 'B'])\n",
    "\n",
    "# cтроим отношение средних чеков\n",
    "plt.plot(mergedCumulativeRevenue['date'], (mergedCumulativeRevenue['revenueB']/mergedCumulativeRevenue['ordersB'])/(mergedCumulativeRevenue['revenueA']/mergedCumulativeRevenue['ordersA'])-1)\n",
    "\n",
    "# добавляем ось X\n",
    "plt.axhline(y=0, color='black', linestyle='--')\n",
    "\n",
    "plt.title('Относительное изменение кумулятивного среднего чека группы B к группе A')\n",
    "plt.xlabel('Дата')\n",
    "plt.ylabel('Относительное значение')\n",
    "plt.show()"
   ]
  },
  {
   "cell_type": "markdown",
   "metadata": {},
   "source": [
    "В нескольких точках график различия между сегментами резко «скачет». Это означает что в группы попали крупные заказы и выбросы."
   ]
  },
  {
   "cell_type": "markdown",
   "metadata": {},
   "source": [
    "#### Построим график кумулятивного среднего количества заказов на посетителя по группам"
   ]
  },
  {
   "cell_type": "code",
   "execution_count": 40,
   "metadata": {},
   "outputs": [
    {
     "data": {
      "image/png": "[encoded data removed]",
      "text/plain": [
       "<Figure size 1080x360 with 1 Axes>"
      ]
     },
     "metadata": {
      "needs_background": "light"
     },
     "output_type": "display_data"
    }
   ],
   "source": [
    "cumulativeData['conversion'] = cumulativeData['orders']/cumulativeData['visitors']\n",
    "cumulativeDataA = cumulativeData[cumulativeData['group']=='A']\n",
    "cumulativeDataB = cumulativeData[cumulativeData['group']=='B']\n",
    "\n",
    "min_value = pd.concat([cumulativeDataA['conversion'], cumulativeDataB['conversion']]).min() * 0.99\n",
    "max_value = pd.concat([cumulativeDataA['conversion'], cumulativeDataB['conversion']]).max() * 1.01\n",
    "\n",
    "plt.figure(figsize=(15,5))\n",
    "plt.plot(cumulativeDataA['date'], cumulativeDataA['conversion'], label='A')\n",
    "plt.plot(cumulativeDataB['date'], cumulativeDataB['conversion'], label='B')\n",
    "plt.legend()\n",
    "\n",
    "plt.axis([dt.datetime(2019, 8, 1), dt.datetime(2019, 8, 31), 0, 0.05])\n",
    "plt.xticks(cumulativeRevenueA['date'], rotation=90)\n",
    "plt.title('График кумулятивного среднего количества заказов на посетителя по группам')\n",
    "plt.xlabel('Дата')\n",
    "plt.ylabel('Относительное значение')\n",
    "plt.ylim(min_value, max_value)\n",
    "plt.show()"
   ]
  },
  {
   "cell_type": "markdown",
   "metadata": {},
   "source": [
    "#### Построим график относительного изменения кумулятивного среднего количества заказов на посетителя группы B к группе A"
   ]
  },
  {
   "cell_type": "code",
   "execution_count": 41,
   "metadata": {},
   "outputs": [
    {
     "data": {
      "image/png": "[encoded data removed]",
      "text/plain": [
       "<Figure size 1080x360 with 1 Axes>"
      ]
     },
     "metadata": {
      "needs_background": "light"
     },
     "output_type": "display_data"
    }
   ],
   "source": [
    "plt.figure(figsize=(15,5))\n",
    "mergedCumulativeConversions = cumulativeDataA[['date','conversion']]\\\n",
    "    .merge(cumulativeDataB[['date','conversion']], left_on='date', right_on='date', how='left', suffixes=['A', 'B'])\n",
    "\n",
    "plt.plot(mergedCumulativeConversions['date'],\\\n",
    "         mergedCumulativeConversions['conversionB']/mergedCumulativeConversions['conversionA']-1, label=\"Относительный прирост\")\n",
    "plt.legend()\n",
    "plt.ylabel('Относительное изменение')\n",
    "plt.axhline(y=0, color='black', linestyle='--')\n",
    "plt.title('Относительное изменение кумулятивного среднего количества заказов на посетителя группы B к группе A')\n",
    "plt.show()"
   ]
  },
  {
   "cell_type": "markdown",
   "metadata": {},
   "source": [
    "#### Построим точечный график количества заказов по пользователям. Сделайте выводы и предположения"
   ]
  },
  {
   "cell_type": "code",
   "execution_count": 42,
   "metadata": {},
   "outputs": [],
   "source": [
    "ordersByUsers = (\n",
    "    orders.groupby('visitorId', as_index=False)\n",
    "    .agg({'transactionId': 'nunique'})\n",
    ")\n",
    "\n",
    "ordersByUsers.columns = ['userId', 'orders']"
   ]
  },
  {
   "cell_type": "code",
   "execution_count": 43,
   "metadata": {},
   "outputs": [
    {
     "data": {
      "image/png": "[encoded data removed]",
      "text/plain": [
       "<Figure size 432x288 with 1 Axes>"
      ]
     },
     "metadata": {
      "needs_background": "light"
     },
     "output_type": "display_data"
    }
   ],
   "source": [
    "x_values = pd.Series(range(0,len(ordersByUsers)))\n",
    "\n",
    "plt.scatter(x_values, ordersByUsers['orders']) \n",
    "plt.title('График количества заказов по пользователям')\n",
    "plt.xlabel('Количесвто пользователей')\n",
    "plt.ylabel('Количесвто заказов')\n",
    "plt.show()"
   ]
  },
  {
   "cell_type": "markdown",
   "metadata": {},
   "source": [
    "Больше всего пользователей совершивших 1 заказ, далее этот показатель идет по нисходящей, для определения вбросов расчитаем процентили."
   ]
  },
  {
   "cell_type": "markdown",
   "metadata": {},
   "source": [
    "#### Посчитаем 95-й и 99-й перцентили количества заказов на пользователя. Выберим границу для определения аномальных пользователей"
   ]
  },
  {
   "cell_type": "code",
   "execution_count": 44,
   "metadata": {},
   "outputs": [
    {
     "name": "stdout",
     "output_type": "stream",
     "text": [
      "[2. 4.]\n"
     ]
    }
   ],
   "source": [
    "print(np.percentile(ordersByUsers['orders'], [95, 99])) "
   ]
  },
  {
   "cell_type": "markdown",
   "metadata": {},
   "source": [
    "95% пользователей совершают до 2 заказов, а 99% пользователей совершают до 4 заказов."
   ]
  },
  {
   "cell_type": "markdown",
   "metadata": {},
   "source": [
    "#### Построим точечный график стоимостей заказов"
   ]
  },
  {
   "cell_type": "code",
   "execution_count": 45,
   "metadata": {},
   "outputs": [
    {
     "data": {
      "image/png": "[encoded data removed]",
      "text/plain": [
       "<Figure size 432x288 with 1 Axes>"
      ]
     },
     "metadata": {
      "needs_background": "light"
     },
     "output_type": "display_data"
    }
   ],
   "source": [
    "x_values = pd.Series(range(0,len(orders['revenue'])))\n",
    "plt.scatter(x_values, orders['revenue']) \n",
    "plt.title('График стоимостей заказов')\n",
    "plt.xlabel('Количесвто пользователей')\n",
    "plt.ylabel('Стоимость заказов')\n",
    "plt.show()"
   ]
  },
  {
   "cell_type": "markdown",
   "metadata": {},
   "source": [
    "Из-за вброса в цене заказа плохо видно основную группу, поэтому построим более наглядный график."
   ]
  },
  {
   "cell_type": "code",
   "execution_count": 46,
   "metadata": {},
   "outputs": [
    {
     "data": {
      "image/png": "[encoded data removed]",
      "text/plain": [
       "<Figure size 432x288 with 1 Axes>"
      ]
     },
     "metadata": {
      "needs_background": "light"
     },
     "output_type": "display_data"
    }
   ],
   "source": [
    "orders_clear = orders[orders['revenue']<=195000]['revenue']\n",
    "xy_values = pd.Series(range(0,len(orders_clear)))\n",
    "plt.scatter(xy_values, orders_clear) \n",
    "plt.title('Очищенный график стоимостей заказов')\n",
    "plt.xlabel('Количесвто пользователей')\n",
    "plt.ylabel('Стоимость заказов')\n",
    "plt.show()"
   ]
  },
  {
   "cell_type": "markdown",
   "metadata": {},
   "source": [
    "На первый взгляд большинство заказов не превышает 20000, но для более точных расчетов рассчитаем процентили."
   ]
  },
  {
   "cell_type": "markdown",
   "metadata": {},
   "source": [
    "#### Посчитаем 95-й и 99-й перцентили стоимости заказов. Выберим границу для определения аномальных заказов."
   ]
  },
  {
   "cell_type": "code",
   "execution_count": 47,
   "metadata": {},
   "outputs": [
    {
     "name": "stdout",
     "output_type": "stream",
     "text": [
      "[28000.  58233.2]\n"
     ]
    }
   ],
   "source": [
    "print(np.percentile(orders['revenue'], [95, 99])) "
   ]
  },
  {
   "cell_type": "markdown",
   "metadata": {},
   "source": [
    "Лишь 5% покупателей платили больше 28000, и лишь 1% больше 58223"
   ]
  },
  {
   "cell_type": "markdown",
   "metadata": {},
   "source": [
    "Таким образом, определим следующие границы для дальнейшего анализа исключив аномальные данные:\n",
    "    \n",
    "- верхняя граница количества заказов на одного пользователя - до 2-х заказов включительно;\n",
    "    \n",
    "- верхняя граница стоимости одного заказа - до 28000."
   ]
  },
  {
   "cell_type": "markdown",
   "metadata": {},
   "source": [
    "#### Посчитаем статистическую значимость различий в среднем количестве заказов на посетителя между группами по «сырым» данным"
   ]
  },
  {
   "cell_type": "markdown",
   "metadata": {},
   "source": [
    "Посчитаем статистическую значимость различий в среднем числе заказов на пользователя и среднем чеке между группами по «сырым» данным — без удаления аномальных пользователей.\n",
    "Сформулируем гипотезы. \n",
    "- Нулевая: различий в среднем количестве заказов между группами нет. \n",
    "- Альтернативная: различия в среднем количестве заказов между группами есть."
   ]
  },
  {
   "cell_type": "code",
   "execution_count": 48,
   "metadata": {},
   "outputs": [
    {
     "name": "stdout",
     "output_type": "stream",
     "text": [
      "        date  ordersPerDateA  revenuePerDateA  ordersPerDateB  \\\n",
      "0 2019-08-01              24           148579              21   \n",
      "1 2019-08-02              20            93822              24   \n",
      "2 2019-08-03              24           112473              16   \n",
      "3 2019-08-04              16            70825              17   \n",
      "4 2019-08-05              25           124218              23   \n",
      "\n",
      "   revenuePerDateB  ordersCummulativeA  revenueCummulativeA  \\\n",
      "0           101217                  24               148579   \n",
      "1           165531                  44               242401   \n",
      "2           114248                  68               354874   \n",
      "3           108571                  84               425699   \n",
      "4            92428                 109               549917   \n",
      "\n",
      "   ordersCummulativeB  revenueCummulativeB  visitorsPerDateA  \\\n",
      "0                  21               101217               719   \n",
      "1                  45               266748               619   \n",
      "2                  61               380996               507   \n",
      "3                  78               489567               717   \n",
      "4                 101               581995               756   \n",
      "\n",
      "   visitorsPerDateB  visitorsCummulativeA  visitorsCummulativeB  \n",
      "0               713                   719                   713  \n",
      "1               581                  1338                  1294  \n",
      "2               509                  1845                  1803  \n",
      "3               770                  2562                  2573  \n",
      "4               707                  3318                  3280  \n"
     ]
    }
   ],
   "source": [
    "visitorsADaily = visitors[visitors['group'] == 'A'][['date', 'visitors']]\n",
    "visitorsADaily.columns = ['date', 'visitorsPerDateA']\n",
    "\n",
    "visitorsACummulative = visitorsADaily.apply(\n",
    "    lambda x: visitorsADaily[visitorsADaily['date'] <= x['date']].agg(\n",
    "        {'date': 'max', 'visitorsPerDateA': 'sum'}\n",
    "    ),\n",
    "    axis=1,\n",
    ")\n",
    "visitorsACummulative.columns = ['date', 'visitorsCummulativeA']\n",
    "\n",
    "visitorsBDaily = visitors[visitors['group'] == 'B'][['date', 'visitors']]\n",
    "visitorsBDaily.columns = ['date', 'visitorsPerDateB']\n",
    "\n",
    "visitorsBCummulative = visitorsBDaily.apply(\n",
    "    lambda x: visitorsBDaily[visitorsBDaily['date'] <= x['date']].agg(\n",
    "        {'date': 'max', 'visitorsPerDateB': 'sum'}\n",
    "    ),\n",
    "    axis=1,\n",
    ")\n",
    "visitorsBCummulative.columns = ['date', 'visitorsCummulativeB']\n",
    "\n",
    "ordersADaily = (\n",
    "    orders[orders['group'] == 'A'][['date', 'transactionId', 'visitorId', 'revenue']]\n",
    "    .groupby('date', as_index=False)\n",
    "    .agg({'transactionId': pd.Series.nunique, 'revenue': 'sum'})\n",
    ")\n",
    "ordersADaily.columns = ['date', 'ordersPerDateA', 'revenuePerDateA']\n",
    "\n",
    "ordersACummulative = ordersADaily.apply(\n",
    "    lambda x: ordersADaily[ordersADaily['date'] <= x['date']].agg(\n",
    "        {'date': 'max', 'ordersPerDateA': 'sum', 'revenuePerDateA': 'sum'}\n",
    "    ),\n",
    "    axis=1,\n",
    ").sort_values(by=['date'])\n",
    "ordersACummulative.columns = [\n",
    "    'date',\n",
    "    'ordersCummulativeA',\n",
    "    'revenueCummulativeA',\n",
    "]\n",
    "\n",
    "ordersBDaily = (\n",
    "    orders[orders['group'] == 'B'][['date', 'transactionId', 'visitorId', 'revenue']]\n",
    "    .groupby('date', as_index=False)\n",
    "    .agg({'transactionId': pd.Series.nunique, 'revenue': 'sum'})\n",
    ")\n",
    "ordersBDaily.columns = ['date', 'ordersPerDateB', 'revenuePerDateB']\n",
    "\n",
    "ordersBCummulative = ordersBDaily.apply(\n",
    "    lambda x: ordersBDaily[ordersBDaily['date'] <= x['date']].agg(\n",
    "        {'date': 'max', 'ordersPerDateB': 'sum', 'revenuePerDateB': 'sum'}\n",
    "    ),\n",
    "    axis=1,\n",
    ").sort_values(by=['date'])\n",
    "ordersBCummulative.columns = [\n",
    "    'date',\n",
    "    'ordersCummulativeB',\n",
    "    'revenueCummulativeB',\n",
    "]\n",
    "\n",
    "data = (\n",
    "    ordersADaily.merge(\n",
    "        ordersBDaily, left_on='date', right_on='date', how='left'\n",
    "    )\n",
    "    .merge(ordersACummulative, left_on='date', right_on='date', how='left')\n",
    "    .merge(ordersBCummulative, left_on='date', right_on='date', how='left')\n",
    "    .merge(visitorsADaily, left_on='date', right_on='date', how='left')\n",
    "    .merge(visitorsBDaily, left_on='date', right_on='date', how='left')\n",
    "    .merge(visitorsACummulative, left_on='date', right_on='date', how='left')\n",
    "    .merge(visitorsBCummulative, left_on='date', right_on='date', how='left')\n",
    ")\n",
    "\n",
    "print(data.head(5))"
   ]
  },
  {
   "cell_type": "code",
   "execution_count": 49,
   "metadata": {},
   "outputs": [],
   "source": [
    "ordersByUsersA = (\n",
    "    orders[orders['group'] == 'A']\n",
    "    .groupby('visitorId', as_index=False)\n",
    "    .agg({'transactionId': pd.Series.nunique})\n",
    ")\n",
    "ordersByUsersA.columns = ['visitorId', 'orders']\n",
    "\n",
    "ordersByUsersB = (\n",
    "    orders[orders['group'] == 'B']\n",
    "    .groupby('visitorId', as_index=False)\n",
    "    .agg({'transactionId': pd.Series.nunique})\n",
    ")\n",
    "ordersByUsersB.columns = ['visitorId', 'orders']"
   ]
  },
  {
   "cell_type": "code",
   "execution_count": 50,
   "metadata": {},
   "outputs": [
    {
     "name": "stdout",
     "output_type": "stream",
     "text": [
      "P-value 0.017\n",
      "Относительный выигрыш группы B по отношению к группе A 0.138\n"
     ]
    }
   ],
   "source": [
    "ordersByUsersA = (\n",
    "    orders[orders['group'] == 'A']\n",
    "    .groupby('visitorId', as_index=False)\n",
    "    .agg({'transactionId': pd.Series.nunique})\n",
    ")\n",
    "ordersByUsersA.columns = ['visitorId', 'orders']\n",
    "\n",
    "ordersByUsersB = (\n",
    "    orders[orders['group'] == 'B']\n",
    "    .groupby('visitorId', as_index=False)\n",
    "    .agg({'transactionId': pd.Series.nunique})\n",
    ")\n",
    "ordersByUsersB.columns = ['visitorId', 'orders']\n",
    "\n",
    "sampleA = pd.concat(\n",
    "    [\n",
    "        ordersByUsersA['orders'],\n",
    "        pd.Series(\n",
    "            0,\n",
    "            index=np.arange(\n",
    "                data['visitorsPerDateA'].sum() - len(ordersByUsersA['orders'])\n",
    "            ),\n",
    "            name='orders',\n",
    "        ),\n",
    "    ],\n",
    "    axis=0,\n",
    ")\n",
    "\n",
    "sampleB = pd.concat(\n",
    "    [\n",
    "        ordersByUsersB['orders'],\n",
    "        pd.Series(\n",
    "            0,\n",
    "            index=np.arange(\n",
    "                data['visitorsPerDateB'].sum() - len(ordersByUsersB['orders'])\n",
    "            ),\n",
    "            name='orders',\n",
    "        ),\n",
    "    ],\n",
    "    axis=0,\n",
    ")\n",
    "\n",
    "print('P-value ' \"{0:.3f}\".format(stats.mannwhitneyu(sampleA, sampleB)[1]))\n",
    "\n",
    "print('Относительный выигрыш группы B по отношению к группе A '\"{0:.3f}\".format(sampleB.mean() / sampleA.mean() - 1))"
   ]
  },
  {
   "cell_type": "markdown",
   "metadata": {},
   "source": [
    "P-value меньше 0.05. Значит, нулевую гипотезу, о том, что статистически значимых различий в среднем количестве заказов между группами нет, отвергаем. То есть различия в среднем количестве заказов между группами есть, а относительный выигрыш группы В над группой А составляет 13,8%."
   ]
  },
  {
   "cell_type": "markdown",
   "metadata": {},
   "source": [
    "#### Посчитаем статистическую значимость различий в среднем чеке заказа между группами по «сырым» данным"
   ]
  },
  {
   "cell_type": "markdown",
   "metadata": {},
   "source": [
    "Далее проверим статистическую значимость различий в среднем чеке между группами. Нулевая гипотеза: различий в среднем чеке между группами нет. Альтернативная гипотеза: различия в среднем чеке между группами есть. "
   ]
  },
  {
   "cell_type": "code",
   "execution_count": 51,
   "metadata": {},
   "outputs": [
    {
     "name": "stdout",
     "output_type": "stream",
     "text": [
      "P-value 0.729\n",
      "Относительная разница в среднем чеке 0.259\n"
     ]
    }
   ],
   "source": [
    "print('P-value ''{0:.3f}'.format(stats.mannwhitneyu(orders[orders['group']=='A']['revenue'], orders[orders['group']=='B']['revenue'])[1]))\n",
    "print('Относительная разница в среднем чеке ''{0:.3f}'.format(orders[orders['group']=='B']['revenue'].mean()/orders[orders['group']=='A']['revenue'].mean()-1))"
   ]
  },
  {
   "cell_type": "markdown",
   "metadata": {},
   "source": [
    "P-value больше 0.05. Значит, нулевую гипотезу о том, что статистически значимых различий в среднем чеке двух групп нет отвергать нет оснований. Но при этом разница в среднем чеке  группы В над группой А составляет 25,9%."
   ]
  },
  {
   "cell_type": "markdown",
   "metadata": {},
   "source": [
    "#### Посчитаем статистическую значимость различий в среднем количестве заказов на посетителя между группами по «очищенным» данным"
   ]
  },
  {
   "cell_type": "markdown",
   "metadata": {},
   "source": [
    "Очистим данные от выбросов, и будем придерживаться большинства в 95% пользователей, где количество заказов будет не больше 2, а сумма заказов не больше 28000."
   ]
  },
  {
   "cell_type": "code",
   "execution_count": 52,
   "metadata": {},
   "outputs": [
    {
     "name": "stdout",
     "output_type": "stream",
     "text": [
      "1099    148427295\n",
      "18      199603092\n",
      "928     204675465\n",
      "23      237748145\n",
      "37      249864742\n",
      "Name: visitorId, dtype: int64\n",
      "74\n"
     ]
    }
   ],
   "source": [
    "usersWithManyOrders = pd.concat(\n",
    "    [\n",
    "        ordersByUsersA[ordersByUsersA['orders'] > 2]['visitorId'],\n",
    "        ordersByUsersB[ordersByUsersB['orders'] > 2]['visitorId'],\n",
    "    ],\n",
    "    axis=0,\n",
    ")\n",
    "usersWithExpensiveOrders = orders[orders['revenue'] > 28000]['visitorId']\n",
    "abnormalUsers = (\n",
    "    pd.concat([usersWithManyOrders, usersWithExpensiveOrders], axis=0)\n",
    "    .drop_duplicates()\n",
    "    .sort_values()\n",
    ")\n",
    "print(abnormalUsers.head(5))\n",
    "print(abnormalUsers.shape[0])"
   ]
  },
  {
   "cell_type": "markdown",
   "metadata": {},
   "source": [
    "Всего 74 аномальных пользователей. Узнаем, как их действия повлияли на результаты теста. Посчитаем статистическую значимость различий в среднем количестве заказов между группами теста по очищенным данным."
   ]
  },
  {
   "cell_type": "code",
   "execution_count": 53,
   "metadata": {},
   "outputs": [
    {
     "data": {
      "text/plain": [
       "7.18"
      ]
     },
     "execution_count": 53,
     "metadata": {},
     "output_type": "execute_result"
    }
   ],
   "source": [
    "#посчитаем относительные потери пользователей\n",
    "x =  ((abnormalUsers.count() / orders['visitorId'].nunique()) * 100).round(2)\n",
    "x"
   ]
  },
  {
   "cell_type": "markdown",
   "metadata": {},
   "source": [
    "Относительные потери пользователей составиляют 7.18%."
   ]
  },
  {
   "cell_type": "code",
   "execution_count": 54,
   "metadata": {},
   "outputs": [],
   "source": [
    "sampleAFiltered = pd.concat(\n",
    "    [\n",
    "        ordersByUsersA[\n",
    "            np.logical_not(ordersByUsersA['visitorId'].isin(abnormalUsers))\n",
    "        ]['orders'],\n",
    "        pd.Series(\n",
    "            0,\n",
    "            index=np.arange(\n",
    "                data['visitorsPerDateA'].sum() - len(ordersByUsersA['orders'])\n",
    "            ),\n",
    "            name='orders',\n",
    "        ),\n",
    "    ],\n",
    "    axis=0,\n",
    ")\n",
    "\n",
    "sampleBFiltered = pd.concat(\n",
    "    [\n",
    "        ordersByUsersB[\n",
    "            np.logical_not(ordersByUsersB['visitorId'].isin(abnormalUsers))\n",
    "        ]['orders'],\n",
    "        pd.Series(\n",
    "            0,\n",
    "            index=np.arange(\n",
    "                data['visitorsPerDateB'].sum() - len(ordersByUsersB['orders'])\n",
    "            ),\n",
    "            name='orders',\n",
    "        ),\n",
    "    ],\n",
    "    axis=0,\n",
    ")"
   ]
  },
  {
   "cell_type": "code",
   "execution_count": 55,
   "metadata": {},
   "outputs": [
    {
     "name": "stdout",
     "output_type": "stream",
     "text": [
      "P-value 0.013\n",
      "Относительная разница в среднем чеке 0.173\n"
     ]
    }
   ],
   "source": [
    "print('P-value ' '{0:.3f}'.format(stats.mannwhitneyu(sampleAFiltered, sampleBFiltered)[1]))\n",
    "print('Относительная разница в среднем чеке ''{0:.3f}'.format(sampleBFiltered.mean()/sampleAFiltered.mean()-1))"
   ]
  },
  {
   "cell_type": "markdown",
   "metadata": {},
   "source": [
    "После того как были исключены аномальные значения получили следующие результаты:\n",
    "\n",
    "- отвергаем нулевую гипотезу, различий в среднем чеке между группами нет;\n",
    "\n",
    "- относительный выигрыш группы В над группой А вырос с 13,8% до 17,3%.\n",
    "\n",
    "Далее проверим изменилось ли что-нибудь с результатами по среднему чеку."
   ]
  },
  {
   "cell_type": "markdown",
   "metadata": {},
   "source": [
    "#### Посчитаем статистическую значимость различий в среднем чеке заказа между группами по «очищенным» данным"
   ]
  },
  {
   "cell_type": "code",
   "execution_count": 56,
   "metadata": {},
   "outputs": [
    {
     "name": "stdout",
     "output_type": "stream",
     "text": [
      "P-value 0.738\n",
      "Разница между сегментами -0.020\n"
     ]
    }
   ],
   "source": [
    "print('P-value '\n",
    "    '{0:.3f}'.format(\n",
    "        stats.mannwhitneyu(\n",
    "            orders[\n",
    "                np.logical_and(\n",
    "                    orders['group'] == 'A',\n",
    "                    np.logical_not(orders['visitorId'].isin(abnormalUsers)),\n",
    "                )\n",
    "            ]['revenue'],\n",
    "            orders[\n",
    "                np.logical_and(\n",
    "                    orders['group'] == 'B',\n",
    "                    np.logical_not(orders['visitorId'].isin(abnormalUsers)),\n",
    "                )\n",
    "            ]['revenue'],\n",
    "        )[1]\n",
    "    )\n",
    ")\n",
    "\n",
    "print('Разница между сегментами '\n",
    "    \"{0:.3f}\".format(\n",
    "        orders[\n",
    "            np.logical_and(\n",
    "                orders['group'] == 'B',\n",
    "                np.logical_not(orders['visitorId'].isin(abnormalUsers)),\n",
    "            )\n",
    "        ]['revenue'].mean()\n",
    "        / orders[\n",
    "            np.logical_and(\n",
    "                orders['group'] == 'A',\n",
    "                np.logical_not(orders['visitorId'].isin(abnormalUsers)),\n",
    "            )\n",
    "        ]['revenue'].mean()\n",
    "        - 1\n",
    "    )\n",
    ")"
   ]
  },
  {
   "cell_type": "markdown",
   "metadata": {},
   "source": [
    "После того как были исключены аномальные значения получили следующие результаты:\n",
    "\n",
    "- гипотеза о том, что различий в среднем чеке между группами нет подтвердилась;\n",
    "\n",
    "- в очищенных данных средний чек группы В оказался на 2% ниже группы А (ранее средний чек группы В был выше группы А на 26%).\n"
   ]
  },
  {
   "cell_type": "markdown",
   "metadata": {},
   "source": [
    "#### Решение по результатам теста\n",
    "В результате эксперимента было выявленно, что существует значительная разница в среднем количестве заказов между группами, в группе В она выше на 17,3%. Также было выявленно что по очищенным данным средний чек группы В ниже на 2%. \n",
    "Таким образом, мы делаем вывод, что тест необходимо остановить и зафиксировать победу группы В из-за значительной разницы в среднем количестве заказов В.\n"
   ]
  },
  {
   "cell_type": "markdown",
   "metadata": {},
   "source": [
    "### Вывод"
   ]
  },
  {
   "cell_type": "markdown",
   "metadata": {},
   "source": [
    " В результате выполненного анализа данных мы приходим к следующим выводам:\n",
    " \n",
    " - Данные были собраны корректно, дубликатов и пропусков не было обнаружено;\n",
    " \n",
    " - Анализ гипотез показал, что лидеры таблицы ICE 8, 0, 7 а таблицы RICE 7, 2, 0. Изменение мест гипотез произошел потому, что в таблице RICE мы учитывали то, насколько изменение затронет текущих пользователей, а в 7 гипотезе Reach максимальный, поэтому она и является самой приоритетной.\n",
    " \n",
    " - Были проанализированны результаты А/В теста, и обнаруженно следующее:\n",
    " Выручка почти равномерно увеличивается в течение всего теста, однако видно, что в группе В она значительно выше;\n",
    " С самого начала средний чек в группе В растет быстрее чем в группе А, также есть резкий всплеск на графике значения группы В 19 числа, что может быть связано с аномально крупными заказами;\n",
    " В начале периода среднее количество заказов на посетителя в группе А было выше, однако после 6 числа среднее количество заказов на посетителя группы В вырвалось вперед и зафиксировалось;\n",
    " 95% пользователей совершают до 2 заказов, а 99% пользователей совершают до 4 заказов;\n",
    " Лишь 5% покупателей платили больше 28000, и лишь 1% больше 58223;\n",
    " И в результате эксперимента было выявленно, что существует значительная разница в среднем количестве заказов между группами, в группе В она выше на 17,3%. Также было выявленно что по очищенным данным средний чек группы В ниже на 2%. \n",
    "Таким образом, мы делаем вывод, что тест необходимо остановить и зафиксировать победу группы В из-за значительной разницы в среднем количестве заказов В."
   ]
  }
 ],
 "metadata": {
  "ExecuteTimeLog": [
   {
    "duration": 46,
    "start_time": "2023-02-27T20:59:21.466Z"
   },
   {
    "duration": 1154,
    "start_time": "2023-02-27T20:59:56.406Z"
   },
   {
    "duration": 367,
    "start_time": "2023-02-27T21:00:09.619Z"
   },
   {
    "duration": 11,
    "start_time": "2023-02-27T21:00:19.971Z"
   },
   {
    "duration": 14,
    "start_time": "2023-02-27T21:00:32.079Z"
   },
   {
    "duration": 12,
    "start_time": "2023-02-27T21:00:48.330Z"
   },
   {
    "duration": 11,
    "start_time": "2023-02-27T21:01:08.700Z"
   },
   {
    "duration": 16,
    "start_time": "2023-02-27T21:01:18.841Z"
   },
   {
    "duration": 6,
    "start_time": "2023-02-27T21:01:27.739Z"
   },
   {
    "duration": 5,
    "start_time": "2023-02-27T21:01:38.805Z"
   },
   {
    "duration": 6,
    "start_time": "2023-02-27T21:01:47.061Z"
   },
   {
    "duration": 6,
    "start_time": "2023-02-27T21:01:57.708Z"
   },
   {
    "duration": 3,
    "start_time": "2023-02-27T21:02:08.795Z"
   },
   {
    "duration": 7,
    "start_time": "2023-02-27T21:02:19.164Z"
   },
   {
    "duration": 8,
    "start_time": "2023-02-27T21:02:26.083Z"
   },
   {
    "duration": 6,
    "start_time": "2023-02-27T21:02:37.627Z"
   },
   {
    "duration": 9,
    "start_time": "2023-02-27T21:21:33.574Z"
   },
   {
    "duration": 10,
    "start_time": "2023-02-27T21:26:29.689Z"
   },
   {
    "duration": 5,
    "start_time": "2023-02-27T21:26:39.736Z"
   },
   {
    "duration": 2,
    "start_time": "2023-02-27T21:26:56.426Z"
   },
   {
    "duration": 3,
    "start_time": "2023-02-27T21:27:05.125Z"
   },
   {
    "duration": 4,
    "start_time": "2023-02-27T21:27:15.385Z"
   },
   {
    "duration": 5,
    "start_time": "2023-02-27T21:27:25.495Z"
   },
   {
    "duration": 6,
    "start_time": "2023-02-27T21:27:33.422Z"
   },
   {
    "duration": 12,
    "start_time": "2023-02-27T21:30:40.323Z"
   },
   {
    "duration": 7,
    "start_time": "2023-02-27T21:30:48.758Z"
   },
   {
    "duration": 8,
    "start_time": "2023-02-27T21:31:32.783Z"
   },
   {
    "duration": 6,
    "start_time": "2023-02-27T21:32:35.808Z"
   },
   {
    "duration": 10,
    "start_time": "2023-02-27T21:32:44.233Z"
   },
   {
    "duration": 5,
    "start_time": "2023-02-27T21:33:09.423Z"
   },
   {
    "duration": 11,
    "start_time": "2023-02-27T21:33:17.646Z"
   },
   {
    "duration": 2,
    "start_time": "2023-02-27T21:35:20.898Z"
   },
   {
    "duration": 17,
    "start_time": "2023-02-27T21:35:52.630Z"
   },
   {
    "duration": 283,
    "start_time": "2023-02-27T21:36:03.507Z"
   },
   {
    "duration": 272,
    "start_time": "2023-02-27T21:36:16.664Z"
   },
   {
    "duration": 183,
    "start_time": "2023-02-27T21:36:56.953Z"
   },
   {
    "duration": 354,
    "start_time": "2023-02-27T21:40:05.580Z"
   },
   {
    "duration": 197,
    "start_time": "2023-02-27T21:45:39.618Z"
   },
   {
    "duration": 71,
    "start_time": "2023-02-27T21:46:08.245Z"
   },
   {
    "duration": 297,
    "start_time": "2023-02-27T21:53:46.972Z"
   },
   {
    "duration": 6,
    "start_time": "2023-02-27T21:54:26.937Z"
   },
   {
    "duration": 132,
    "start_time": "2023-02-27T21:54:35.730Z"
   },
   {
    "duration": 111,
    "start_time": "2023-02-27T21:55:02.735Z"
   },
   {
    "duration": 4,
    "start_time": "2023-02-27T21:56:00.178Z"
   },
   {
    "duration": 127,
    "start_time": "2023-02-27T21:56:34.798Z"
   },
   {
    "duration": 118,
    "start_time": "2023-02-27T21:57:07.190Z"
   },
   {
    "duration": 4,
    "start_time": "2023-02-27T21:57:48.424Z"
   },
   {
    "duration": 69,
    "start_time": "2023-02-27T21:58:35.631Z"
   },
   {
    "duration": 73,
    "start_time": "2023-02-27T21:59:08.213Z"
   },
   {
    "duration": 91,
    "start_time": "2023-02-27T21:59:14.428Z"
   },
   {
    "duration": 211,
    "start_time": "2023-02-27T22:00:15.987Z"
   },
   {
    "duration": 157,
    "start_time": "2023-02-27T22:00:33.054Z"
   },
   {
    "duration": 139,
    "start_time": "2023-02-27T22:00:45.638Z"
   },
   {
    "duration": 103,
    "start_time": "2023-02-27T22:01:26.252Z"
   },
   {
    "duration": 10,
    "start_time": "2023-02-27T22:01:39.866Z"
   },
   {
    "duration": 69,
    "start_time": "2023-02-27T22:02:19.199Z"
   },
   {
    "duration": 9,
    "start_time": "2023-02-27T22:02:34.258Z"
   },
   {
    "duration": 7,
    "start_time": "2023-02-27T22:02:58.818Z"
   },
   {
    "duration": 20,
    "start_time": "2023-02-27T22:03:07.466Z"
   },
   {
    "duration": 3,
    "start_time": "2023-02-27T22:03:29.633Z"
   },
   {
    "duration": 15,
    "start_time": "2023-02-27T22:03:47.037Z"
   },
   {
    "duration": 1288,
    "start_time": "2023-03-04T15:00:37.236Z"
   },
   {
    "duration": 270,
    "start_time": "2023-03-04T15:00:38.526Z"
   },
   {
    "duration": 15,
    "start_time": "2023-03-04T15:00:38.798Z"
   },
   {
    "duration": 18,
    "start_time": "2023-03-04T15:00:38.816Z"
   },
   {
    "duration": 15,
    "start_time": "2023-03-04T15:00:38.835Z"
   },
   {
    "duration": 13,
    "start_time": "2023-03-04T15:00:38.853Z"
   },
   {
    "duration": 54,
    "start_time": "2023-03-04T15:00:38.868Z"
   },
   {
    "duration": 8,
    "start_time": "2023-03-04T15:00:38.926Z"
   },
   {
    "duration": 6,
    "start_time": "2023-03-04T15:00:38.936Z"
   },
   {
    "duration": 6,
    "start_time": "2023-03-04T15:00:38.945Z"
   },
   {
    "duration": 14,
    "start_time": "2023-03-04T15:00:38.953Z"
   },
   {
    "duration": 23,
    "start_time": "2023-03-04T15:00:38.969Z"
   },
   {
    "duration": 4,
    "start_time": "2023-03-04T15:00:38.994Z"
   },
   {
    "duration": 14,
    "start_time": "2023-03-04T15:00:39.000Z"
   },
   {
    "duration": 10,
    "start_time": "2023-03-04T15:00:39.016Z"
   },
   {
    "duration": 11,
    "start_time": "2023-03-04T15:00:39.028Z"
   },
   {
    "duration": 13,
    "start_time": "2023-03-04T15:00:39.040Z"
   },
   {
    "duration": 9,
    "start_time": "2023-03-04T15:00:39.056Z"
   },
   {
    "duration": 6,
    "start_time": "2023-03-04T15:00:39.067Z"
   },
   {
    "duration": 12,
    "start_time": "2023-03-04T15:00:39.075Z"
   },
   {
    "duration": 9,
    "start_time": "2023-03-04T15:00:39.112Z"
   },
   {
    "duration": 9,
    "start_time": "2023-03-04T15:00:39.124Z"
   },
   {
    "duration": 6,
    "start_time": "2023-03-04T15:00:39.135Z"
   },
   {
    "duration": 14,
    "start_time": "2023-03-04T15:00:39.142Z"
   },
   {
    "duration": 5,
    "start_time": "2023-03-04T15:00:39.158Z"
   },
   {
    "duration": 11,
    "start_time": "2023-03-04T15:00:39.165Z"
   },
   {
    "duration": 47,
    "start_time": "2023-03-04T15:00:39.177Z"
   },
   {
    "duration": 12,
    "start_time": "2023-03-04T15:00:39.229Z"
   },
   {
    "duration": 147,
    "start_time": "2023-03-04T15:00:39.243Z"
   },
   {
    "duration": 13,
    "start_time": "2023-03-04T15:00:39.392Z"
   },
   {
    "duration": 19,
    "start_time": "2023-03-04T15:00:39.407Z"
   },
   {
    "duration": 337,
    "start_time": "2023-03-04T15:00:39.428Z"
   },
   {
    "duration": 335,
    "start_time": "2023-03-04T15:00:39.767Z"
   },
   {
    "duration": 249,
    "start_time": "2023-03-04T15:00:40.104Z"
   },
   {
    "duration": 386,
    "start_time": "2023-03-04T15:00:40.356Z"
   },
   {
    "duration": 272,
    "start_time": "2023-03-04T15:00:40.745Z"
   },
   {
    "duration": 377,
    "start_time": "2023-03-04T15:00:41.019Z"
   },
   {
    "duration": 17,
    "start_time": "2023-03-04T15:00:41.397Z"
   },
   {
    "duration": 133,
    "start_time": "2023-03-04T15:00:41.416Z"
   },
   {
    "duration": 5,
    "start_time": "2023-03-04T15:00:41.552Z"
   },
   {
    "duration": 173,
    "start_time": "2023-03-04T15:00:41.559Z"
   },
   {
    "duration": 155,
    "start_time": "2023-03-04T15:00:41.734Z"
   },
   {
    "duration": 4,
    "start_time": "2023-03-04T15:00:41.891Z"
   },
   {
    "duration": 262,
    "start_time": "2023-03-04T15:00:41.897Z"
   },
   {
    "duration": 168,
    "start_time": "2023-03-04T15:00:42.160Z"
   },
   {
    "duration": 212,
    "start_time": "2023-03-04T15:00:42.330Z"
   },
   {
    "duration": 14,
    "start_time": "2023-03-04T15:00:42.544Z"
   },
   {
    "duration": 9,
    "start_time": "2023-03-04T15:00:42.560Z"
   },
   {
    "duration": 8,
    "start_time": "2023-03-04T15:00:42.570Z"
   },
   {
    "duration": 48,
    "start_time": "2023-03-04T15:00:42.579Z"
   },
   {
    "duration": 17,
    "start_time": "2023-03-04T15:00:42.629Z"
   },
   {
    "duration": 48,
    "start_time": "2023-03-06T18:53:00.979Z"
   },
   {
    "duration": 7,
    "start_time": "2023-03-06T18:53:05.976Z"
   },
   {
    "duration": 1264,
    "start_time": "2023-03-06T18:53:09.976Z"
   },
   {
    "duration": 297,
    "start_time": "2023-03-06T18:53:11.243Z"
   },
   {
    "duration": 3,
    "start_time": "2023-03-06T18:53:11.541Z"
   },
   {
    "duration": 14,
    "start_time": "2023-03-06T18:53:11.546Z"
   },
   {
    "duration": 19,
    "start_time": "2023-03-06T18:53:11.562Z"
   },
   {
    "duration": 11,
    "start_time": "2023-03-06T18:53:11.583Z"
   },
   {
    "duration": 14,
    "start_time": "2023-03-06T18:53:11.596Z"
   },
   {
    "duration": 6,
    "start_time": "2023-03-06T18:53:11.611Z"
   },
   {
    "duration": 35,
    "start_time": "2023-03-06T18:53:11.619Z"
   },
   {
    "duration": 7,
    "start_time": "2023-03-06T18:53:11.657Z"
   },
   {
    "duration": 7,
    "start_time": "2023-03-06T18:53:11.666Z"
   },
   {
    "duration": 5,
    "start_time": "2023-03-06T18:53:11.675Z"
   },
   {
    "duration": 5,
    "start_time": "2023-03-06T18:53:11.682Z"
   },
   {
    "duration": 8,
    "start_time": "2023-03-06T18:53:11.689Z"
   },
   {
    "duration": 6,
    "start_time": "2023-03-06T18:53:11.699Z"
   },
   {
    "duration": 11,
    "start_time": "2023-03-06T18:53:11.706Z"
   },
   {
    "duration": 11,
    "start_time": "2023-03-06T18:53:11.754Z"
   },
   {
    "duration": 8,
    "start_time": "2023-03-06T18:53:11.766Z"
   },
   {
    "duration": 7,
    "start_time": "2023-03-06T18:53:11.775Z"
   },
   {
    "duration": 6,
    "start_time": "2023-03-06T18:53:11.783Z"
   },
   {
    "duration": 5,
    "start_time": "2023-03-06T18:53:11.791Z"
   },
   {
    "duration": 7,
    "start_time": "2023-03-06T18:53:11.798Z"
   },
   {
    "duration": 7,
    "start_time": "2023-03-06T18:53:11.806Z"
   },
   {
    "duration": 46,
    "start_time": "2023-03-06T18:53:11.814Z"
   },
   {
    "duration": 5,
    "start_time": "2023-03-06T18:53:11.861Z"
   },
   {
    "duration": 13,
    "start_time": "2023-03-06T18:53:11.868Z"
   },
   {
    "duration": 6,
    "start_time": "2023-03-06T18:53:11.883Z"
   },
   {
    "duration": 16,
    "start_time": "2023-03-06T18:53:11.892Z"
   },
   {
    "duration": 10,
    "start_time": "2023-03-06T18:53:11.909Z"
   },
   {
    "duration": 34,
    "start_time": "2023-03-06T18:53:11.920Z"
   },
   {
    "duration": 14,
    "start_time": "2023-03-06T18:53:11.956Z"
   },
   {
    "duration": 284,
    "start_time": "2023-03-06T18:53:11.971Z"
   },
   {
    "duration": 285,
    "start_time": "2023-03-06T18:53:12.257Z"
   },
   {
    "duration": 204,
    "start_time": "2023-03-06T18:53:12.544Z"
   },
   {
    "duration": 349,
    "start_time": "2023-03-06T18:53:12.749Z"
   },
   {
    "duration": 224,
    "start_time": "2023-03-06T18:53:13.100Z"
   },
   {
    "duration": 353,
    "start_time": "2023-03-06T18:53:13.327Z"
   },
   {
    "duration": 7,
    "start_time": "2023-03-06T18:53:13.682Z"
   },
   {
    "duration": 136,
    "start_time": "2023-03-06T18:53:13.691Z"
   },
   {
    "duration": 5,
    "start_time": "2023-03-06T18:53:13.828Z"
   },
   {
    "duration": 181,
    "start_time": "2023-03-06T18:53:13.834Z"
   },
   {
    "duration": 171,
    "start_time": "2023-03-06T18:53:14.017Z"
   },
   {
    "duration": 5,
    "start_time": "2023-03-06T18:53:14.189Z"
   },
   {
    "duration": 247,
    "start_time": "2023-03-06T18:53:14.195Z"
   },
   {
    "duration": 157,
    "start_time": "2023-03-06T18:53:14.444Z"
   },
   {
    "duration": 165,
    "start_time": "2023-03-06T18:53:14.603Z"
   },
   {
    "duration": 11,
    "start_time": "2023-03-06T18:53:14.770Z"
   },
   {
    "duration": 10,
    "start_time": "2023-03-06T18:53:14.782Z"
   },
   {
    "duration": 8,
    "start_time": "2023-03-06T18:53:14.793Z"
   },
   {
    "duration": 23,
    "start_time": "2023-03-06T18:53:14.803Z"
   },
   {
    "duration": 13,
    "start_time": "2023-03-06T18:53:14.854Z"
   },
   {
    "duration": 3,
    "start_time": "2023-03-06T18:53:25.620Z"
   },
   {
    "duration": 4,
    "start_time": "2023-03-06T18:53:32.469Z"
   },
   {
    "duration": 3,
    "start_time": "2023-03-06T18:53:47.804Z"
   },
   {
    "duration": 10,
    "start_time": "2023-03-06T18:54:31.649Z"
   },
   {
    "duration": 3,
    "start_time": "2023-03-06T18:54:47.064Z"
   },
   {
    "duration": 10,
    "start_time": "2023-03-06T18:55:02.513Z"
   },
   {
    "duration": 982,
    "start_time": "2023-03-06T18:55:07.403Z"
   },
   {
    "duration": 129,
    "start_time": "2023-03-06T18:55:08.388Z"
   },
   {
    "duration": 11,
    "start_time": "2023-03-06T18:55:08.519Z"
   },
   {
    "duration": 11,
    "start_time": "2023-03-06T18:55:08.532Z"
   },
   {
    "duration": 12,
    "start_time": "2023-03-06T18:55:08.545Z"
   },
   {
    "duration": 12,
    "start_time": "2023-03-06T18:55:08.559Z"
   },
   {
    "duration": 14,
    "start_time": "2023-03-06T18:55:08.573Z"
   },
   {
    "duration": 7,
    "start_time": "2023-03-06T18:55:08.589Z"
   },
   {
    "duration": 7,
    "start_time": "2023-03-06T18:55:08.598Z"
   },
   {
    "duration": 6,
    "start_time": "2023-03-06T18:55:08.607Z"
   },
   {
    "duration": 7,
    "start_time": "2023-03-06T18:55:08.614Z"
   },
   {
    "duration": 31,
    "start_time": "2023-03-06T18:55:08.623Z"
   },
   {
    "duration": 4,
    "start_time": "2023-03-06T18:55:08.656Z"
   },
   {
    "duration": 23,
    "start_time": "2023-03-06T18:55:08.663Z"
   },
   {
    "duration": 6,
    "start_time": "2023-03-06T18:55:08.688Z"
   },
   {
    "duration": 11,
    "start_time": "2023-03-06T18:55:08.696Z"
   },
   {
    "duration": 14,
    "start_time": "2023-03-06T18:55:08.709Z"
   },
   {
    "duration": 36,
    "start_time": "2023-03-06T18:55:08.725Z"
   },
   {
    "duration": 4,
    "start_time": "2023-03-06T18:55:08.763Z"
   },
   {
    "duration": 4,
    "start_time": "2023-03-06T18:55:08.769Z"
   },
   {
    "duration": 5,
    "start_time": "2023-03-06T18:55:08.775Z"
   },
   {
    "duration": 6,
    "start_time": "2023-03-06T18:55:08.781Z"
   },
   {
    "duration": 8,
    "start_time": "2023-03-06T18:55:08.789Z"
   },
   {
    "duration": 12,
    "start_time": "2023-03-06T18:55:08.799Z"
   },
   {
    "duration": 5,
    "start_time": "2023-03-06T18:55:08.812Z"
   },
   {
    "duration": 38,
    "start_time": "2023-03-06T18:55:08.818Z"
   },
   {
    "duration": 6,
    "start_time": "2023-03-06T18:55:08.857Z"
   },
   {
    "duration": 12,
    "start_time": "2023-03-06T18:55:08.865Z"
   },
   {
    "duration": 5,
    "start_time": "2023-03-06T18:55:08.878Z"
   },
   {
    "duration": 15,
    "start_time": "2023-03-06T18:55:08.884Z"
   },
   {
    "duration": 13,
    "start_time": "2023-03-06T18:55:08.902Z"
   },
   {
    "duration": 330,
    "start_time": "2023-03-06T18:55:08.917Z"
   },
   {
    "duration": 303,
    "start_time": "2023-03-06T18:55:09.252Z"
   },
   {
    "duration": 218,
    "start_time": "2023-03-06T18:55:09.557Z"
   },
   {
    "duration": 311,
    "start_time": "2023-03-06T18:55:09.776Z"
   },
   {
    "duration": 252,
    "start_time": "2023-03-06T18:55:10.089Z"
   },
   {
    "duration": 340,
    "start_time": "2023-03-06T18:55:10.343Z"
   },
   {
    "duration": 8,
    "start_time": "2023-03-06T18:55:10.685Z"
   },
   {
    "duration": 128,
    "start_time": "2023-03-06T18:55:10.695Z"
   },
   {
    "duration": 5,
    "start_time": "2023-03-06T18:55:10.824Z"
   },
   {
    "duration": 149,
    "start_time": "2023-03-06T18:55:10.832Z"
   },
   {
    "duration": 156,
    "start_time": "2023-03-06T18:55:10.983Z"
   },
   {
    "duration": 5,
    "start_time": "2023-03-06T18:55:11.140Z"
   },
   {
    "duration": 251,
    "start_time": "2023-03-06T18:55:11.153Z"
   },
   {
    "duration": 143,
    "start_time": "2023-03-06T18:55:11.406Z"
   },
   {
    "duration": 164,
    "start_time": "2023-03-06T18:55:11.551Z"
   },
   {
    "duration": 10,
    "start_time": "2023-03-06T18:55:11.717Z"
   },
   {
    "duration": 10,
    "start_time": "2023-03-06T18:55:11.729Z"
   },
   {
    "duration": 8,
    "start_time": "2023-03-06T18:55:11.754Z"
   },
   {
    "duration": 22,
    "start_time": "2023-03-06T18:55:11.764Z"
   },
   {
    "duration": 15,
    "start_time": "2023-03-06T18:55:11.788Z"
   },
   {
    "duration": 12,
    "start_time": "2023-03-06T18:59:19.811Z"
   },
   {
    "duration": 98,
    "start_time": "2023-03-06T19:01:05.944Z"
   },
   {
    "duration": 5,
    "start_time": "2023-03-06T19:01:14.775Z"
   },
   {
    "duration": 6,
    "start_time": "2023-03-06T19:01:47.660Z"
   },
   {
    "duration": 5,
    "start_time": "2023-03-06T19:02:59.653Z"
   },
   {
    "duration": 5,
    "start_time": "2023-03-06T19:04:46.628Z"
   },
   {
    "duration": 6,
    "start_time": "2023-03-06T19:24:23.916Z"
   },
   {
    "duration": 6,
    "start_time": "2023-03-06T21:42:29.603Z"
   },
   {
    "duration": 6,
    "start_time": "2023-03-06T21:42:57.058Z"
   },
   {
    "duration": 6,
    "start_time": "2023-03-06T21:43:30.765Z"
   },
   {
    "duration": 47,
    "start_time": "2023-03-06T21:44:02.859Z"
   },
   {
    "duration": 4,
    "start_time": "2023-03-06T21:47:32.943Z"
   },
   {
    "duration": 11,
    "start_time": "2023-03-06T21:47:35.265Z"
   },
   {
    "duration": 4,
    "start_time": "2023-03-06T21:47:48.869Z"
   },
   {
    "duration": 11,
    "start_time": "2023-03-06T21:47:52.947Z"
   },
   {
    "duration": 4,
    "start_time": "2023-03-06T21:48:00.273Z"
   },
   {
    "duration": 12,
    "start_time": "2023-03-06T21:48:03.624Z"
   },
   {
    "duration": 4,
    "start_time": "2023-03-06T21:48:26.752Z"
   },
   {
    "duration": 11,
    "start_time": "2023-03-06T21:48:28.502Z"
   },
   {
    "duration": 4,
    "start_time": "2023-03-06T21:48:33.578Z"
   },
   {
    "duration": 12,
    "start_time": "2023-03-06T21:48:35.089Z"
   },
   {
    "duration": 4,
    "start_time": "2023-03-06T21:49:49.722Z"
   },
   {
    "duration": 11,
    "start_time": "2023-03-06T21:49:52.616Z"
   },
   {
    "duration": 267,
    "start_time": "2023-03-06T21:54:39.222Z"
   },
   {
    "duration": 204,
    "start_time": "2023-03-06T21:55:35.007Z"
   },
   {
    "duration": 202,
    "start_time": "2023-03-06T21:56:35.291Z"
   },
   {
    "duration": 231,
    "start_time": "2023-03-06T21:57:44.086Z"
   },
   {
    "duration": 50,
    "start_time": "2023-03-06T21:59:50.236Z"
   },
   {
    "duration": 223,
    "start_time": "2023-03-06T22:02:54.065Z"
   },
   {
    "duration": 193,
    "start_time": "2023-03-06T22:04:00.772Z"
   },
   {
    "duration": 293,
    "start_time": "2023-03-06T22:06:24.067Z"
   },
   {
    "duration": 201,
    "start_time": "2023-03-06T22:10:56.115Z"
   },
   {
    "duration": 332,
    "start_time": "2023-03-06T22:21:36.710Z"
   },
   {
    "duration": 300,
    "start_time": "2023-03-06T22:21:50.517Z"
   },
   {
    "duration": 400,
    "start_time": "2023-03-06T22:35:02.407Z"
   },
   {
    "duration": 301,
    "start_time": "2023-03-06T22:36:17.699Z"
   },
   {
    "duration": 58,
    "start_time": "2023-03-06T23:01:51.412Z"
   },
   {
    "duration": 47,
    "start_time": "2023-03-06T23:02:02.675Z"
   },
   {
    "duration": 45,
    "start_time": "2023-03-06T23:02:04.651Z"
   },
   {
    "duration": 177,
    "start_time": "2023-03-06T23:02:15.136Z"
   },
   {
    "duration": 158,
    "start_time": "2023-03-06T23:02:29.422Z"
   },
   {
    "duration": 148,
    "start_time": "2023-03-06T23:02:35.988Z"
   },
   {
    "duration": 163,
    "start_time": "2023-03-06T23:02:44.617Z"
   },
   {
    "duration": 161,
    "start_time": "2023-03-06T23:02:57.141Z"
   },
   {
    "duration": 148,
    "start_time": "2023-03-06T23:03:47.264Z"
   },
   {
    "duration": 10,
    "start_time": "2023-03-06T23:12:02.143Z"
   },
   {
    "duration": 19,
    "start_time": "2023-03-06T23:28:07.196Z"
   },
   {
    "duration": 19,
    "start_time": "2023-03-06T23:28:38.639Z"
   },
   {
    "duration": 183,
    "start_time": "2023-03-06T23:57:20.164Z"
   },
   {
    "duration": 69,
    "start_time": "2023-03-07T00:14:43.260Z"
   },
   {
    "duration": 49,
    "start_time": "2023-03-07T00:21:52.335Z"
   },
   {
    "duration": 49,
    "start_time": "2023-03-07T00:26:53.906Z"
   },
   {
    "duration": 1082,
    "start_time": "2023-03-08T03:36:35.357Z"
   },
   {
    "duration": 118,
    "start_time": "2023-03-08T03:36:36.441Z"
   },
   {
    "duration": 12,
    "start_time": "2023-03-08T03:36:36.561Z"
   },
   {
    "duration": 17,
    "start_time": "2023-03-08T03:36:36.576Z"
   },
   {
    "duration": 7,
    "start_time": "2023-03-08T03:36:36.595Z"
   },
   {
    "duration": 11,
    "start_time": "2023-03-08T03:36:36.604Z"
   },
   {
    "duration": 12,
    "start_time": "2023-03-08T03:36:36.616Z"
   },
   {
    "duration": 6,
    "start_time": "2023-03-08T03:36:36.629Z"
   },
   {
    "duration": 29,
    "start_time": "2023-03-08T03:36:36.636Z"
   },
   {
    "duration": 6,
    "start_time": "2023-03-08T03:36:36.667Z"
   },
   {
    "duration": 6,
    "start_time": "2023-03-08T03:36:36.674Z"
   },
   {
    "duration": 5,
    "start_time": "2023-03-08T03:36:36.681Z"
   },
   {
    "duration": 5,
    "start_time": "2023-03-08T03:36:36.688Z"
   },
   {
    "duration": 10,
    "start_time": "2023-03-08T03:36:36.694Z"
   },
   {
    "duration": 12,
    "start_time": "2023-03-08T03:36:36.706Z"
   },
   {
    "duration": 36,
    "start_time": "2023-03-08T03:36:36.719Z"
   },
   {
    "duration": 5,
    "start_time": "2023-03-08T03:36:36.757Z"
   },
   {
    "duration": 5,
    "start_time": "2023-03-08T03:36:36.763Z"
   },
   {
    "duration": 9,
    "start_time": "2023-03-08T03:36:36.769Z"
   },
   {
    "duration": 9,
    "start_time": "2023-03-08T03:36:36.779Z"
   },
   {
    "duration": 5,
    "start_time": "2023-03-08T03:36:36.789Z"
   },
   {
    "duration": 9,
    "start_time": "2023-03-08T03:36:36.795Z"
   },
   {
    "duration": 4,
    "start_time": "2023-03-08T03:36:36.805Z"
   },
   {
    "duration": 3,
    "start_time": "2023-03-08T03:36:36.810Z"
   },
   {
    "duration": 40,
    "start_time": "2023-03-08T03:36:36.815Z"
   },
   {
    "duration": 6,
    "start_time": "2023-03-08T03:36:36.857Z"
   },
   {
    "duration": 6,
    "start_time": "2023-03-08T03:36:36.864Z"
   },
   {
    "duration": 10,
    "start_time": "2023-03-08T03:36:36.873Z"
   },
   {
    "duration": 3,
    "start_time": "2023-03-08T03:36:36.885Z"
   },
   {
    "duration": 8,
    "start_time": "2023-03-08T03:36:36.889Z"
   },
   {
    "duration": 4,
    "start_time": "2023-03-08T03:36:36.898Z"
   },
   {
    "duration": 10,
    "start_time": "2023-03-08T03:36:36.903Z"
   },
   {
    "duration": 3,
    "start_time": "2023-03-08T03:36:36.956Z"
   },
   {
    "duration": 10,
    "start_time": "2023-03-08T03:36:36.961Z"
   },
   {
    "duration": 11,
    "start_time": "2023-03-08T03:36:36.973Z"
   },
   {
    "duration": 296,
    "start_time": "2023-03-08T03:36:36.985Z"
   },
   {
    "duration": 275,
    "start_time": "2023-03-08T03:36:37.282Z"
   },
   {
    "duration": 198,
    "start_time": "2023-03-08T03:36:37.559Z"
   },
   {
    "duration": 297,
    "start_time": "2023-03-08T03:36:37.758Z"
   },
   {
    "duration": 112,
    "start_time": "2023-03-08T03:36:38.056Z"
   },
   {
    "duration": 0,
    "start_time": "2023-03-08T03:36:38.170Z"
   },
   {
    "duration": 0,
    "start_time": "2023-03-08T03:36:38.172Z"
   },
   {
    "duration": 0,
    "start_time": "2023-03-08T03:36:38.173Z"
   },
   {
    "duration": 0,
    "start_time": "2023-03-08T03:36:38.174Z"
   },
   {
    "duration": 0,
    "start_time": "2023-03-08T03:36:38.176Z"
   },
   {
    "duration": 0,
    "start_time": "2023-03-08T03:36:38.177Z"
   },
   {
    "duration": 0,
    "start_time": "2023-03-08T03:36:38.178Z"
   },
   {
    "duration": 0,
    "start_time": "2023-03-08T03:36:38.179Z"
   },
   {
    "duration": 0,
    "start_time": "2023-03-08T03:36:38.181Z"
   },
   {
    "duration": 0,
    "start_time": "2023-03-08T03:36:38.182Z"
   },
   {
    "duration": 0,
    "start_time": "2023-03-08T03:36:38.184Z"
   },
   {
    "duration": 0,
    "start_time": "2023-03-08T03:36:38.185Z"
   },
   {
    "duration": 0,
    "start_time": "2023-03-08T03:36:38.186Z"
   },
   {
    "duration": 1,
    "start_time": "2023-03-08T03:36:38.187Z"
   },
   {
    "duration": 0,
    "start_time": "2023-03-08T03:36:38.189Z"
   },
   {
    "duration": 0,
    "start_time": "2023-03-08T03:36:38.191Z"
   },
   {
    "duration": 59,
    "start_time": "2023-03-08T17:58:26.590Z"
   },
   {
    "duration": 1145,
    "start_time": "2023-03-08T17:58:51.476Z"
   },
   {
    "duration": 248,
    "start_time": "2023-03-08T17:58:52.623Z"
   },
   {
    "duration": 11,
    "start_time": "2023-03-08T17:58:52.873Z"
   },
   {
    "duration": 10,
    "start_time": "2023-03-08T17:58:52.886Z"
   },
   {
    "duration": 5,
    "start_time": "2023-03-08T17:58:52.898Z"
   },
   {
    "duration": 12,
    "start_time": "2023-03-08T17:58:52.905Z"
   },
   {
    "duration": 9,
    "start_time": "2023-03-08T17:58:52.918Z"
   },
   {
    "duration": 7,
    "start_time": "2023-03-08T17:58:52.929Z"
   },
   {
    "duration": 18,
    "start_time": "2023-03-08T17:58:52.956Z"
   },
   {
    "duration": 7,
    "start_time": "2023-03-08T17:58:52.977Z"
   },
   {
    "duration": 6,
    "start_time": "2023-03-08T17:58:52.986Z"
   },
   {
    "duration": 5,
    "start_time": "2023-03-08T17:58:52.994Z"
   },
   {
    "duration": 5,
    "start_time": "2023-03-08T17:58:53.001Z"
   },
   {
    "duration": 4,
    "start_time": "2023-03-08T17:58:53.007Z"
   },
   {
    "duration": 44,
    "start_time": "2023-03-08T17:58:53.012Z"
   },
   {
    "duration": 6,
    "start_time": "2023-03-08T17:58:53.057Z"
   },
   {
    "duration": 6,
    "start_time": "2023-03-08T17:58:53.065Z"
   },
   {
    "duration": 5,
    "start_time": "2023-03-08T17:58:53.072Z"
   },
   {
    "duration": 10,
    "start_time": "2023-03-08T17:58:53.078Z"
   },
   {
    "duration": 10,
    "start_time": "2023-03-08T17:58:53.090Z"
   },
   {
    "duration": 7,
    "start_time": "2023-03-08T17:58:53.101Z"
   },
   {
    "duration": 47,
    "start_time": "2023-03-08T17:58:53.110Z"
   },
   {
    "duration": 4,
    "start_time": "2023-03-08T17:58:53.158Z"
   },
   {
    "duration": 3,
    "start_time": "2023-03-08T17:58:53.163Z"
   },
   {
    "duration": 4,
    "start_time": "2023-03-08T17:58:53.168Z"
   },
   {
    "duration": 9,
    "start_time": "2023-03-08T17:58:53.174Z"
   },
   {
    "duration": 6,
    "start_time": "2023-03-08T17:58:53.184Z"
   },
   {
    "duration": 11,
    "start_time": "2023-03-08T17:58:53.193Z"
   },
   {
    "duration": 4,
    "start_time": "2023-03-08T17:58:53.205Z"
   },
   {
    "duration": 46,
    "start_time": "2023-03-08T17:58:53.210Z"
   },
   {
    "duration": 4,
    "start_time": "2023-03-08T17:58:53.257Z"
   },
   {
    "duration": 10,
    "start_time": "2023-03-08T17:58:53.263Z"
   },
   {
    "duration": 3,
    "start_time": "2023-03-08T17:58:53.275Z"
   },
   {
    "duration": 13,
    "start_time": "2023-03-08T17:58:53.280Z"
   },
   {
    "duration": 13,
    "start_time": "2023-03-08T17:58:53.294Z"
   },
   {
    "duration": 309,
    "start_time": "2023-03-08T17:58:53.309Z"
   },
   {
    "duration": 291,
    "start_time": "2023-03-08T17:58:53.620Z"
   },
   {
    "duration": 199,
    "start_time": "2023-03-08T17:58:53.913Z"
   },
   {
    "duration": 370,
    "start_time": "2023-03-08T17:58:54.113Z"
   },
   {
    "duration": 117,
    "start_time": "2023-03-08T17:58:54.485Z"
   },
   {
    "duration": 0,
    "start_time": "2023-03-08T17:58:54.604Z"
   },
   {
    "duration": 0,
    "start_time": "2023-03-08T17:58:54.605Z"
   },
   {
    "duration": 0,
    "start_time": "2023-03-08T17:58:54.605Z"
   },
   {
    "duration": 0,
    "start_time": "2023-03-08T17:58:54.607Z"
   },
   {
    "duration": 0,
    "start_time": "2023-03-08T17:58:54.607Z"
   },
   {
    "duration": 0,
    "start_time": "2023-03-08T17:58:54.608Z"
   },
   {
    "duration": 0,
    "start_time": "2023-03-08T17:58:54.609Z"
   },
   {
    "duration": 0,
    "start_time": "2023-03-08T17:58:54.610Z"
   },
   {
    "duration": 0,
    "start_time": "2023-03-08T17:58:54.611Z"
   },
   {
    "duration": 0,
    "start_time": "2023-03-08T17:58:54.612Z"
   },
   {
    "duration": 0,
    "start_time": "2023-03-08T17:58:54.613Z"
   },
   {
    "duration": 0,
    "start_time": "2023-03-08T17:58:54.614Z"
   },
   {
    "duration": 0,
    "start_time": "2023-03-08T17:58:54.615Z"
   },
   {
    "duration": 1,
    "start_time": "2023-03-08T17:58:54.615Z"
   },
   {
    "duration": 0,
    "start_time": "2023-03-08T17:58:54.617Z"
   },
   {
    "duration": 0,
    "start_time": "2023-03-08T17:58:54.617Z"
   },
   {
    "duration": 9,
    "start_time": "2023-03-08T17:59:11.027Z"
   },
   {
    "duration": 1010,
    "start_time": "2023-03-08T18:00:57.456Z"
   },
   {
    "duration": 123,
    "start_time": "2023-03-08T18:00:58.468Z"
   },
   {
    "duration": 11,
    "start_time": "2023-03-08T18:00:58.938Z"
   },
   {
    "duration": 11,
    "start_time": "2023-03-08T18:00:59.897Z"
   },
   {
    "duration": 6,
    "start_time": "2023-03-08T18:01:00.220Z"
   },
   {
    "duration": 12,
    "start_time": "2023-03-08T18:01:00.519Z"
   },
   {
    "duration": 10,
    "start_time": "2023-03-08T18:01:00.822Z"
   },
   {
    "duration": 5,
    "start_time": "2023-03-08T18:01:01.116Z"
   },
   {
    "duration": 12,
    "start_time": "2023-03-08T18:01:01.416Z"
   },
   {
    "duration": 7,
    "start_time": "2023-03-08T18:01:01.795Z"
   },
   {
    "duration": 6,
    "start_time": "2023-03-08T18:01:02.049Z"
   },
   {
    "duration": 5,
    "start_time": "2023-03-08T18:01:02.394Z"
   },
   {
    "duration": 6,
    "start_time": "2023-03-08T18:01:02.681Z"
   },
   {
    "duration": 4,
    "start_time": "2023-03-08T18:01:02.987Z"
   },
   {
    "duration": 3,
    "start_time": "2023-03-08T18:01:03.251Z"
   },
   {
    "duration": 6,
    "start_time": "2023-03-08T18:01:03.613Z"
   },
   {
    "duration": 6,
    "start_time": "2023-03-08T18:01:03.895Z"
   },
   {
    "duration": 5,
    "start_time": "2023-03-08T18:01:04.140Z"
   },
   {
    "duration": 9,
    "start_time": "2023-03-08T18:01:05.540Z"
   },
   {
    "duration": 12,
    "start_time": "2023-03-08T18:01:05.872Z"
   },
   {
    "duration": 6,
    "start_time": "2023-03-08T18:01:06.123Z"
   },
   {
    "duration": 7,
    "start_time": "2023-03-08T18:01:06.509Z"
   },
   {
    "duration": 4,
    "start_time": "2023-03-08T18:01:06.798Z"
   },
   {
    "duration": 3,
    "start_time": "2023-03-08T18:01:07.095Z"
   },
   {
    "duration": 4,
    "start_time": "2023-03-08T18:01:07.354Z"
   },
   {
    "duration": 4,
    "start_time": "2023-03-08T18:01:07.688Z"
   },
   {
    "duration": 4,
    "start_time": "2023-03-08T18:01:07.995Z"
   },
   {
    "duration": 12,
    "start_time": "2023-03-08T18:01:09.906Z"
   },
   {
    "duration": 4,
    "start_time": "2023-03-08T18:01:10.298Z"
   },
   {
    "duration": 7,
    "start_time": "2023-03-08T18:01:11.530Z"
   },
   {
    "duration": 4,
    "start_time": "2023-03-08T18:01:11.898Z"
   },
   {
    "duration": 14,
    "start_time": "2023-03-08T18:01:12.118Z"
   },
   {
    "duration": 5,
    "start_time": "2023-03-08T18:01:13.789Z"
   },
   {
    "duration": 12,
    "start_time": "2023-03-08T18:01:14.014Z"
   },
   {
    "duration": 14,
    "start_time": "2023-03-08T18:01:16.115Z"
   },
   {
    "duration": 339,
    "start_time": "2023-03-08T18:01:16.503Z"
   },
   {
    "duration": 278,
    "start_time": "2023-03-08T18:01:17.257Z"
   },
   {
    "duration": 182,
    "start_time": "2023-03-08T18:01:19.726Z"
   },
   {
    "duration": 324,
    "start_time": "2023-03-08T18:01:20.846Z"
   },
   {
    "duration": 114,
    "start_time": "2023-03-08T18:01:22.855Z"
   },
   {
    "duration": 12,
    "start_time": "2023-03-08T18:01:33.311Z"
   },
   {
    "duration": 12,
    "start_time": "2023-03-08T18:01:37.498Z"
   },
   {
    "duration": 7,
    "start_time": "2023-03-08T18:01:40.621Z"
   },
   {
    "duration": 116,
    "start_time": "2023-03-08T18:01:41.049Z"
   },
   {
    "duration": 5,
    "start_time": "2023-03-08T18:01:43.028Z"
   },
   {
    "duration": 126,
    "start_time": "2023-03-08T18:01:44.511Z"
   },
   {
    "duration": 128,
    "start_time": "2023-03-08T18:01:45.697Z"
   },
   {
    "duration": 4,
    "start_time": "2023-03-08T18:01:47.227Z"
   },
   {
    "duration": 213,
    "start_time": "2023-03-08T18:01:51.490Z"
   },
   {
    "duration": 163,
    "start_time": "2023-03-08T18:01:52.499Z"
   },
   {
    "duration": 158,
    "start_time": "2023-03-08T18:01:52.999Z"
   },
   {
    "duration": 11,
    "start_time": "2023-03-08T18:02:01.899Z"
   },
   {
    "duration": 10,
    "start_time": "2023-03-08T18:02:04.090Z"
   },
   {
    "duration": 632,
    "start_time": "2023-03-08T18:02:05.539Z"
   },
   {
    "duration": 4,
    "start_time": "2023-03-08T18:03:05.991Z"
   },
   {
    "duration": 1033,
    "start_time": "2023-03-08T19:32:03.753Z"
   },
   {
    "duration": 118,
    "start_time": "2023-03-08T19:32:04.788Z"
   },
   {
    "duration": 11,
    "start_time": "2023-03-08T19:32:04.907Z"
   },
   {
    "duration": 9,
    "start_time": "2023-03-08T19:32:04.921Z"
   },
   {
    "duration": 6,
    "start_time": "2023-03-08T19:32:04.932Z"
   },
   {
    "duration": 12,
    "start_time": "2023-03-08T19:32:04.939Z"
   },
   {
    "duration": 15,
    "start_time": "2023-03-08T19:32:04.952Z"
   },
   {
    "duration": 5,
    "start_time": "2023-03-08T19:32:04.969Z"
   },
   {
    "duration": 12,
    "start_time": "2023-03-08T19:32:04.975Z"
   },
   {
    "duration": 6,
    "start_time": "2023-03-08T19:32:04.989Z"
   },
   {
    "duration": 5,
    "start_time": "2023-03-08T19:32:04.997Z"
   },
   {
    "duration": 5,
    "start_time": "2023-03-08T19:32:05.003Z"
   },
   {
    "duration": 5,
    "start_time": "2023-03-08T19:32:05.010Z"
   },
   {
    "duration": 8,
    "start_time": "2023-03-08T19:32:05.016Z"
   },
   {
    "duration": 7,
    "start_time": "2023-03-08T19:32:05.055Z"
   },
   {
    "duration": 36,
    "start_time": "2023-03-08T19:32:05.064Z"
   },
   {
    "duration": 23,
    "start_time": "2023-03-08T19:32:05.102Z"
   },
   {
    "duration": 35,
    "start_time": "2023-03-08T19:32:05.126Z"
   },
   {
    "duration": 30,
    "start_time": "2023-03-08T19:32:05.163Z"
   },
   {
    "duration": 41,
    "start_time": "2023-03-08T19:32:05.195Z"
   },
   {
    "duration": 18,
    "start_time": "2023-03-08T19:32:05.237Z"
   },
   {
    "duration": 32,
    "start_time": "2023-03-08T19:32:05.256Z"
   },
   {
    "duration": 22,
    "start_time": "2023-03-08T19:32:05.289Z"
   },
   {
    "duration": 30,
    "start_time": "2023-03-08T19:32:05.312Z"
   },
   {
    "duration": 39,
    "start_time": "2023-03-08T19:32:05.343Z"
   },
   {
    "duration": 40,
    "start_time": "2023-03-08T19:32:05.384Z"
   },
   {
    "duration": 19,
    "start_time": "2023-03-08T19:32:05.426Z"
   },
   {
    "duration": 36,
    "start_time": "2023-03-08T19:32:05.448Z"
   },
   {
    "duration": 16,
    "start_time": "2023-03-08T19:32:05.485Z"
   },
   {
    "duration": 29,
    "start_time": "2023-03-08T19:32:05.502Z"
   },
   {
    "duration": 27,
    "start_time": "2023-03-08T19:32:05.532Z"
   },
   {
    "duration": 31,
    "start_time": "2023-03-08T19:32:05.561Z"
   },
   {
    "duration": 23,
    "start_time": "2023-03-08T19:32:05.594Z"
   },
   {
    "duration": 19,
    "start_time": "2023-03-08T19:32:05.618Z"
   },
   {
    "duration": 26,
    "start_time": "2023-03-08T19:32:05.638Z"
   },
   {
    "duration": 290,
    "start_time": "2023-03-08T19:32:05.666Z"
   },
   {
    "duration": 293,
    "start_time": "2023-03-08T19:32:05.958Z"
   },
   {
    "duration": 196,
    "start_time": "2023-03-08T19:32:06.254Z"
   },
   {
    "duration": 342,
    "start_time": "2023-03-08T19:32:06.454Z"
   },
   {
    "duration": 115,
    "start_time": "2023-03-08T19:32:06.797Z"
   },
   {
    "duration": 0,
    "start_time": "2023-03-08T19:32:06.913Z"
   },
   {
    "duration": 0,
    "start_time": "2023-03-08T19:32:06.914Z"
   },
   {
    "duration": 0,
    "start_time": "2023-03-08T19:32:06.915Z"
   },
   {
    "duration": 0,
    "start_time": "2023-03-08T19:32:06.916Z"
   },
   {
    "duration": 0,
    "start_time": "2023-03-08T19:32:06.917Z"
   },
   {
    "duration": 0,
    "start_time": "2023-03-08T19:32:06.918Z"
   },
   {
    "duration": 0,
    "start_time": "2023-03-08T19:32:06.919Z"
   },
   {
    "duration": 0,
    "start_time": "2023-03-08T19:32:06.919Z"
   },
   {
    "duration": 0,
    "start_time": "2023-03-08T19:32:06.920Z"
   },
   {
    "duration": 0,
    "start_time": "2023-03-08T19:32:06.921Z"
   },
   {
    "duration": 0,
    "start_time": "2023-03-08T19:32:06.922Z"
   },
   {
    "duration": 0,
    "start_time": "2023-03-08T19:32:06.923Z"
   },
   {
    "duration": 0,
    "start_time": "2023-03-08T19:32:06.924Z"
   },
   {
    "duration": 0,
    "start_time": "2023-03-08T19:32:06.925Z"
   },
   {
    "duration": 0,
    "start_time": "2023-03-08T19:32:06.926Z"
   },
   {
    "duration": 8,
    "start_time": "2023-03-08T19:32:30.580Z"
   },
   {
    "duration": 994,
    "start_time": "2023-03-08T19:32:37.381Z"
   },
   {
    "duration": 115,
    "start_time": "2023-03-08T19:32:38.377Z"
   },
   {
    "duration": 10,
    "start_time": "2023-03-08T19:32:38.494Z"
   },
   {
    "duration": 9,
    "start_time": "2023-03-08T19:32:38.506Z"
   },
   {
    "duration": 13,
    "start_time": "2023-03-08T19:32:38.516Z"
   },
   {
    "duration": 12,
    "start_time": "2023-03-08T19:32:38.531Z"
   },
   {
    "duration": 9,
    "start_time": "2023-03-08T19:32:38.545Z"
   },
   {
    "duration": 5,
    "start_time": "2023-03-08T19:32:38.556Z"
   },
   {
    "duration": 12,
    "start_time": "2023-03-08T19:32:38.562Z"
   },
   {
    "duration": 5,
    "start_time": "2023-03-08T19:32:38.576Z"
   },
   {
    "duration": 4,
    "start_time": "2023-03-08T19:32:38.583Z"
   },
   {
    "duration": 4,
    "start_time": "2023-03-08T19:32:38.589Z"
   },
   {
    "duration": 4,
    "start_time": "2023-03-08T19:32:38.595Z"
   },
   {
    "duration": 3,
    "start_time": "2023-03-08T19:32:38.601Z"
   },
   {
    "duration": 4,
    "start_time": "2023-03-08T19:32:38.605Z"
   },
   {
    "duration": 46,
    "start_time": "2023-03-08T19:32:38.610Z"
   },
   {
    "duration": 5,
    "start_time": "2023-03-08T19:32:38.657Z"
   },
   {
    "duration": 4,
    "start_time": "2023-03-08T19:32:38.663Z"
   },
   {
    "duration": 9,
    "start_time": "2023-03-08T19:32:38.668Z"
   },
   {
    "duration": 8,
    "start_time": "2023-03-08T19:32:38.679Z"
   },
   {
    "duration": 5,
    "start_time": "2023-03-08T19:32:38.689Z"
   },
   {
    "duration": 5,
    "start_time": "2023-03-08T19:32:38.695Z"
   },
   {
    "duration": 3,
    "start_time": "2023-03-08T19:32:38.702Z"
   },
   {
    "duration": 4,
    "start_time": "2023-03-08T19:32:38.707Z"
   },
   {
    "duration": 46,
    "start_time": "2023-03-08T19:32:38.712Z"
   },
   {
    "duration": 6,
    "start_time": "2023-03-08T19:32:38.759Z"
   },
   {
    "duration": 5,
    "start_time": "2023-03-08T19:32:38.766Z"
   },
   {
    "duration": 10,
    "start_time": "2023-03-08T19:32:38.774Z"
   },
   {
    "duration": 4,
    "start_time": "2023-03-08T19:32:38.786Z"
   },
   {
    "duration": 7,
    "start_time": "2023-03-08T19:32:38.791Z"
   },
   {
    "duration": 4,
    "start_time": "2023-03-08T19:32:38.799Z"
   },
   {
    "duration": 11,
    "start_time": "2023-03-08T19:32:38.804Z"
   },
   {
    "duration": 41,
    "start_time": "2023-03-08T19:32:38.816Z"
   },
   {
    "duration": 15,
    "start_time": "2023-03-08T19:32:38.858Z"
   },
   {
    "duration": 11,
    "start_time": "2023-03-08T19:32:38.875Z"
   },
   {
    "duration": 279,
    "start_time": "2023-03-08T19:32:38.888Z"
   },
   {
    "duration": 284,
    "start_time": "2023-03-08T19:32:39.169Z"
   },
   {
    "duration": 202,
    "start_time": "2023-03-08T19:32:39.455Z"
   },
   {
    "duration": 322,
    "start_time": "2023-03-08T19:32:39.659Z"
   },
   {
    "duration": 127,
    "start_time": "2023-03-08T19:32:39.983Z"
   },
   {
    "duration": 0,
    "start_time": "2023-03-08T19:32:40.112Z"
   },
   {
    "duration": 0,
    "start_time": "2023-03-08T19:32:40.113Z"
   },
   {
    "duration": 0,
    "start_time": "2023-03-08T19:32:40.114Z"
   },
   {
    "duration": 0,
    "start_time": "2023-03-08T19:32:40.115Z"
   },
   {
    "duration": 0,
    "start_time": "2023-03-08T19:32:40.116Z"
   },
   {
    "duration": 0,
    "start_time": "2023-03-08T19:32:40.117Z"
   },
   {
    "duration": 0,
    "start_time": "2023-03-08T19:32:40.118Z"
   },
   {
    "duration": 0,
    "start_time": "2023-03-08T19:32:40.119Z"
   },
   {
    "duration": 0,
    "start_time": "2023-03-08T19:32:40.120Z"
   },
   {
    "duration": 0,
    "start_time": "2023-03-08T19:32:40.123Z"
   },
   {
    "duration": 0,
    "start_time": "2023-03-08T19:32:40.124Z"
   },
   {
    "duration": 0,
    "start_time": "2023-03-08T19:32:40.125Z"
   },
   {
    "duration": 0,
    "start_time": "2023-03-08T19:32:40.126Z"
   },
   {
    "duration": 0,
    "start_time": "2023-03-08T19:32:40.127Z"
   },
   {
    "duration": 0,
    "start_time": "2023-03-08T19:32:40.155Z"
   },
   {
    "duration": 0,
    "start_time": "2023-03-08T19:32:40.157Z"
   },
   {
    "duration": 2,
    "start_time": "2023-03-08T19:32:54.405Z"
   },
   {
    "duration": 75,
    "start_time": "2023-03-08T19:32:55.118Z"
   },
   {
    "duration": 9,
    "start_time": "2023-03-08T19:32:55.774Z"
   },
   {
    "duration": 14,
    "start_time": "2023-03-08T19:32:56.644Z"
   },
   {
    "duration": 6,
    "start_time": "2023-03-08T19:32:56.984Z"
   },
   {
    "duration": 12,
    "start_time": "2023-03-08T19:32:57.592Z"
   },
   {
    "duration": 10,
    "start_time": "2023-03-08T19:32:57.856Z"
   },
   {
    "duration": 6,
    "start_time": "2023-03-08T19:32:58.206Z"
   },
   {
    "duration": 11,
    "start_time": "2023-03-08T19:32:58.523Z"
   },
   {
    "duration": 6,
    "start_time": "2023-03-08T19:32:58.799Z"
   },
   {
    "duration": 6,
    "start_time": "2023-03-08T19:32:59.135Z"
   },
   {
    "duration": 6,
    "start_time": "2023-03-08T19:32:59.424Z"
   },
   {
    "duration": 6,
    "start_time": "2023-03-08T19:32:59.740Z"
   },
   {
    "duration": 4,
    "start_time": "2023-03-08T19:33:00.068Z"
   },
   {
    "duration": 4,
    "start_time": "2023-03-08T19:33:00.348Z"
   },
   {
    "duration": 8,
    "start_time": "2023-03-08T19:33:00.681Z"
   },
   {
    "duration": 5,
    "start_time": "2023-03-08T19:33:01.006Z"
   },
   {
    "duration": 5,
    "start_time": "2023-03-08T19:33:01.295Z"
   },
   {
    "duration": 11,
    "start_time": "2023-03-08T19:33:02.515Z"
   },
   {
    "duration": 12,
    "start_time": "2023-03-08T19:33:02.837Z"
   },
   {
    "duration": 6,
    "start_time": "2023-03-08T19:33:03.082Z"
   },
   {
    "duration": 6,
    "start_time": "2023-03-08T19:33:03.377Z"
   },
   {
    "duration": 4,
    "start_time": "2023-03-08T19:33:03.692Z"
   },
   {
    "duration": 4,
    "start_time": "2023-03-08T19:33:03.937Z"
   },
   {
    "duration": 5,
    "start_time": "2023-03-08T19:33:04.280Z"
   },
   {
    "duration": 6,
    "start_time": "2023-03-08T19:33:04.570Z"
   },
   {
    "duration": 7,
    "start_time": "2023-03-08T19:33:04.873Z"
   },
   {
    "duration": 12,
    "start_time": "2023-03-08T19:33:06.733Z"
   },
   {
    "duration": 5,
    "start_time": "2023-03-08T19:33:07.017Z"
   },
   {
    "duration": 7,
    "start_time": "2023-03-08T19:33:08.302Z"
   },
   {
    "duration": 5,
    "start_time": "2023-03-08T19:33:08.680Z"
   },
   {
    "duration": 9,
    "start_time": "2023-03-08T19:33:08.910Z"
   },
   {
    "duration": 4,
    "start_time": "2023-03-08T19:33:10.479Z"
   },
   {
    "duration": 11,
    "start_time": "2023-03-08T19:33:10.814Z"
   },
   {
    "duration": 15,
    "start_time": "2023-03-08T19:33:13.349Z"
   },
   {
    "duration": 279,
    "start_time": "2023-03-08T19:33:14.046Z"
   },
   {
    "duration": 243,
    "start_time": "2023-03-08T19:33:14.697Z"
   },
   {
    "duration": 197,
    "start_time": "2023-03-08T19:33:16.380Z"
   },
   {
    "duration": 286,
    "start_time": "2023-03-08T19:33:17.292Z"
   },
   {
    "duration": 17,
    "start_time": "2023-03-08T19:33:18.289Z"
   },
   {
    "duration": 15,
    "start_time": "2023-03-08T19:33:19.891Z"
   },
   {
    "duration": 8,
    "start_time": "2023-03-08T19:33:26.410Z"
   },
   {
    "duration": 201,
    "start_time": "2023-03-08T19:33:26.731Z"
   },
   {
    "duration": 4,
    "start_time": "2023-03-08T19:33:28.004Z"
   },
   {
    "duration": 130,
    "start_time": "2023-03-08T19:33:29.312Z"
   },
   {
    "duration": 124,
    "start_time": "2023-03-08T19:33:30.088Z"
   },
   {
    "duration": 4,
    "start_time": "2023-03-08T19:33:31.231Z"
   },
   {
    "duration": 198,
    "start_time": "2023-03-08T19:33:34.806Z"
   },
   {
    "duration": 138,
    "start_time": "2023-03-08T19:33:35.451Z"
   },
   {
    "duration": 181,
    "start_time": "2023-03-08T19:33:35.745Z"
   },
   {
    "duration": 10,
    "start_time": "2023-03-08T19:33:39.807Z"
   },
   {
    "duration": 8,
    "start_time": "2023-03-08T19:33:41.310Z"
   },
   {
    "duration": 5,
    "start_time": "2023-03-08T19:33:43.426Z"
   },
   {
    "duration": 7,
    "start_time": "2023-03-08T19:33:44.297Z"
   },
   {
    "duration": 20,
    "start_time": "2023-03-08T19:33:44.689Z"
   },
   {
    "duration": 18,
    "start_time": "2023-03-08T19:33:47.046Z"
   },
   {
    "duration": 23,
    "start_time": "2023-03-08T19:35:41.854Z"
   },
   {
    "duration": 13,
    "start_time": "2023-03-08T20:14:15.232Z"
   },
   {
    "duration": 15,
    "start_time": "2023-03-08T20:18:51.230Z"
   },
   {
    "duration": 160,
    "start_time": "2023-03-08T20:21:05.768Z"
   },
   {
    "duration": 45,
    "start_time": "2023-03-08T20:23:18.969Z"
   },
   {
    "duration": 985,
    "start_time": "2023-03-09T17:13:55.600Z"
   },
   {
    "duration": 114,
    "start_time": "2023-03-09T17:13:56.587Z"
   },
   {
    "duration": 10,
    "start_time": "2023-03-09T17:13:56.703Z"
   },
   {
    "duration": 18,
    "start_time": "2023-03-09T17:13:56.714Z"
   },
   {
    "duration": 19,
    "start_time": "2023-03-09T17:13:56.734Z"
   },
   {
    "duration": 19,
    "start_time": "2023-03-09T17:13:56.754Z"
   },
   {
    "duration": 26,
    "start_time": "2023-03-09T17:13:56.776Z"
   },
   {
    "duration": 28,
    "start_time": "2023-03-09T17:13:56.804Z"
   },
   {
    "duration": 32,
    "start_time": "2023-03-09T17:13:56.834Z"
   },
   {
    "duration": 14,
    "start_time": "2023-03-09T17:13:56.869Z"
   },
   {
    "duration": 9,
    "start_time": "2023-03-09T17:13:56.884Z"
   },
   {
    "duration": 12,
    "start_time": "2023-03-09T17:13:56.894Z"
   },
   {
    "duration": 19,
    "start_time": "2023-03-09T17:13:56.908Z"
   },
   {
    "duration": 9,
    "start_time": "2023-03-09T17:13:56.930Z"
   },
   {
    "duration": 6,
    "start_time": "2023-03-09T17:13:56.941Z"
   },
   {
    "duration": 9,
    "start_time": "2023-03-09T17:13:56.949Z"
   },
   {
    "duration": 7,
    "start_time": "2023-03-09T17:13:56.959Z"
   },
   {
    "duration": 8,
    "start_time": "2023-03-09T17:13:56.968Z"
   },
   {
    "duration": 9,
    "start_time": "2023-03-09T17:13:56.978Z"
   },
   {
    "duration": 14,
    "start_time": "2023-03-09T17:13:56.989Z"
   },
   {
    "duration": 8,
    "start_time": "2023-03-09T17:13:57.005Z"
   },
   {
    "duration": 8,
    "start_time": "2023-03-09T17:13:57.040Z"
   },
   {
    "duration": 11,
    "start_time": "2023-03-09T17:13:57.050Z"
   },
   {
    "duration": 30,
    "start_time": "2023-03-09T17:13:57.063Z"
   },
   {
    "duration": 17,
    "start_time": "2023-03-09T17:13:57.094Z"
   },
   {
    "duration": 15,
    "start_time": "2023-03-09T17:13:57.113Z"
   },
   {
    "duration": 7,
    "start_time": "2023-03-09T17:13:57.130Z"
   },
   {
    "duration": 11,
    "start_time": "2023-03-09T17:13:57.140Z"
   },
   {
    "duration": 5,
    "start_time": "2023-03-09T17:13:57.153Z"
   },
   {
    "duration": 11,
    "start_time": "2023-03-09T17:13:57.160Z"
   },
   {
    "duration": 4,
    "start_time": "2023-03-09T17:13:57.173Z"
   },
   {
    "duration": 11,
    "start_time": "2023-03-09T17:13:57.178Z"
   },
   {
    "duration": 9,
    "start_time": "2023-03-09T17:13:57.190Z"
   },
   {
    "duration": 28,
    "start_time": "2023-03-09T17:13:57.200Z"
   },
   {
    "duration": 16,
    "start_time": "2023-03-09T17:13:57.230Z"
   },
   {
    "duration": 263,
    "start_time": "2023-03-09T17:13:57.247Z"
   },
   {
    "duration": 268,
    "start_time": "2023-03-09T17:13:57.511Z"
   },
   {
    "duration": 201,
    "start_time": "2023-03-09T17:13:57.781Z"
   },
   {
    "duration": 291,
    "start_time": "2023-03-09T17:13:57.983Z"
   },
   {
    "duration": 107,
    "start_time": "2023-03-09T17:13:58.276Z"
   },
   {
    "duration": 0,
    "start_time": "2023-03-09T17:13:58.384Z"
   },
   {
    "duration": 0,
    "start_time": "2023-03-09T17:13:58.386Z"
   },
   {
    "duration": 0,
    "start_time": "2023-03-09T17:13:58.387Z"
   },
   {
    "duration": 0,
    "start_time": "2023-03-09T17:13:58.389Z"
   },
   {
    "duration": 0,
    "start_time": "2023-03-09T17:13:58.390Z"
   },
   {
    "duration": 0,
    "start_time": "2023-03-09T17:13:58.392Z"
   },
   {
    "duration": 0,
    "start_time": "2023-03-09T17:13:58.393Z"
   },
   {
    "duration": 0,
    "start_time": "2023-03-09T17:13:58.394Z"
   },
   {
    "duration": 0,
    "start_time": "2023-03-09T17:13:58.395Z"
   },
   {
    "duration": 0,
    "start_time": "2023-03-09T17:13:58.397Z"
   },
   {
    "duration": 0,
    "start_time": "2023-03-09T17:13:58.398Z"
   },
   {
    "duration": 1,
    "start_time": "2023-03-09T17:13:58.399Z"
   },
   {
    "duration": 0,
    "start_time": "2023-03-09T17:13:58.401Z"
   },
   {
    "duration": 0,
    "start_time": "2023-03-09T17:13:58.403Z"
   },
   {
    "duration": 0,
    "start_time": "2023-03-09T17:13:58.404Z"
   },
   {
    "duration": 0,
    "start_time": "2023-03-09T17:13:58.441Z"
   },
   {
    "duration": 8,
    "start_time": "2023-03-09T17:15:44.148Z"
   },
   {
    "duration": 156,
    "start_time": "2023-03-09T17:15:44.158Z"
   },
   {
    "duration": 5,
    "start_time": "2023-03-09T17:15:44.315Z"
   },
   {
    "duration": 138,
    "start_time": "2023-03-09T17:15:44.322Z"
   },
   {
    "duration": 129,
    "start_time": "2023-03-09T17:15:44.461Z"
   },
   {
    "duration": 4,
    "start_time": "2023-03-09T17:15:44.591Z"
   },
   {
    "duration": 223,
    "start_time": "2023-03-09T17:15:44.597Z"
   },
   {
    "duration": 140,
    "start_time": "2023-03-09T17:15:44.822Z"
   },
   {
    "duration": 155,
    "start_time": "2023-03-09T17:15:44.964Z"
   },
   {
    "duration": 18,
    "start_time": "2023-03-09T17:15:45.121Z"
   },
   {
    "duration": 9,
    "start_time": "2023-03-09T17:15:45.141Z"
   },
   {
    "duration": 12,
    "start_time": "2023-03-09T17:15:45.151Z"
   },
   {
    "duration": 10,
    "start_time": "2023-03-09T17:15:45.165Z"
   },
   {
    "duration": 19,
    "start_time": "2023-03-09T17:15:45.176Z"
   },
   {
    "duration": 13,
    "start_time": "2023-03-09T17:15:45.197Z"
   },
   {
    "duration": 61,
    "start_time": "2023-03-09T17:22:55.720Z"
   },
   {
    "duration": 1365,
    "start_time": "2023-03-09T17:23:03.071Z"
   },
   {
    "duration": 301,
    "start_time": "2023-03-09T17:23:04.439Z"
   },
   {
    "duration": 19,
    "start_time": "2023-03-09T17:23:04.741Z"
   },
   {
    "duration": 14,
    "start_time": "2023-03-09T17:23:04.769Z"
   },
   {
    "duration": 6,
    "start_time": "2023-03-09T17:23:04.785Z"
   },
   {
    "duration": 13,
    "start_time": "2023-03-09T17:23:04.792Z"
   },
   {
    "duration": 13,
    "start_time": "2023-03-09T17:23:04.807Z"
   },
   {
    "duration": 7,
    "start_time": "2023-03-09T17:23:04.822Z"
   },
   {
    "duration": 24,
    "start_time": "2023-03-09T17:23:04.855Z"
   },
   {
    "duration": 7,
    "start_time": "2023-03-09T17:23:04.882Z"
   },
   {
    "duration": 8,
    "start_time": "2023-03-09T17:23:04.892Z"
   },
   {
    "duration": 6,
    "start_time": "2023-03-09T17:23:04.902Z"
   },
   {
    "duration": 14,
    "start_time": "2023-03-09T17:23:04.910Z"
   },
   {
    "duration": 38,
    "start_time": "2023-03-09T17:23:04.926Z"
   },
   {
    "duration": 11,
    "start_time": "2023-03-09T17:23:04.966Z"
   },
   {
    "duration": 12,
    "start_time": "2023-03-09T17:23:04.979Z"
   },
   {
    "duration": 5,
    "start_time": "2023-03-09T17:23:04.993Z"
   },
   {
    "duration": 5,
    "start_time": "2023-03-09T17:23:04.999Z"
   },
   {
    "duration": 15,
    "start_time": "2023-03-09T17:23:05.005Z"
   },
   {
    "duration": 11,
    "start_time": "2023-03-09T17:23:05.021Z"
   },
   {
    "duration": 37,
    "start_time": "2023-03-09T17:23:05.033Z"
   },
   {
    "duration": 8,
    "start_time": "2023-03-09T17:23:05.072Z"
   },
   {
    "duration": 19,
    "start_time": "2023-03-09T17:23:05.082Z"
   },
   {
    "duration": 7,
    "start_time": "2023-03-09T17:23:05.102Z"
   },
   {
    "duration": 8,
    "start_time": "2023-03-09T17:23:05.110Z"
   },
   {
    "duration": 23,
    "start_time": "2023-03-09T17:23:05.119Z"
   },
   {
    "duration": 17,
    "start_time": "2023-03-09T17:23:05.143Z"
   },
   {
    "duration": 16,
    "start_time": "2023-03-09T17:23:05.170Z"
   },
   {
    "duration": 10,
    "start_time": "2023-03-09T17:23:05.187Z"
   },
   {
    "duration": 22,
    "start_time": "2023-03-09T17:23:05.198Z"
   },
   {
    "duration": 19,
    "start_time": "2023-03-09T17:23:05.221Z"
   },
   {
    "duration": 40,
    "start_time": "2023-03-09T17:23:05.242Z"
   },
   {
    "duration": 28,
    "start_time": "2023-03-09T17:23:05.283Z"
   },
   {
    "duration": 27,
    "start_time": "2023-03-09T17:23:05.313Z"
   },
   {
    "duration": 20,
    "start_time": "2023-03-09T17:23:05.342Z"
   },
   {
    "duration": 337,
    "start_time": "2023-03-09T17:23:05.363Z"
   },
   {
    "duration": 383,
    "start_time": "2023-03-09T17:23:05.702Z"
   },
   {
    "duration": 221,
    "start_time": "2023-03-09T17:23:06.088Z"
   },
   {
    "duration": 410,
    "start_time": "2023-03-09T17:23:06.311Z"
   },
   {
    "duration": 151,
    "start_time": "2023-03-09T17:23:06.723Z"
   },
   {
    "duration": 0,
    "start_time": "2023-03-09T17:23:06.876Z"
   },
   {
    "duration": 0,
    "start_time": "2023-03-09T17:23:06.878Z"
   },
   {
    "duration": 0,
    "start_time": "2023-03-09T17:23:06.878Z"
   },
   {
    "duration": 0,
    "start_time": "2023-03-09T17:23:06.880Z"
   },
   {
    "duration": 0,
    "start_time": "2023-03-09T17:23:06.881Z"
   },
   {
    "duration": 0,
    "start_time": "2023-03-09T17:23:06.882Z"
   },
   {
    "duration": 0,
    "start_time": "2023-03-09T17:23:06.883Z"
   },
   {
    "duration": 0,
    "start_time": "2023-03-09T17:23:06.885Z"
   },
   {
    "duration": 0,
    "start_time": "2023-03-09T17:23:06.887Z"
   },
   {
    "duration": 0,
    "start_time": "2023-03-09T17:23:06.888Z"
   },
   {
    "duration": 0,
    "start_time": "2023-03-09T17:23:06.889Z"
   },
   {
    "duration": 0,
    "start_time": "2023-03-09T17:23:06.891Z"
   },
   {
    "duration": 0,
    "start_time": "2023-03-09T17:23:06.894Z"
   },
   {
    "duration": 0,
    "start_time": "2023-03-09T17:23:06.895Z"
   },
   {
    "duration": 0,
    "start_time": "2023-03-09T17:23:06.897Z"
   },
   {
    "duration": 0,
    "start_time": "2023-03-09T17:23:06.899Z"
   },
   {
    "duration": 4,
    "start_time": "2023-03-09T17:23:13.278Z"
   },
   {
    "duration": 85,
    "start_time": "2023-03-09T17:23:13.791Z"
   },
   {
    "duration": 8,
    "start_time": "2023-03-09T17:23:14.322Z"
   },
   {
    "duration": 10,
    "start_time": "2023-03-09T17:23:15.122Z"
   },
   {
    "duration": 10,
    "start_time": "2023-03-09T17:23:15.405Z"
   },
   {
    "duration": 16,
    "start_time": "2023-03-09T17:23:15.622Z"
   },
   {
    "duration": 11,
    "start_time": "2023-03-09T17:23:15.871Z"
   },
   {
    "duration": 7,
    "start_time": "2023-03-09T17:23:16.092Z"
   },
   {
    "duration": 24,
    "start_time": "2023-03-09T17:23:16.445Z"
   },
   {
    "duration": 7,
    "start_time": "2023-03-09T17:23:16.727Z"
   },
   {
    "duration": 6,
    "start_time": "2023-03-09T17:23:16.983Z"
   },
   {
    "duration": 7,
    "start_time": "2023-03-09T17:23:17.246Z"
   },
   {
    "duration": 9,
    "start_time": "2023-03-09T17:23:17.492Z"
   },
   {
    "duration": 4,
    "start_time": "2023-03-09T17:23:17.782Z"
   },
   {
    "duration": 4,
    "start_time": "2023-03-09T17:23:18.025Z"
   },
   {
    "duration": 6,
    "start_time": "2023-03-09T17:23:18.343Z"
   },
   {
    "duration": 6,
    "start_time": "2023-03-09T17:23:18.527Z"
   },
   {
    "duration": 5,
    "start_time": "2023-03-09T17:23:18.808Z"
   },
   {
    "duration": 11,
    "start_time": "2023-03-09T17:23:19.900Z"
   },
   {
    "duration": 10,
    "start_time": "2023-03-09T17:23:20.125Z"
   },
   {
    "duration": 7,
    "start_time": "2023-03-09T17:23:20.431Z"
   },
   {
    "duration": 7,
    "start_time": "2023-03-09T17:23:20.651Z"
   },
   {
    "duration": 11,
    "start_time": "2023-03-09T17:23:20.951Z"
   },
   {
    "duration": 4,
    "start_time": "2023-03-09T17:23:21.213Z"
   },
   {
    "duration": 4,
    "start_time": "2023-03-09T17:23:21.730Z"
   },
   {
    "duration": 5,
    "start_time": "2023-03-09T17:23:22.003Z"
   },
   {
    "duration": 23,
    "start_time": "2023-03-09T17:23:22.350Z"
   },
   {
    "duration": 13,
    "start_time": "2023-03-09T17:23:23.970Z"
   },
   {
    "duration": 5,
    "start_time": "2023-03-09T17:23:24.294Z"
   },
   {
    "duration": 8,
    "start_time": "2023-03-09T17:23:25.573Z"
   },
   {
    "duration": 4,
    "start_time": "2023-03-09T17:23:25.915Z"
   },
   {
    "duration": 13,
    "start_time": "2023-03-09T17:23:26.179Z"
   },
   {
    "duration": 5,
    "start_time": "2023-03-09T17:23:27.587Z"
   },
   {
    "duration": 15,
    "start_time": "2023-03-09T17:23:27.884Z"
   },
   {
    "duration": 16,
    "start_time": "2023-03-09T17:23:29.697Z"
   },
   {
    "duration": 334,
    "start_time": "2023-03-09T17:23:30.010Z"
   },
   {
    "duration": 214,
    "start_time": "2023-03-09T17:23:30.601Z"
   },
   {
    "duration": 217,
    "start_time": "2023-03-09T17:23:33.089Z"
   },
   {
    "duration": 298,
    "start_time": "2023-03-09T17:23:34.989Z"
   },
   {
    "duration": 17,
    "start_time": "2023-03-09T17:23:36.532Z"
   },
   {
    "duration": 276,
    "start_time": "2023-03-09T17:24:46.233Z"
   },
   {
    "duration": 19,
    "start_time": "2023-03-09T17:42:06.692Z"
   },
   {
    "duration": 14,
    "start_time": "2023-03-09T17:42:52.405Z"
   },
   {
    "duration": 18,
    "start_time": "2023-03-09T17:53:24.256Z"
   },
   {
    "duration": 12,
    "start_time": "2023-03-09T17:54:29.888Z"
   },
   {
    "duration": 999,
    "start_time": "2023-03-09T17:54:41.579Z"
   },
   {
    "duration": 128,
    "start_time": "2023-03-09T17:54:42.580Z"
   },
   {
    "duration": 13,
    "start_time": "2023-03-09T17:54:42.710Z"
   },
   {
    "duration": 11,
    "start_time": "2023-03-09T17:54:42.725Z"
   },
   {
    "duration": 10,
    "start_time": "2023-03-09T17:54:42.738Z"
   },
   {
    "duration": 13,
    "start_time": "2023-03-09T17:54:42.749Z"
   },
   {
    "duration": 13,
    "start_time": "2023-03-09T17:54:42.764Z"
   },
   {
    "duration": 8,
    "start_time": "2023-03-09T17:54:42.779Z"
   },
   {
    "duration": 23,
    "start_time": "2023-03-09T17:54:42.788Z"
   },
   {
    "duration": 7,
    "start_time": "2023-03-09T17:54:42.814Z"
   },
   {
    "duration": 7,
    "start_time": "2023-03-09T17:54:42.822Z"
   },
   {
    "duration": 30,
    "start_time": "2023-03-09T17:54:42.831Z"
   },
   {
    "duration": 6,
    "start_time": "2023-03-09T17:54:42.863Z"
   },
   {
    "duration": 3,
    "start_time": "2023-03-09T17:54:42.871Z"
   },
   {
    "duration": 4,
    "start_time": "2023-03-09T17:54:42.876Z"
   },
   {
    "duration": 6,
    "start_time": "2023-03-09T17:54:42.881Z"
   },
   {
    "duration": 6,
    "start_time": "2023-03-09T17:54:42.889Z"
   },
   {
    "duration": 5,
    "start_time": "2023-03-09T17:54:42.896Z"
   },
   {
    "duration": 56,
    "start_time": "2023-03-09T17:54:42.903Z"
   },
   {
    "duration": 13,
    "start_time": "2023-03-09T17:54:42.961Z"
   },
   {
    "duration": 6,
    "start_time": "2023-03-09T17:54:42.975Z"
   },
   {
    "duration": 6,
    "start_time": "2023-03-09T17:54:42.983Z"
   },
   {
    "duration": 4,
    "start_time": "2023-03-09T17:54:42.990Z"
   },
   {
    "duration": 4,
    "start_time": "2023-03-09T17:54:42.996Z"
   },
   {
    "duration": 7,
    "start_time": "2023-03-09T17:54:43.001Z"
   },
   {
    "duration": 8,
    "start_time": "2023-03-09T17:54:43.009Z"
   },
   {
    "duration": 40,
    "start_time": "2023-03-09T17:54:43.019Z"
   },
   {
    "duration": 11,
    "start_time": "2023-03-09T17:54:43.063Z"
   },
   {
    "duration": 5,
    "start_time": "2023-03-09T17:54:43.075Z"
   },
   {
    "duration": 14,
    "start_time": "2023-03-09T17:54:43.081Z"
   },
   {
    "duration": 15,
    "start_time": "2023-03-09T17:54:43.097Z"
   },
   {
    "duration": 11,
    "start_time": "2023-03-09T17:54:43.113Z"
   },
   {
    "duration": 32,
    "start_time": "2023-03-09T17:54:43.126Z"
   },
   {
    "duration": 15,
    "start_time": "2023-03-09T17:54:43.160Z"
   },
   {
    "duration": 15,
    "start_time": "2023-03-09T17:54:43.178Z"
   },
   {
    "duration": 304,
    "start_time": "2023-03-09T17:54:43.195Z"
   },
   {
    "duration": 315,
    "start_time": "2023-03-09T17:54:43.500Z"
   },
   {
    "duration": 205,
    "start_time": "2023-03-09T17:54:43.817Z"
   },
   {
    "duration": 334,
    "start_time": "2023-03-09T17:54:44.023Z"
   },
   {
    "duration": 113,
    "start_time": "2023-03-09T17:54:44.359Z"
   },
   {
    "duration": 0,
    "start_time": "2023-03-09T17:54:44.473Z"
   },
   {
    "duration": 0,
    "start_time": "2023-03-09T17:54:44.474Z"
   },
   {
    "duration": 1,
    "start_time": "2023-03-09T17:54:44.475Z"
   },
   {
    "duration": 0,
    "start_time": "2023-03-09T17:54:44.477Z"
   },
   {
    "duration": 0,
    "start_time": "2023-03-09T17:54:44.478Z"
   },
   {
    "duration": 0,
    "start_time": "2023-03-09T17:54:44.479Z"
   },
   {
    "duration": 0,
    "start_time": "2023-03-09T17:54:44.480Z"
   },
   {
    "duration": 0,
    "start_time": "2023-03-09T17:54:44.481Z"
   },
   {
    "duration": 0,
    "start_time": "2023-03-09T17:54:44.482Z"
   },
   {
    "duration": 0,
    "start_time": "2023-03-09T17:54:44.483Z"
   },
   {
    "duration": 0,
    "start_time": "2023-03-09T17:54:44.484Z"
   },
   {
    "duration": 0,
    "start_time": "2023-03-09T17:54:44.485Z"
   },
   {
    "duration": 0,
    "start_time": "2023-03-09T17:54:44.486Z"
   },
   {
    "duration": 0,
    "start_time": "2023-03-09T17:54:44.488Z"
   },
   {
    "duration": 0,
    "start_time": "2023-03-09T17:54:44.489Z"
   },
   {
    "duration": 0,
    "start_time": "2023-03-09T17:54:44.490Z"
   },
   {
    "duration": 3,
    "start_time": "2023-03-09T17:54:51.334Z"
   },
   {
    "duration": 76,
    "start_time": "2023-03-09T17:54:51.925Z"
   },
   {
    "duration": 8,
    "start_time": "2023-03-09T17:54:52.541Z"
   },
   {
    "duration": 10,
    "start_time": "2023-03-09T17:54:53.443Z"
   },
   {
    "duration": 7,
    "start_time": "2023-03-09T17:54:53.765Z"
   },
   {
    "duration": 13,
    "start_time": "2023-03-09T17:54:54.062Z"
   },
   {
    "duration": 12,
    "start_time": "2023-03-09T17:54:54.315Z"
   },
   {
    "duration": 6,
    "start_time": "2023-03-09T17:54:54.623Z"
   },
   {
    "duration": 12,
    "start_time": "2023-03-09T17:54:54.847Z"
   },
   {
    "duration": 8,
    "start_time": "2023-03-09T17:54:55.627Z"
   },
   {
    "duration": 7,
    "start_time": "2023-03-09T17:54:55.912Z"
   },
   {
    "duration": 7,
    "start_time": "2023-03-09T17:54:56.283Z"
   },
   {
    "duration": 8,
    "start_time": "2023-03-09T17:54:56.576Z"
   },
   {
    "duration": 7,
    "start_time": "2023-03-09T17:54:56.933Z"
   },
   {
    "duration": 4,
    "start_time": "2023-03-09T17:54:57.244Z"
   },
   {
    "duration": 6,
    "start_time": "2023-03-09T17:54:57.546Z"
   },
   {
    "duration": 5,
    "start_time": "2023-03-09T17:54:57.889Z"
   },
   {
    "duration": 5,
    "start_time": "2023-03-09T17:54:58.141Z"
   },
   {
    "duration": 10,
    "start_time": "2023-03-09T17:54:59.422Z"
   },
   {
    "duration": 10,
    "start_time": "2023-03-09T17:54:59.738Z"
   },
   {
    "duration": 8,
    "start_time": "2023-03-09T17:55:00.005Z"
   },
   {
    "duration": 6,
    "start_time": "2023-03-09T17:55:00.299Z"
   },
   {
    "duration": 4,
    "start_time": "2023-03-09T17:55:00.543Z"
   },
   {
    "duration": 4,
    "start_time": "2023-03-09T17:55:00.894Z"
   },
   {
    "duration": 4,
    "start_time": "2023-03-09T17:55:01.438Z"
   },
   {
    "duration": 7,
    "start_time": "2023-03-09T17:55:02.282Z"
   },
   {
    "duration": 5,
    "start_time": "2023-03-09T17:55:02.669Z"
   },
   {
    "duration": 13,
    "start_time": "2023-03-09T17:55:04.673Z"
   },
   {
    "duration": 5,
    "start_time": "2023-03-09T17:55:04.927Z"
   },
   {
    "duration": 8,
    "start_time": "2023-03-09T17:55:06.185Z"
   },
   {
    "duration": 5,
    "start_time": "2023-03-09T17:55:06.473Z"
   },
   {
    "duration": 14,
    "start_time": "2023-03-09T17:55:06.813Z"
   },
   {
    "duration": 5,
    "start_time": "2023-03-09T17:55:08.314Z"
   },
   {
    "duration": 12,
    "start_time": "2023-03-09T17:55:08.583Z"
   },
   {
    "duration": 14,
    "start_time": "2023-03-09T17:55:10.816Z"
   },
   {
    "duration": 264,
    "start_time": "2023-03-09T17:55:11.119Z"
   },
   {
    "duration": 209,
    "start_time": "2023-03-09T17:55:11.784Z"
   },
   {
    "duration": 203,
    "start_time": "2023-03-09T17:55:13.716Z"
   },
   {
    "duration": 350,
    "start_time": "2023-03-09T17:55:15.039Z"
   },
   {
    "duration": 11,
    "start_time": "2023-03-09T17:55:16.524Z"
   },
   {
    "duration": 15,
    "start_time": "2023-03-09T17:55:47.572Z"
   },
   {
    "duration": 11,
    "start_time": "2023-03-09T17:56:51.823Z"
   },
   {
    "duration": 11,
    "start_time": "2023-03-09T17:58:16.272Z"
   },
   {
    "duration": 12,
    "start_time": "2023-03-09T18:00:08.883Z"
   },
   {
    "duration": 1079,
    "start_time": "2023-03-09T18:00:15.394Z"
   },
   {
    "duration": 129,
    "start_time": "2023-03-09T18:00:16.475Z"
   },
   {
    "duration": 12,
    "start_time": "2023-03-09T18:00:16.605Z"
   },
   {
    "duration": 11,
    "start_time": "2023-03-09T18:00:16.619Z"
   },
   {
    "duration": 7,
    "start_time": "2023-03-09T18:00:16.632Z"
   },
   {
    "duration": 12,
    "start_time": "2023-03-09T18:00:16.640Z"
   },
   {
    "duration": 10,
    "start_time": "2023-03-09T18:00:16.654Z"
   },
   {
    "duration": 9,
    "start_time": "2023-03-09T18:00:16.666Z"
   },
   {
    "duration": 13,
    "start_time": "2023-03-09T18:00:16.677Z"
   },
   {
    "duration": 6,
    "start_time": "2023-03-09T18:00:16.693Z"
   },
   {
    "duration": 6,
    "start_time": "2023-03-09T18:00:16.700Z"
   },
   {
    "duration": 6,
    "start_time": "2023-03-09T18:00:16.707Z"
   },
   {
    "duration": 42,
    "start_time": "2023-03-09T18:00:16.715Z"
   },
   {
    "duration": 5,
    "start_time": "2023-03-09T18:00:16.759Z"
   },
   {
    "duration": 5,
    "start_time": "2023-03-09T18:00:16.765Z"
   },
   {
    "duration": 9,
    "start_time": "2023-03-09T18:00:16.771Z"
   },
   {
    "duration": 5,
    "start_time": "2023-03-09T18:00:16.781Z"
   },
   {
    "duration": 4,
    "start_time": "2023-03-09T18:00:16.787Z"
   },
   {
    "duration": 9,
    "start_time": "2023-03-09T18:00:16.792Z"
   },
   {
    "duration": 17,
    "start_time": "2023-03-09T18:00:16.802Z"
   },
   {
    "duration": 14,
    "start_time": "2023-03-09T18:00:16.856Z"
   },
   {
    "duration": 22,
    "start_time": "2023-03-09T18:00:16.871Z"
   },
   {
    "duration": 11,
    "start_time": "2023-03-09T18:00:16.895Z"
   },
   {
    "duration": 11,
    "start_time": "2023-03-09T18:00:16.908Z"
   },
   {
    "duration": 7,
    "start_time": "2023-03-09T18:00:16.921Z"
   },
   {
    "duration": 8,
    "start_time": "2023-03-09T18:00:16.929Z"
   },
   {
    "duration": 19,
    "start_time": "2023-03-09T18:00:16.939Z"
   },
   {
    "duration": 14,
    "start_time": "2023-03-09T18:00:16.963Z"
   },
   {
    "duration": 5,
    "start_time": "2023-03-09T18:00:16.979Z"
   },
   {
    "duration": 21,
    "start_time": "2023-03-09T18:00:16.986Z"
   },
   {
    "duration": 5,
    "start_time": "2023-03-09T18:00:17.009Z"
   },
   {
    "duration": 11,
    "start_time": "2023-03-09T18:00:17.017Z"
   },
   {
    "duration": 6,
    "start_time": "2023-03-09T18:00:17.055Z"
   },
   {
    "duration": 13,
    "start_time": "2023-03-09T18:00:17.063Z"
   },
   {
    "duration": 14,
    "start_time": "2023-03-09T18:00:17.078Z"
   },
   {
    "duration": 309,
    "start_time": "2023-03-09T18:00:17.094Z"
   },
   {
    "duration": 305,
    "start_time": "2023-03-09T18:00:17.405Z"
   },
   {
    "duration": 206,
    "start_time": "2023-03-09T18:00:17.712Z"
   },
   {
    "duration": 342,
    "start_time": "2023-03-09T18:00:17.920Z"
   },
   {
    "duration": 111,
    "start_time": "2023-03-09T18:00:18.264Z"
   },
   {
    "duration": 0,
    "start_time": "2023-03-09T18:00:18.377Z"
   },
   {
    "duration": 0,
    "start_time": "2023-03-09T18:00:18.378Z"
   },
   {
    "duration": 0,
    "start_time": "2023-03-09T18:00:18.379Z"
   },
   {
    "duration": 0,
    "start_time": "2023-03-09T18:00:18.380Z"
   },
   {
    "duration": 0,
    "start_time": "2023-03-09T18:00:18.381Z"
   },
   {
    "duration": 0,
    "start_time": "2023-03-09T18:00:18.382Z"
   },
   {
    "duration": 0,
    "start_time": "2023-03-09T18:00:18.383Z"
   },
   {
    "duration": 0,
    "start_time": "2023-03-09T18:00:18.384Z"
   },
   {
    "duration": 0,
    "start_time": "2023-03-09T18:00:18.385Z"
   },
   {
    "duration": 0,
    "start_time": "2023-03-09T18:00:18.386Z"
   },
   {
    "duration": 0,
    "start_time": "2023-03-09T18:00:18.387Z"
   },
   {
    "duration": 0,
    "start_time": "2023-03-09T18:00:18.388Z"
   },
   {
    "duration": 0,
    "start_time": "2023-03-09T18:00:18.389Z"
   },
   {
    "duration": 0,
    "start_time": "2023-03-09T18:00:18.390Z"
   },
   {
    "duration": 0,
    "start_time": "2023-03-09T18:00:18.391Z"
   },
   {
    "duration": 0,
    "start_time": "2023-03-09T18:00:18.392Z"
   },
   {
    "duration": 4,
    "start_time": "2023-03-09T18:00:26.472Z"
   },
   {
    "duration": 77,
    "start_time": "2023-03-09T18:00:27.138Z"
   },
   {
    "duration": 11,
    "start_time": "2023-03-09T18:00:27.762Z"
   },
   {
    "duration": 10,
    "start_time": "2023-03-09T18:00:29.090Z"
   },
   {
    "duration": 6,
    "start_time": "2023-03-09T18:00:29.401Z"
   },
   {
    "duration": 12,
    "start_time": "2023-03-09T18:00:29.731Z"
   },
   {
    "duration": 11,
    "start_time": "2023-03-09T18:00:30.031Z"
   },
   {
    "duration": 5,
    "start_time": "2023-03-09T18:00:30.766Z"
   },
   {
    "duration": 52,
    "start_time": "2023-03-09T18:00:30.773Z"
   },
   {
    "duration": 6,
    "start_time": "2023-03-09T18:00:30.978Z"
   },
   {
    "duration": 6,
    "start_time": "2023-03-09T18:00:31.214Z"
   },
   {
    "duration": 6,
    "start_time": "2023-03-09T18:00:31.646Z"
   },
   {
    "duration": 8,
    "start_time": "2023-03-09T18:00:31.859Z"
   },
   {
    "duration": 3,
    "start_time": "2023-03-09T18:00:32.287Z"
   },
   {
    "duration": 3,
    "start_time": "2023-03-09T18:00:32.547Z"
   },
   {
    "duration": 6,
    "start_time": "2023-03-09T18:00:32.858Z"
   },
   {
    "duration": 5,
    "start_time": "2023-03-09T18:00:33.225Z"
   },
   {
    "duration": 5,
    "start_time": "2023-03-09T18:00:33.509Z"
   },
   {
    "duration": 10,
    "start_time": "2023-03-09T18:00:34.697Z"
   },
   {
    "duration": 9,
    "start_time": "2023-03-09T18:00:35.000Z"
   },
   {
    "duration": 7,
    "start_time": "2023-03-09T18:00:35.370Z"
   },
   {
    "duration": 6,
    "start_time": "2023-03-09T18:00:35.606Z"
   },
   {
    "duration": 4,
    "start_time": "2023-03-09T18:00:35.856Z"
   },
   {
    "duration": 3,
    "start_time": "2023-03-09T18:00:36.404Z"
   },
   {
    "duration": 5,
    "start_time": "2023-03-09T18:00:36.845Z"
   },
   {
    "duration": 6,
    "start_time": "2023-03-09T18:00:37.151Z"
   },
   {
    "duration": 8,
    "start_time": "2023-03-09T18:00:37.421Z"
   },
   {
    "duration": 10,
    "start_time": "2023-03-09T18:00:39.202Z"
   },
   {
    "duration": 4,
    "start_time": "2023-03-09T18:00:39.505Z"
   },
   {
    "duration": 9,
    "start_time": "2023-03-09T18:00:40.762Z"
   },
   {
    "duration": 4,
    "start_time": "2023-03-09T18:00:41.137Z"
   },
   {
    "duration": 11,
    "start_time": "2023-03-09T18:00:41.358Z"
   },
   {
    "duration": 4,
    "start_time": "2023-03-09T18:00:43.760Z"
   },
   {
    "duration": 12,
    "start_time": "2023-03-09T18:00:44.054Z"
   },
   {
    "duration": 17,
    "start_time": "2023-03-09T18:00:46.366Z"
   },
   {
    "duration": 337,
    "start_time": "2023-03-09T18:00:46.698Z"
   },
   {
    "duration": 243,
    "start_time": "2023-03-09T18:00:47.305Z"
   },
   {
    "duration": 197,
    "start_time": "2023-03-09T18:00:49.885Z"
   },
   {
    "duration": 339,
    "start_time": "2023-03-09T18:00:50.920Z"
   },
   {
    "duration": 12,
    "start_time": "2023-03-09T18:00:51.917Z"
   },
   {
    "duration": 13,
    "start_time": "2023-03-09T18:00:53.761Z"
   },
   {
    "duration": 9,
    "start_time": "2023-03-09T18:00:55.397Z"
   },
   {
    "duration": 178,
    "start_time": "2023-03-09T18:00:55.641Z"
   },
   {
    "duration": 5,
    "start_time": "2023-03-09T18:00:57.223Z"
   },
   {
    "duration": 198,
    "start_time": "2023-03-09T18:00:58.746Z"
   },
   {
    "duration": 129,
    "start_time": "2023-03-09T18:00:59.314Z"
   },
   {
    "duration": 4,
    "start_time": "2023-03-09T18:01:00.558Z"
   },
   {
    "duration": 239,
    "start_time": "2023-03-09T18:01:04.119Z"
   },
   {
    "duration": 137,
    "start_time": "2023-03-09T18:01:04.738Z"
   },
   {
    "duration": 186,
    "start_time": "2023-03-09T18:01:05.006Z"
   },
   {
    "duration": 10,
    "start_time": "2023-03-09T18:01:08.901Z"
   },
   {
    "duration": 10,
    "start_time": "2023-03-09T18:01:10.464Z"
   },
   {
    "duration": 6,
    "start_time": "2023-03-09T18:01:13.186Z"
   },
   {
    "duration": 8,
    "start_time": "2023-03-09T18:01:14.136Z"
   },
   {
    "duration": 20,
    "start_time": "2023-03-09T18:01:14.406Z"
   },
   {
    "duration": 21,
    "start_time": "2023-03-09T18:01:16.763Z"
   },
   {
    "duration": 52,
    "start_time": "2023-03-09T18:04:30.964Z"
   },
   {
    "duration": 48,
    "start_time": "2023-03-09T18:05:04.543Z"
   },
   {
    "duration": 1066,
    "start_time": "2023-03-09T18:05:08.766Z"
   },
   {
    "duration": 127,
    "start_time": "2023-03-09T18:05:09.836Z"
   },
   {
    "duration": 13,
    "start_time": "2023-03-09T18:05:09.965Z"
   },
   {
    "duration": 12,
    "start_time": "2023-03-09T18:05:09.980Z"
   },
   {
    "duration": 12,
    "start_time": "2023-03-09T18:05:09.994Z"
   },
   {
    "duration": 26,
    "start_time": "2023-03-09T18:05:10.008Z"
   },
   {
    "duration": 20,
    "start_time": "2023-03-09T18:05:10.036Z"
   },
   {
    "duration": 22,
    "start_time": "2023-03-09T18:05:10.058Z"
   },
   {
    "duration": 17,
    "start_time": "2023-03-09T18:05:10.083Z"
   },
   {
    "duration": 6,
    "start_time": "2023-03-09T18:05:10.103Z"
   },
   {
    "duration": 23,
    "start_time": "2023-03-09T18:05:10.111Z"
   },
   {
    "duration": 22,
    "start_time": "2023-03-09T18:05:10.136Z"
   },
   {
    "duration": 16,
    "start_time": "2023-03-09T18:05:10.160Z"
   },
   {
    "duration": 7,
    "start_time": "2023-03-09T18:05:10.178Z"
   },
   {
    "duration": 15,
    "start_time": "2023-03-09T18:05:10.186Z"
   },
   {
    "duration": 16,
    "start_time": "2023-03-09T18:05:10.203Z"
   },
   {
    "duration": 16,
    "start_time": "2023-03-09T18:05:10.221Z"
   },
   {
    "duration": 9,
    "start_time": "2023-03-09T18:05:10.239Z"
   },
   {
    "duration": 12,
    "start_time": "2023-03-09T18:05:10.250Z"
   },
   {
    "duration": 17,
    "start_time": "2023-03-09T18:05:10.264Z"
   },
   {
    "duration": 10,
    "start_time": "2023-03-09T18:05:10.283Z"
   },
   {
    "duration": 7,
    "start_time": "2023-03-09T18:05:10.295Z"
   },
   {
    "duration": 17,
    "start_time": "2023-03-09T18:05:10.304Z"
   },
   {
    "duration": 7,
    "start_time": "2023-03-09T18:05:10.324Z"
   },
   {
    "duration": 9,
    "start_time": "2023-03-09T18:05:10.333Z"
   },
   {
    "duration": 7,
    "start_time": "2023-03-09T18:05:10.356Z"
   },
   {
    "duration": 18,
    "start_time": "2023-03-09T18:05:10.368Z"
   },
   {
    "duration": 21,
    "start_time": "2023-03-09T18:05:10.388Z"
   },
   {
    "duration": 5,
    "start_time": "2023-03-09T18:05:10.410Z"
   },
   {
    "duration": 29,
    "start_time": "2023-03-09T18:05:10.417Z"
   },
   {
    "duration": 17,
    "start_time": "2023-03-09T18:05:10.448Z"
   },
   {
    "duration": 29,
    "start_time": "2023-03-09T18:05:10.467Z"
   },
   {
    "duration": 8,
    "start_time": "2023-03-09T18:05:10.498Z"
   },
   {
    "duration": 15,
    "start_time": "2023-03-09T18:05:10.508Z"
   },
   {
    "duration": 32,
    "start_time": "2023-03-09T18:05:10.526Z"
   },
   {
    "duration": 319,
    "start_time": "2023-03-09T18:05:10.559Z"
   },
   {
    "duration": 304,
    "start_time": "2023-03-09T18:05:10.880Z"
   },
   {
    "duration": 211,
    "start_time": "2023-03-09T18:05:11.185Z"
   },
   {
    "duration": 312,
    "start_time": "2023-03-09T18:05:11.398Z"
   },
   {
    "duration": 48,
    "start_time": "2023-03-09T18:05:11.712Z"
   },
   {
    "duration": 0,
    "start_time": "2023-03-09T18:05:11.762Z"
   },
   {
    "duration": 0,
    "start_time": "2023-03-09T18:05:11.763Z"
   },
   {
    "duration": 0,
    "start_time": "2023-03-09T18:05:11.765Z"
   },
   {
    "duration": 0,
    "start_time": "2023-03-09T18:05:11.767Z"
   },
   {
    "duration": 0,
    "start_time": "2023-03-09T18:05:11.768Z"
   },
   {
    "duration": 0,
    "start_time": "2023-03-09T18:05:11.769Z"
   },
   {
    "duration": 0,
    "start_time": "2023-03-09T18:05:11.770Z"
   },
   {
    "duration": 0,
    "start_time": "2023-03-09T18:05:11.771Z"
   },
   {
    "duration": 0,
    "start_time": "2023-03-09T18:05:11.773Z"
   },
   {
    "duration": 0,
    "start_time": "2023-03-09T18:05:11.774Z"
   },
   {
    "duration": 0,
    "start_time": "2023-03-09T18:05:11.776Z"
   },
   {
    "duration": 0,
    "start_time": "2023-03-09T18:05:11.777Z"
   },
   {
    "duration": 0,
    "start_time": "2023-03-09T18:05:11.778Z"
   },
   {
    "duration": 0,
    "start_time": "2023-03-09T18:05:11.779Z"
   },
   {
    "duration": 0,
    "start_time": "2023-03-09T18:05:11.780Z"
   },
   {
    "duration": 0,
    "start_time": "2023-03-09T18:05:11.781Z"
   },
   {
    "duration": 4,
    "start_time": "2023-03-09T18:05:26.720Z"
   },
   {
    "duration": 76,
    "start_time": "2023-03-09T18:05:27.373Z"
   },
   {
    "duration": 9,
    "start_time": "2023-03-09T18:05:27.990Z"
   },
   {
    "duration": 10,
    "start_time": "2023-03-09T18:05:28.914Z"
   },
   {
    "duration": 7,
    "start_time": "2023-03-09T18:05:29.220Z"
   },
   {
    "duration": 12,
    "start_time": "2023-03-09T18:05:29.538Z"
   },
   {
    "duration": 13,
    "start_time": "2023-03-09T18:05:29.844Z"
   },
   {
    "duration": 7,
    "start_time": "2023-03-09T18:05:30.120Z"
   },
   {
    "duration": 11,
    "start_time": "2023-03-09T18:05:30.489Z"
   },
   {
    "duration": 6,
    "start_time": "2023-03-09T18:05:30.756Z"
   },
   {
    "duration": 8,
    "start_time": "2023-03-09T18:05:31.074Z"
   },
   {
    "duration": 7,
    "start_time": "2023-03-09T18:05:31.328Z"
   },
   {
    "duration": 8,
    "start_time": "2023-03-09T18:05:31.671Z"
   },
   {
    "duration": 5,
    "start_time": "2023-03-09T18:05:31.952Z"
   },
   {
    "duration": 3,
    "start_time": "2023-03-09T18:05:32.316Z"
   },
   {
    "duration": 6,
    "start_time": "2023-03-09T18:05:32.578Z"
   },
   {
    "duration": 7,
    "start_time": "2023-03-09T18:05:32.948Z"
   },
   {
    "duration": 6,
    "start_time": "2023-03-09T18:05:33.186Z"
   },
   {
    "duration": 12,
    "start_time": "2023-03-09T18:05:35.468Z"
   },
   {
    "duration": 11,
    "start_time": "2023-03-09T18:05:35.710Z"
   },
   {
    "duration": 6,
    "start_time": "2023-03-09T18:05:36.051Z"
   },
   {
    "duration": 7,
    "start_time": "2023-03-09T18:05:36.404Z"
   },
   {
    "duration": 6,
    "start_time": "2023-03-09T18:05:36.706Z"
   },
   {
    "duration": 4,
    "start_time": "2023-03-09T18:05:36.970Z"
   },
   {
    "duration": 6,
    "start_time": "2023-03-09T18:05:37.275Z"
   },
   {
    "duration": 5,
    "start_time": "2023-03-09T18:05:37.566Z"
   },
   {
    "duration": 7,
    "start_time": "2023-03-09T18:05:37.894Z"
   },
   {
    "duration": 10,
    "start_time": "2023-03-09T18:05:39.793Z"
   },
   {
    "duration": 5,
    "start_time": "2023-03-09T18:05:40.101Z"
   },
   {
    "duration": 7,
    "start_time": "2023-03-09T18:05:41.290Z"
   },
   {
    "duration": 5,
    "start_time": "2023-03-09T18:05:41.649Z"
   },
   {
    "duration": 13,
    "start_time": "2023-03-09T18:05:41.912Z"
   },
   {
    "duration": 5,
    "start_time": "2023-03-09T18:05:43.747Z"
   },
   {
    "duration": 16,
    "start_time": "2023-03-09T18:05:44.441Z"
   },
   {
    "duration": 16,
    "start_time": "2023-03-09T18:05:46.193Z"
   },
   {
    "duration": 306,
    "start_time": "2023-03-09T18:05:46.818Z"
   },
   {
    "duration": 286,
    "start_time": "2023-03-09T18:05:47.509Z"
   },
   {
    "duration": 197,
    "start_time": "2023-03-09T18:05:49.795Z"
   },
   {
    "duration": 332,
    "start_time": "2023-03-09T18:05:50.845Z"
   },
   {
    "duration": 44,
    "start_time": "2023-03-09T18:05:52.074Z"
   },
   {
    "duration": 629,
    "start_time": "2023-03-09T18:06:13.193Z"
   },
   {
    "duration": 397,
    "start_time": "2023-03-09T18:09:00.333Z"
   },
   {
    "duration": 1218,
    "start_time": "2023-03-09T18:10:46.040Z"
   },
   {
    "duration": 126,
    "start_time": "2023-03-09T18:10:47.260Z"
   },
   {
    "duration": 13,
    "start_time": "2023-03-09T18:10:47.388Z"
   },
   {
    "duration": 10,
    "start_time": "2023-03-09T18:10:47.403Z"
   },
   {
    "duration": 12,
    "start_time": "2023-03-09T18:10:47.416Z"
   },
   {
    "duration": 12,
    "start_time": "2023-03-09T18:10:47.430Z"
   },
   {
    "duration": 13,
    "start_time": "2023-03-09T18:10:47.444Z"
   },
   {
    "duration": 6,
    "start_time": "2023-03-09T18:10:47.459Z"
   },
   {
    "duration": 13,
    "start_time": "2023-03-09T18:10:47.466Z"
   },
   {
    "duration": 6,
    "start_time": "2023-03-09T18:10:47.481Z"
   },
   {
    "duration": 7,
    "start_time": "2023-03-09T18:10:47.488Z"
   },
   {
    "duration": 7,
    "start_time": "2023-03-09T18:10:47.497Z"
   },
   {
    "duration": 6,
    "start_time": "2023-03-09T18:10:47.505Z"
   },
   {
    "duration": 3,
    "start_time": "2023-03-09T18:10:47.556Z"
   },
   {
    "duration": 8,
    "start_time": "2023-03-09T18:10:47.560Z"
   },
   {
    "duration": 8,
    "start_time": "2023-03-09T18:10:47.570Z"
   },
   {
    "duration": 9,
    "start_time": "2023-03-09T18:10:47.579Z"
   },
   {
    "duration": 8,
    "start_time": "2023-03-09T18:10:47.589Z"
   },
   {
    "duration": 9,
    "start_time": "2023-03-09T18:10:47.599Z"
   },
   {
    "duration": 16,
    "start_time": "2023-03-09T18:10:47.610Z"
   },
   {
    "duration": 34,
    "start_time": "2023-03-09T18:10:47.628Z"
   },
   {
    "duration": 11,
    "start_time": "2023-03-09T18:10:47.663Z"
   },
   {
    "duration": 4,
    "start_time": "2023-03-09T18:10:47.676Z"
   },
   {
    "duration": 7,
    "start_time": "2023-03-09T18:10:47.682Z"
   },
   {
    "duration": 5,
    "start_time": "2023-03-09T18:10:47.691Z"
   },
   {
    "duration": 6,
    "start_time": "2023-03-09T18:10:47.698Z"
   },
   {
    "duration": 7,
    "start_time": "2023-03-09T18:10:47.706Z"
   },
   {
    "duration": 54,
    "start_time": "2023-03-09T18:10:47.715Z"
   },
   {
    "duration": 8,
    "start_time": "2023-03-09T18:10:47.770Z"
   },
   {
    "duration": 9,
    "start_time": "2023-03-09T18:10:47.779Z"
   },
   {
    "duration": 5,
    "start_time": "2023-03-09T18:10:47.790Z"
   },
   {
    "duration": 11,
    "start_time": "2023-03-09T18:10:47.796Z"
   },
   {
    "duration": 10,
    "start_time": "2023-03-09T18:10:47.808Z"
   },
   {
    "duration": 42,
    "start_time": "2023-03-09T18:10:47.819Z"
   },
   {
    "duration": 16,
    "start_time": "2023-03-09T18:10:47.863Z"
   },
   {
    "duration": 298,
    "start_time": "2023-03-09T18:10:47.881Z"
   },
   {
    "duration": 306,
    "start_time": "2023-03-09T18:10:48.181Z"
   },
   {
    "duration": 212,
    "start_time": "2023-03-09T18:10:48.488Z"
   },
   {
    "duration": 304,
    "start_time": "2023-03-09T18:10:48.701Z"
   },
   {
    "duration": 324,
    "start_time": "2023-03-09T18:10:49.007Z"
   },
   {
    "duration": 350,
    "start_time": "2023-03-09T18:10:49.334Z"
   },
   {
    "duration": 7,
    "start_time": "2023-03-09T18:10:49.686Z"
   },
   {
    "duration": 149,
    "start_time": "2023-03-09T18:10:49.695Z"
   },
   {
    "duration": 3,
    "start_time": "2023-03-09T18:10:49.846Z"
   },
   {
    "duration": 147,
    "start_time": "2023-03-09T18:10:49.856Z"
   },
   {
    "duration": 141,
    "start_time": "2023-03-09T18:10:50.005Z"
   },
   {
    "duration": 9,
    "start_time": "2023-03-09T18:10:50.148Z"
   },
   {
    "duration": 232,
    "start_time": "2023-03-09T18:10:50.159Z"
   },
   {
    "duration": 146,
    "start_time": "2023-03-09T18:10:50.394Z"
   },
   {
    "duration": 186,
    "start_time": "2023-03-09T18:10:50.542Z"
   },
   {
    "duration": 13,
    "start_time": "2023-03-09T18:10:50.730Z"
   },
   {
    "duration": 10,
    "start_time": "2023-03-09T18:10:50.755Z"
   },
   {
    "duration": 5,
    "start_time": "2023-03-09T18:10:50.767Z"
   },
   {
    "duration": 13,
    "start_time": "2023-03-09T18:10:50.774Z"
   },
   {
    "duration": 22,
    "start_time": "2023-03-09T18:10:50.788Z"
   },
   {
    "duration": 45,
    "start_time": "2023-03-09T18:10:50.812Z"
   },
   {
    "duration": 3,
    "start_time": "2023-03-09T18:11:20.828Z"
   },
   {
    "duration": 75,
    "start_time": "2023-03-09T18:11:21.437Z"
   },
   {
    "duration": 10,
    "start_time": "2023-03-09T18:11:22.376Z"
   },
   {
    "duration": 11,
    "start_time": "2023-03-09T18:11:23.196Z"
   },
   {
    "duration": 8,
    "start_time": "2023-03-09T18:11:23.514Z"
   },
   {
    "duration": 15,
    "start_time": "2023-03-09T18:11:23.750Z"
   },
   {
    "duration": 11,
    "start_time": "2023-03-09T18:11:24.111Z"
   },
   {
    "duration": 7,
    "start_time": "2023-03-09T18:11:24.321Z"
   },
   {
    "duration": 11,
    "start_time": "2023-03-09T18:11:24.681Z"
   },
   {
    "duration": 7,
    "start_time": "2023-03-09T18:11:24.903Z"
   },
   {
    "duration": 6,
    "start_time": "2023-03-09T18:11:25.218Z"
   },
   {
    "duration": 6,
    "start_time": "2023-03-09T18:11:25.492Z"
   },
   {
    "duration": 6,
    "start_time": "2023-03-09T18:11:25.726Z"
   },
   {
    "duration": 4,
    "start_time": "2023-03-09T18:11:26.036Z"
   },
   {
    "duration": 4,
    "start_time": "2023-03-09T18:11:26.271Z"
   },
   {
    "duration": 8,
    "start_time": "2023-03-09T18:11:26.507Z"
   },
   {
    "duration": 7,
    "start_time": "2023-03-09T18:11:26.774Z"
   },
   {
    "duration": 4,
    "start_time": "2023-03-09T18:11:27.026Z"
   },
   {
    "duration": 10,
    "start_time": "2023-03-09T18:11:28.113Z"
   },
   {
    "duration": 12,
    "start_time": "2023-03-09T18:11:28.314Z"
   },
   {
    "duration": 7,
    "start_time": "2023-03-09T18:11:28.573Z"
   },
   {
    "duration": 7,
    "start_time": "2023-03-09T18:11:28.920Z"
   },
   {
    "duration": 4,
    "start_time": "2023-03-09T18:11:29.150Z"
   },
   {
    "duration": 4,
    "start_time": "2023-03-09T18:11:29.478Z"
   },
   {
    "duration": 5,
    "start_time": "2023-03-09T18:11:29.676Z"
   },
   {
    "duration": 6,
    "start_time": "2023-03-09T18:11:30.011Z"
   },
   {
    "duration": 6,
    "start_time": "2023-03-09T18:11:30.214Z"
   },
   {
    "duration": 14,
    "start_time": "2023-03-09T18:11:31.869Z"
   },
   {
    "duration": 6,
    "start_time": "2023-03-09T18:11:32.273Z"
   },
   {
    "duration": 11,
    "start_time": "2023-03-09T18:11:33.418Z"
   },
   {
    "duration": 5,
    "start_time": "2023-03-09T18:11:33.668Z"
   },
   {
    "duration": 10,
    "start_time": "2023-03-09T18:11:34.369Z"
   },
   {
    "duration": 4,
    "start_time": "2023-03-09T18:11:36.288Z"
   },
   {
    "duration": 15,
    "start_time": "2023-03-09T18:11:36.645Z"
   },
   {
    "duration": 12,
    "start_time": "2023-03-09T18:11:38.442Z"
   },
   {
    "duration": 270,
    "start_time": "2023-03-09T18:11:39.149Z"
   },
   {
    "duration": 276,
    "start_time": "2023-03-09T18:11:39.608Z"
   },
   {
    "duration": 205,
    "start_time": "2023-03-09T18:11:41.819Z"
   },
   {
    "duration": 346,
    "start_time": "2023-03-09T18:11:42.706Z"
   },
   {
    "duration": 314,
    "start_time": "2023-03-09T18:11:43.584Z"
   },
   {
    "duration": 352,
    "start_time": "2023-03-09T18:11:45.339Z"
   },
   {
    "duration": 8,
    "start_time": "2023-03-09T18:11:46.975Z"
   },
   {
    "duration": 128,
    "start_time": "2023-03-09T18:11:47.310Z"
   },
   {
    "duration": 4,
    "start_time": "2023-03-09T18:11:48.982Z"
   },
   {
    "duration": 134,
    "start_time": "2023-03-09T18:11:50.549Z"
   },
   {
    "duration": 130,
    "start_time": "2023-03-09T18:11:52.110Z"
   },
   {
    "duration": 4,
    "start_time": "2023-03-09T18:11:53.295Z"
   },
   {
    "duration": 238,
    "start_time": "2023-03-09T18:11:56.255Z"
   },
   {
    "duration": 150,
    "start_time": "2023-03-09T18:11:57.001Z"
   },
   {
    "duration": 182,
    "start_time": "2023-03-09T18:11:57.540Z"
   },
   {
    "duration": 11,
    "start_time": "2023-03-09T18:12:00.902Z"
   },
   {
    "duration": 10,
    "start_time": "2023-03-09T18:12:03.225Z"
   },
   {
    "duration": 6,
    "start_time": "2023-03-09T18:12:05.671Z"
   },
   {
    "duration": 9,
    "start_time": "2023-03-09T18:12:06.275Z"
   },
   {
    "duration": 23,
    "start_time": "2023-03-09T18:12:06.847Z"
   },
   {
    "duration": 14,
    "start_time": "2023-03-09T18:12:09.522Z"
   },
   {
    "duration": 40,
    "start_time": "2023-03-09T18:13:49.943Z"
   },
   {
    "duration": 41,
    "start_time": "2023-03-09T18:13:56.419Z"
   },
   {
    "duration": 991,
    "start_time": "2023-03-09T19:21:15.589Z"
   },
   {
    "duration": 113,
    "start_time": "2023-03-09T19:21:16.583Z"
   },
   {
    "duration": 14,
    "start_time": "2023-03-09T19:21:16.698Z"
   },
   {
    "duration": 13,
    "start_time": "2023-03-09T19:21:16.714Z"
   },
   {
    "duration": 12,
    "start_time": "2023-03-09T19:21:16.729Z"
   },
   {
    "duration": 14,
    "start_time": "2023-03-09T19:21:16.743Z"
   },
   {
    "duration": 12,
    "start_time": "2023-03-09T19:21:16.759Z"
   },
   {
    "duration": 7,
    "start_time": "2023-03-09T19:21:16.773Z"
   },
   {
    "duration": 19,
    "start_time": "2023-03-09T19:21:16.781Z"
   },
   {
    "duration": 8,
    "start_time": "2023-03-09T19:21:16.803Z"
   },
   {
    "duration": 8,
    "start_time": "2023-03-09T19:21:16.841Z"
   },
   {
    "duration": 17,
    "start_time": "2023-03-09T19:21:16.851Z"
   },
   {
    "duration": 6,
    "start_time": "2023-03-09T19:21:16.870Z"
   },
   {
    "duration": 4,
    "start_time": "2023-03-09T19:21:16.878Z"
   },
   {
    "duration": 14,
    "start_time": "2023-03-09T19:21:16.884Z"
   },
   {
    "duration": 7,
    "start_time": "2023-03-09T19:21:16.900Z"
   },
   {
    "duration": 32,
    "start_time": "2023-03-09T19:21:16.909Z"
   },
   {
    "duration": 6,
    "start_time": "2023-03-09T19:21:16.943Z"
   },
   {
    "duration": 10,
    "start_time": "2023-03-09T19:21:16.951Z"
   },
   {
    "duration": 11,
    "start_time": "2023-03-09T19:21:16.963Z"
   },
   {
    "duration": 8,
    "start_time": "2023-03-09T19:21:16.976Z"
   },
   {
    "duration": 8,
    "start_time": "2023-03-09T19:21:16.986Z"
   },
   {
    "duration": 10,
    "start_time": "2023-03-09T19:21:16.996Z"
   },
   {
    "duration": 33,
    "start_time": "2023-03-09T19:21:17.008Z"
   },
   {
    "duration": 7,
    "start_time": "2023-03-09T19:21:17.043Z"
   },
   {
    "duration": 7,
    "start_time": "2023-03-09T19:21:17.052Z"
   },
   {
    "duration": 11,
    "start_time": "2023-03-09T19:21:17.061Z"
   },
   {
    "duration": 12,
    "start_time": "2023-03-09T19:21:17.077Z"
   },
   {
    "duration": 8,
    "start_time": "2023-03-09T19:21:17.091Z"
   },
   {
    "duration": 41,
    "start_time": "2023-03-09T19:21:17.100Z"
   },
   {
    "duration": 5,
    "start_time": "2023-03-09T19:21:17.143Z"
   },
   {
    "duration": 19,
    "start_time": "2023-03-09T19:21:17.150Z"
   },
   {
    "duration": 8,
    "start_time": "2023-03-09T19:21:17.171Z"
   },
   {
    "duration": 18,
    "start_time": "2023-03-09T19:21:17.181Z"
   },
   {
    "duration": 19,
    "start_time": "2023-03-09T19:21:17.201Z"
   },
   {
    "duration": 310,
    "start_time": "2023-03-09T19:21:17.222Z"
   },
   {
    "duration": 297,
    "start_time": "2023-03-09T19:21:17.540Z"
   },
   {
    "duration": 223,
    "start_time": "2023-03-09T19:21:17.839Z"
   },
   {
    "duration": 294,
    "start_time": "2023-03-09T19:21:18.063Z"
   },
   {
    "duration": 437,
    "start_time": "2023-03-09T19:21:18.360Z"
   },
   {
    "duration": 393,
    "start_time": "2023-03-09T19:21:18.798Z"
   },
   {
    "duration": 8,
    "start_time": "2023-03-09T19:21:19.193Z"
   },
   {
    "duration": 198,
    "start_time": "2023-03-09T19:21:19.203Z"
   },
   {
    "duration": 5,
    "start_time": "2023-03-09T19:21:19.403Z"
   },
   {
    "duration": 188,
    "start_time": "2023-03-09T19:21:19.410Z"
   },
   {
    "duration": 149,
    "start_time": "2023-03-09T19:21:19.600Z"
   },
   {
    "duration": 4,
    "start_time": "2023-03-09T19:21:19.751Z"
   },
   {
    "duration": 230,
    "start_time": "2023-03-09T19:21:19.757Z"
   },
   {
    "duration": 155,
    "start_time": "2023-03-09T19:21:19.991Z"
   },
   {
    "duration": 260,
    "start_time": "2023-03-09T19:21:20.149Z"
   },
   {
    "duration": 29,
    "start_time": "2023-03-09T19:21:20.410Z"
   },
   {
    "duration": 15,
    "start_time": "2023-03-09T19:21:20.442Z"
   },
   {
    "duration": 38,
    "start_time": "2023-03-09T19:21:20.459Z"
   },
   {
    "duration": 23,
    "start_time": "2023-03-09T19:21:20.499Z"
   },
   {
    "duration": 24,
    "start_time": "2023-03-09T19:21:20.524Z"
   },
   {
    "duration": 15,
    "start_time": "2023-03-09T19:21:20.550Z"
   }
  ],
  "kernelspec": {
   "display_name": "Python 3 (ipykernel)",
   "language": "python",
   "name": "python3"
  },
  "language_info": {
   "codemirror_mode": {
    "name": "ipython",
    "version": 3
   },
   "file_extension": ".py",
   "mimetype": "text/x-python",
   "name": "python",
   "nbconvert_exporter": "python",
   "pygments_lexer": "ipython3",
   "version": "3.9.5"
  },
  "toc": {
   "base_numbering": 1,
   "nav_menu": {},
   "number_sections": true,
   "sideBar": true,
   "skip_h1_title": true,
   "title_cell": "Table of Contents",
   "title_sidebar": "Contents",
   "toc_cell": false,
   "toc_position": {
    "height": "calc(100% - 180px)",
    "left": "10px",
    "top": "150px",
    "width": "336px"
   },
   "toc_section_display": true,
   "toc_window_display": true
  }
 },
 "nbformat": 4,
 "nbformat_minor": 2
}
